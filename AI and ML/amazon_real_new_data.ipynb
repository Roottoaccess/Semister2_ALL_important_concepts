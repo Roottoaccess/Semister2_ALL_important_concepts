{
 "cells": [
  {
   "cell_type": "code",
   "execution_count": 1,
   "metadata": {},
   "outputs": [],
   "source": [
    "import pandas as pd\n",
    "import numpy as np\n",
    "import seaborn as sns\n",
    "import matplotlib.pyplot as plt"
   ]
  },
  {
   "cell_type": "code",
   "execution_count": 2,
   "metadata": {},
   "outputs": [],
   "source": [
    "# Importing the dataset....\n",
    "df = pd.read_csv('cleaned_eda_data.csv')"
   ]
  },
  {
   "cell_type": "code",
   "execution_count": 3,
   "metadata": {},
   "outputs": [
    {
     "data": {
      "text/html": [
       "<div>\n",
       "<style scoped>\n",
       "    .dataframe tbody tr th:only-of-type {\n",
       "        vertical-align: middle;\n",
       "    }\n",
       "\n",
       "    .dataframe tbody tr th {\n",
       "        vertical-align: top;\n",
       "    }\n",
       "\n",
       "    .dataframe thead th {\n",
       "        text-align: right;\n",
       "    }\n",
       "</style>\n",
       "<table border=\"1\" class=\"dataframe\">\n",
       "  <thead>\n",
       "    <tr style=\"text-align: right;\">\n",
       "      <th></th>\n",
       "      <th>ProductID</th>\n",
       "      <th>URL</th>\n",
       "      <th>Title</th>\n",
       "      <th>Selling Price</th>\n",
       "      <th>MRP</th>\n",
       "      <th>Discount</th>\n",
       "      <th>Rating</th>\n",
       "      <th>Category</th>\n",
       "    </tr>\n",
       "  </thead>\n",
       "  <tbody>\n",
       "    <tr>\n",
       "      <th>0</th>\n",
       "      <td>B085194JFL</td>\n",
       "      <td>https://www.amazon.in/dp/B085194JFL?th=1&amp;psc=1...</td>\n",
       "      <td>AirCase Tizum Hdmi to Vga Adapter/Connector/Co...</td>\n",
       "      <td>322.0</td>\n",
       "      <td>499.0</td>\n",
       "      <td>35.0</td>\n",
       "      <td>4</td>\n",
       "      <td>Computers &amp; Accessories</td>\n",
       "    </tr>\n",
       "    <tr>\n",
       "      <th>1</th>\n",
       "      <td>B09L8DSSFH</td>\n",
       "      <td>https://www.amazon.in/dp/B09L8DSSFH?th=1&amp;psc=1...</td>\n",
       "      <td>7SEVEN® Compatible with Samsung Smart 4K Tv Re...</td>\n",
       "      <td>369.0</td>\n",
       "      <td>999.0</td>\n",
       "      <td>63.0</td>\n",
       "      <td>4</td>\n",
       "      <td>Electronics</td>\n",
       "    </tr>\n",
       "    <tr>\n",
       "      <th>2</th>\n",
       "      <td>B01N90RZ4M</td>\n",
       "      <td>https://www.amazon.in/dp/B01N90RZ4M?th=1&amp;psc=1...</td>\n",
       "      <td>Tata Sky Universal Remote Fully Compatible</td>\n",
       "      <td>NaN</td>\n",
       "      <td>NaN</td>\n",
       "      <td>NaN</td>\n",
       "      <td>3</td>\n",
       "      <td>Electronics</td>\n",
       "    </tr>\n",
       "    <tr>\n",
       "      <th>3</th>\n",
       "      <td>B07B275VN9</td>\n",
       "      <td>https://www.amazon.in/dp/B07B275VN9?th=1&amp;psc=1...</td>\n",
       "      <td>Airtel DigitalTV DTH Television, Setup Box Rem...</td>\n",
       "      <td>140.0</td>\n",
       "      <td>299.0</td>\n",
       "      <td>53.0</td>\n",
       "      <td>4</td>\n",
       "      <td>Electronics</td>\n",
       "    </tr>\n",
       "    <tr>\n",
       "      <th>4</th>\n",
       "      <td>B0141EZMAI</td>\n",
       "      <td>https://www.amazon.in/dp/B0141EZMAI?th=1&amp;psc=1...</td>\n",
       "      <td>AirCase USB WiFi Adapter for PC, 150 Mbps Wire...</td>\n",
       "      <td>NaN</td>\n",
       "      <td>NaN</td>\n",
       "      <td>NaN</td>\n",
       "      <td>4</td>\n",
       "      <td>Computers &amp; Accessories</td>\n",
       "    </tr>\n",
       "  </tbody>\n",
       "</table>\n",
       "</div>"
      ],
      "text/plain": [
       "    ProductID                                                URL  \\\n",
       "0  B085194JFL  https://www.amazon.in/dp/B085194JFL?th=1&psc=1...   \n",
       "1  B09L8DSSFH  https://www.amazon.in/dp/B09L8DSSFH?th=1&psc=1...   \n",
       "2  B01N90RZ4M  https://www.amazon.in/dp/B01N90RZ4M?th=1&psc=1...   \n",
       "3  B07B275VN9  https://www.amazon.in/dp/B07B275VN9?th=1&psc=1...   \n",
       "4  B0141EZMAI  https://www.amazon.in/dp/B0141EZMAI?th=1&psc=1...   \n",
       "\n",
       "                                               Title  Selling Price    MRP  \\\n",
       "0  AirCase Tizum Hdmi to Vga Adapter/Connector/Co...          322.0  499.0   \n",
       "1  7SEVEN® Compatible with Samsung Smart 4K Tv Re...          369.0  999.0   \n",
       "2         Tata Sky Universal Remote Fully Compatible            NaN    NaN   \n",
       "3  Airtel DigitalTV DTH Television, Setup Box Rem...          140.0  299.0   \n",
       "4  AirCase USB WiFi Adapter for PC, 150 Mbps Wire...            NaN    NaN   \n",
       "\n",
       "   Discount  Rating                 Category  \n",
       "0      35.0       4  Computers & Accessories  \n",
       "1      63.0       4              Electronics  \n",
       "2       NaN       3              Electronics  \n",
       "3      53.0       4              Electronics  \n",
       "4       NaN       4  Computers & Accessories  "
      ]
     },
     "execution_count": 3,
     "metadata": {},
     "output_type": "execute_result"
    }
   ],
   "source": [
    "df.head()"
   ]
  },
  {
   "cell_type": "code",
   "execution_count": 4,
   "metadata": {},
   "outputs": [
    {
     "name": "stdout",
     "output_type": "stream",
     "text": [
      "<class 'pandas.core.frame.DataFrame'>\n",
      "RangeIndex: 132 entries, 0 to 131\n",
      "Data columns (total 8 columns):\n",
      " #   Column         Non-Null Count  Dtype  \n",
      "---  ------         --------------  -----  \n",
      " 0   ProductID      132 non-null    object \n",
      " 1   URL            132 non-null    object \n",
      " 2   Title          125 non-null    object \n",
      " 3   Selling Price  50 non-null     float64\n",
      " 4   MRP            81 non-null     float64\n",
      " 5   Discount       81 non-null     float64\n",
      " 6   Rating         132 non-null    int64  \n",
      " 7   Category       125 non-null    object \n",
      "dtypes: float64(3), int64(1), object(4)\n",
      "memory usage: 8.4+ KB\n"
     ]
    }
   ],
   "source": [
    "df.info()"
   ]
  },
  {
   "cell_type": "code",
   "execution_count": 5,
   "metadata": {},
   "outputs": [
    {
     "data": {
      "text/plain": [
       "Selling Price\n",
       "299.0    5\n",
       "799.0    3\n",
       "259.0    3\n",
       "322.0    2\n",
       "369.0    2\n",
       "199.0    2\n",
       "249.0    2\n",
       "239.0    2\n",
       "178.0    1\n",
       "159.0    1\n",
       "739.0    1\n",
       "898.0    1\n",
       "749.0    1\n",
       "348.0    1\n",
       "949.0    1\n",
       "649.0    1\n",
       "499.0    1\n",
       "489.0    1\n",
       "449.0    1\n",
       "899.0    1\n",
       "850.0    1\n",
       "549.0    1\n",
       "148.0    1\n",
       "99.0     1\n",
       "177.0    1\n",
       "948.0    1\n",
       "251.0    1\n",
       "399.0    1\n",
       "301.0    1\n",
       "375.0    1\n",
       "229.0    1\n",
       "309.0    1\n",
       "240.0    1\n",
       "211.0    1\n",
       "258.0    1\n",
       "140.0    1\n",
       "175.0    1\n",
       "Name: count, dtype: int64"
      ]
     },
     "execution_count": 5,
     "metadata": {},
     "output_type": "execute_result"
    }
   ],
   "source": [
    "df['Selling Price'].value_counts()"
   ]
  },
  {
   "cell_type": "code",
   "execution_count": 6,
   "metadata": {},
   "outputs": [
    {
     "data": {
      "text/html": [
       "<div>\n",
       "<style scoped>\n",
       "    .dataframe tbody tr th:only-of-type {\n",
       "        vertical-align: middle;\n",
       "    }\n",
       "\n",
       "    .dataframe tbody tr th {\n",
       "        vertical-align: top;\n",
       "    }\n",
       "\n",
       "    .dataframe thead th {\n",
       "        text-align: right;\n",
       "    }\n",
       "</style>\n",
       "<table border=\"1\" class=\"dataframe\">\n",
       "  <thead>\n",
       "    <tr style=\"text-align: right;\">\n",
       "      <th></th>\n",
       "      <th>Selling Price</th>\n",
       "      <th>MRP</th>\n",
       "      <th>Discount</th>\n",
       "      <th>Rating</th>\n",
       "    </tr>\n",
       "  </thead>\n",
       "  <tbody>\n",
       "    <tr>\n",
       "      <th>count</th>\n",
       "      <td>50.000000</td>\n",
       "      <td>81.000000</td>\n",
       "      <td>81.000000</td>\n",
       "      <td>132.000000</td>\n",
       "    </tr>\n",
       "    <tr>\n",
       "      <th>mean</th>\n",
       "      <td>401.780000</td>\n",
       "      <td>249.864198</td>\n",
       "      <td>52.629630</td>\n",
       "      <td>3.704545</td>\n",
       "    </tr>\n",
       "    <tr>\n",
       "      <th>std</th>\n",
       "      <td>247.701622</td>\n",
       "      <td>367.033880</td>\n",
       "      <td>18.142109</td>\n",
       "      <td>0.930719</td>\n",
       "    </tr>\n",
       "    <tr>\n",
       "      <th>min</th>\n",
       "      <td>99.000000</td>\n",
       "      <td>1.000000</td>\n",
       "      <td>1.000000</td>\n",
       "      <td>0.000000</td>\n",
       "    </tr>\n",
       "    <tr>\n",
       "      <th>25%</th>\n",
       "      <td>239.250000</td>\n",
       "      <td>2.000000</td>\n",
       "      <td>40.000000</td>\n",
       "      <td>4.000000</td>\n",
       "    </tr>\n",
       "    <tr>\n",
       "      <th>50%</th>\n",
       "      <td>299.000000</td>\n",
       "      <td>3.000000</td>\n",
       "      <td>53.000000</td>\n",
       "      <td>4.000000</td>\n",
       "    </tr>\n",
       "    <tr>\n",
       "      <th>75%</th>\n",
       "      <td>496.500000</td>\n",
       "      <td>499.000000</td>\n",
       "      <td>67.000000</td>\n",
       "      <td>4.000000</td>\n",
       "    </tr>\n",
       "    <tr>\n",
       "      <th>max</th>\n",
       "      <td>949.000000</td>\n",
       "      <td>999.000000</td>\n",
       "      <td>87.000000</td>\n",
       "      <td>4.000000</td>\n",
       "    </tr>\n",
       "  </tbody>\n",
       "</table>\n",
       "</div>"
      ],
      "text/plain": [
       "       Selling Price         MRP   Discount      Rating\n",
       "count      50.000000   81.000000  81.000000  132.000000\n",
       "mean      401.780000  249.864198  52.629630    3.704545\n",
       "std       247.701622  367.033880  18.142109    0.930719\n",
       "min        99.000000    1.000000   1.000000    0.000000\n",
       "25%       239.250000    2.000000  40.000000    4.000000\n",
       "50%       299.000000    3.000000  53.000000    4.000000\n",
       "75%       496.500000  499.000000  67.000000    4.000000\n",
       "max       949.000000  999.000000  87.000000    4.000000"
      ]
     },
     "execution_count": 6,
     "metadata": {},
     "output_type": "execute_result"
    }
   ],
   "source": [
    "df.describe()"
   ]
  },
  {
   "cell_type": "code",
   "execution_count": 7,
   "metadata": {},
   "outputs": [
    {
     "name": "stdout",
     "output_type": "stream",
     "text": [
      "<class 'pandas.core.frame.DataFrame'>\n",
      "RangeIndex: 132 entries, 0 to 131\n",
      "Data columns (total 8 columns):\n",
      " #   Column         Non-Null Count  Dtype  \n",
      "---  ------         --------------  -----  \n",
      " 0   ProductID      132 non-null    object \n",
      " 1   URL            132 non-null    object \n",
      " 2   Title          125 non-null    object \n",
      " 3   Selling Price  50 non-null     float64\n",
      " 4   MRP            81 non-null     float64\n",
      " 5   Discount       81 non-null     float64\n",
      " 6   Rating         132 non-null    int64  \n",
      " 7   Category       125 non-null    object \n",
      "dtypes: float64(3), int64(1), object(4)\n",
      "memory usage: 8.4+ KB\n"
     ]
    }
   ],
   "source": [
    "df.info()"
   ]
  },
  {
   "cell_type": "code",
   "execution_count": 8,
   "metadata": {},
   "outputs": [
    {
     "data": {
      "image/png": "[encoded data removed]",
      "text/plain": [
       "<Figure size 640x480 with 1 Axes>"
      ]
     },
     "metadata": {},
     "output_type": "display_data"
    }
   ],
   "source": [
    "sns.countplot(y = 'Category', data = df)\n",
    "plt.show()"
   ]
  },
  {
   "cell_type": "code",
   "execution_count": 9,
   "metadata": {},
   "outputs": [
    {
     "name": "stdout",
     "output_type": "stream",
     "text": [
      "<class 'pandas.core.frame.DataFrame'>\n",
      "RangeIndex: 132 entries, 0 to 131\n",
      "Data columns (total 8 columns):\n",
      " #   Column         Non-Null Count  Dtype  \n",
      "---  ------         --------------  -----  \n",
      " 0   ProductID      132 non-null    object \n",
      " 1   URL            132 non-null    object \n",
      " 2   Title          125 non-null    object \n",
      " 3   Selling Price  50 non-null     float64\n",
      " 4   MRP            81 non-null     float64\n",
      " 5   Discount       81 non-null     float64\n",
      " 6   Rating         132 non-null    int64  \n",
      " 7   Category       125 non-null    object \n",
      "dtypes: float64(3), int64(1), object(4)\n",
      "memory usage: 8.4+ KB\n"
     ]
    }
   ],
   "source": [
    "df.info()"
   ]
  },
  {
   "cell_type": "code",
   "execution_count": 10,
   "metadata": {},
   "outputs": [
    {
     "data": {
      "image/png": "[encoded data removed]",
      "text/plain": [
       "<Figure size 640x480 with 1 Axes>"
      ]
     },
     "metadata": {},
     "output_type": "display_data"
    }
   ],
   "source": [
    "sns.countplot(y = 'Selling Price',data = df)\n",
    "plt.show()"
   ]
  },
  {
   "cell_type": "code",
   "execution_count": 11,
   "metadata": {},
   "outputs": [
    {
     "name": "stdout",
     "output_type": "stream",
     "text": [
      "<class 'pandas.core.frame.DataFrame'>\n",
      "RangeIndex: 132 entries, 0 to 131\n",
      "Data columns (total 8 columns):\n",
      " #   Column         Non-Null Count  Dtype  \n",
      "---  ------         --------------  -----  \n",
      " 0   ProductID      132 non-null    object \n",
      " 1   URL            132 non-null    object \n",
      " 2   Title          125 non-null    object \n",
      " 3   Selling Price  50 non-null     float64\n",
      " 4   MRP            81 non-null     float64\n",
      " 5   Discount       81 non-null     float64\n",
      " 6   Rating         132 non-null    int64  \n",
      " 7   Category       125 non-null    object \n",
      "dtypes: float64(3), int64(1), object(4)\n",
      "memory usage: 8.4+ KB\n"
     ]
    }
   ],
   "source": [
    "df.info()"
   ]
  },
  {
   "cell_type": "code",
   "execution_count": 12,
   "metadata": {},
   "outputs": [
    {
     "data": {
      "image/png": "[encoded data removed]",
      "text/plain": [
       "<Figure size 511.111x500 with 1 Axes>"
      ]
     },
     "metadata": {},
     "output_type": "display_data"
    }
   ],
   "source": [
    "sns.catplot(y = 'Category', x = 'Selling Price', data = df)\n",
    "plt.show()"
   ]
  },
  {
   "cell_type": "code",
   "execution_count": 13,
   "metadata": {},
   "outputs": [
    {
     "data": {
      "text/plain": [
       "Category\n",
       "Home & Kitchen             59\n",
       "Electronics                40\n",
       "Computers & Accessories    22\n",
       "Toys & Games                2\n",
       "Musical Instruments         1\n",
       "Car & Motorbike             1\n",
       "Name: count, dtype: int64"
      ]
     },
     "execution_count": 13,
     "metadata": {},
     "output_type": "execute_result"
    }
   ],
   "source": [
    "df['Category'].value_counts()"
   ]
  },
  {
   "cell_type": "code",
   "execution_count": 14,
   "metadata": {},
   "outputs": [
    {
     "name": "stdout",
     "output_type": "stream",
     "text": [
      "<class 'pandas.core.frame.DataFrame'>\n",
      "RangeIndex: 132 entries, 0 to 131\n",
      "Data columns (total 8 columns):\n",
      " #   Column         Non-Null Count  Dtype  \n",
      "---  ------         --------------  -----  \n",
      " 0   ProductID      132 non-null    object \n",
      " 1   URL            132 non-null    object \n",
      " 2   Title          125 non-null    object \n",
      " 3   Selling Price  50 non-null     float64\n",
      " 4   MRP            81 non-null     float64\n",
      " 5   Discount       81 non-null     float64\n",
      " 6   Rating         132 non-null    int64  \n",
      " 7   Category       125 non-null    object \n",
      "dtypes: float64(3), int64(1), object(4)\n",
      "memory usage: 8.4+ KB\n"
     ]
    }
   ],
   "source": [
    "df.info()"
   ]
  },
  {
   "cell_type": "code",
   "execution_count": 15,
   "metadata": {},
   "outputs": [
    {
     "data": {
      "image/png": "[encoded data removed]",
      "text/plain": [
       "<Figure size 761.111x500 with 1 Axes>"
      ]
     },
     "metadata": {},
     "output_type": "display_data"
    }
   ],
   "source": [
    "sns.catplot(x = 'Discount', y = 'Category',data = df, kind='strip', aspect=1.5)\n",
    "plt.show()"
   ]
  },
  {
   "cell_type": "code",
   "execution_count": 16,
   "metadata": {},
   "outputs": [],
   "source": [
    "# df['Toys&Games'].value_counts()"
   ]
  },
  {
   "cell_type": "code",
   "execution_count": 17,
   "metadata": {},
   "outputs": [
    {
     "name": "stdout",
     "output_type": "stream",
     "text": [
      "<class 'pandas.core.frame.DataFrame'>\n",
      "RangeIndex: 132 entries, 0 to 131\n",
      "Data columns (total 8 columns):\n",
      " #   Column         Non-Null Count  Dtype  \n",
      "---  ------         --------------  -----  \n",
      " 0   ProductID      132 non-null    object \n",
      " 1   URL            132 non-null    object \n",
      " 2   Title          125 non-null    object \n",
      " 3   Selling Price  50 non-null     float64\n",
      " 4   MRP            81 non-null     float64\n",
      " 5   Discount       81 non-null     float64\n",
      " 6   Rating         132 non-null    int64  \n",
      " 7   Category       125 non-null    object \n",
      "dtypes: float64(3), int64(1), object(4)\n",
      "memory usage: 8.4+ KB\n"
     ]
    }
   ],
   "source": [
    "df.info()"
   ]
  },
  {
   "cell_type": "code",
   "execution_count": 18,
   "metadata": {},
   "outputs": [
    {
     "data": {
      "text/html": [
       "<div>\n",
       "<style scoped>\n",
       "    .dataframe tbody tr th:only-of-type {\n",
       "        vertical-align: middle;\n",
       "    }\n",
       "\n",
       "    .dataframe tbody tr th {\n",
       "        vertical-align: top;\n",
       "    }\n",
       "\n",
       "    .dataframe thead th {\n",
       "        text-align: right;\n",
       "    }\n",
       "</style>\n",
       "<table border=\"1\" class=\"dataframe\">\n",
       "  <thead>\n",
       "    <tr style=\"text-align: right;\">\n",
       "      <th></th>\n",
       "      <th>Selling Price</th>\n",
       "      <th>MRP</th>\n",
       "      <th>Discount</th>\n",
       "      <th>Rating</th>\n",
       "    </tr>\n",
       "  </thead>\n",
       "  <tbody>\n",
       "    <tr>\n",
       "      <th>count</th>\n",
       "      <td>50.000000</td>\n",
       "      <td>81.000000</td>\n",
       "      <td>81.000000</td>\n",
       "      <td>132.000000</td>\n",
       "    </tr>\n",
       "    <tr>\n",
       "      <th>mean</th>\n",
       "      <td>401.780000</td>\n",
       "      <td>249.864198</td>\n",
       "      <td>52.629630</td>\n",
       "      <td>3.704545</td>\n",
       "    </tr>\n",
       "    <tr>\n",
       "      <th>std</th>\n",
       "      <td>247.701622</td>\n",
       "      <td>367.033880</td>\n",
       "      <td>18.142109</td>\n",
       "      <td>0.930719</td>\n",
       "    </tr>\n",
       "    <tr>\n",
       "      <th>min</th>\n",
       "      <td>99.000000</td>\n",
       "      <td>1.000000</td>\n",
       "      <td>1.000000</td>\n",
       "      <td>0.000000</td>\n",
       "    </tr>\n",
       "    <tr>\n",
       "      <th>25%</th>\n",
       "      <td>239.250000</td>\n",
       "      <td>2.000000</td>\n",
       "      <td>40.000000</td>\n",
       "      <td>4.000000</td>\n",
       "    </tr>\n",
       "    <tr>\n",
       "      <th>50%</th>\n",
       "      <td>299.000000</td>\n",
       "      <td>3.000000</td>\n",
       "      <td>53.000000</td>\n",
       "      <td>4.000000</td>\n",
       "    </tr>\n",
       "    <tr>\n",
       "      <th>75%</th>\n",
       "      <td>496.500000</td>\n",
       "      <td>499.000000</td>\n",
       "      <td>67.000000</td>\n",
       "      <td>4.000000</td>\n",
       "    </tr>\n",
       "    <tr>\n",
       "      <th>max</th>\n",
       "      <td>949.000000</td>\n",
       "      <td>999.000000</td>\n",
       "      <td>87.000000</td>\n",
       "      <td>4.000000</td>\n",
       "    </tr>\n",
       "  </tbody>\n",
       "</table>\n",
       "</div>"
      ],
      "text/plain": [
       "       Selling Price         MRP   Discount      Rating\n",
       "count      50.000000   81.000000  81.000000  132.000000\n",
       "mean      401.780000  249.864198  52.629630    3.704545\n",
       "std       247.701622  367.033880  18.142109    0.930719\n",
       "min        99.000000    1.000000   1.000000    0.000000\n",
       "25%       239.250000    2.000000  40.000000    4.000000\n",
       "50%       299.000000    3.000000  53.000000    4.000000\n",
       "75%       496.500000  499.000000  67.000000    4.000000\n",
       "max       949.000000  999.000000  87.000000    4.000000"
      ]
     },
     "execution_count": 18,
     "metadata": {},
     "output_type": "execute_result"
    }
   ],
   "source": [
    "df.describe()"
   ]
  },
  {
   "cell_type": "code",
   "execution_count": 19,
   "metadata": {},
   "outputs": [
    {
     "data": {
      "text/html": [
       "<div>\n",
       "<style scoped>\n",
       "    .dataframe tbody tr th:only-of-type {\n",
       "        vertical-align: middle;\n",
       "    }\n",
       "\n",
       "    .dataframe tbody tr th {\n",
       "        vertical-align: top;\n",
       "    }\n",
       "\n",
       "    .dataframe thead th {\n",
       "        text-align: right;\n",
       "    }\n",
       "</style>\n",
       "<table border=\"1\" class=\"dataframe\">\n",
       "  <thead>\n",
       "    <tr style=\"text-align: right;\">\n",
       "      <th></th>\n",
       "      <th>Selling Price</th>\n",
       "      <th>MRP</th>\n",
       "      <th>Discount</th>\n",
       "      <th>Rating</th>\n",
       "    </tr>\n",
       "  </thead>\n",
       "  <tbody>\n",
       "    <tr>\n",
       "      <th>Selling Price</th>\n",
       "      <td>1.000000</td>\n",
       "      <td>-0.558551</td>\n",
       "      <td>-0.187606</td>\n",
       "      <td>0.059878</td>\n",
       "    </tr>\n",
       "    <tr>\n",
       "      <th>MRP</th>\n",
       "      <td>-0.558551</td>\n",
       "      <td>1.000000</td>\n",
       "      <td>0.366271</td>\n",
       "      <td>0.155034</td>\n",
       "    </tr>\n",
       "    <tr>\n",
       "      <th>Discount</th>\n",
       "      <td>-0.187606</td>\n",
       "      <td>0.366271</td>\n",
       "      <td>1.000000</td>\n",
       "      <td>-0.017323</td>\n",
       "    </tr>\n",
       "    <tr>\n",
       "      <th>Rating</th>\n",
       "      <td>0.059878</td>\n",
       "      <td>0.155034</td>\n",
       "      <td>-0.017323</td>\n",
       "      <td>1.000000</td>\n",
       "    </tr>\n",
       "  </tbody>\n",
       "</table>\n",
       "</div>"
      ],
      "text/plain": [
       "               Selling Price       MRP  Discount    Rating\n",
       "Selling Price       1.000000 -0.558551 -0.187606  0.059878\n",
       "MRP                -0.558551  1.000000  0.366271  0.155034\n",
       "Discount           -0.187606  0.366271  1.000000 -0.017323\n",
       "Rating              0.059878  0.155034 -0.017323  1.000000"
      ]
     },
     "execution_count": 19,
     "metadata": {},
     "output_type": "execute_result"
    }
   ],
   "source": [
    "df.corr(numeric_only=True)"
   ]
  },
  {
   "cell_type": "code",
   "execution_count": 20,
   "metadata": {},
   "outputs": [
    {
     "data": {
      "image/png": "[encoded data removed]",
      "text/plain": [
       "<Figure size 640x480 with 2 Axes>"
      ]
     },
     "metadata": {},
     "output_type": "display_data"
    }
   ],
   "source": [
    "sns.heatmap(df.corr(numeric_only=True),annot=True)\n",
    "plt.show()"
   ]
  },
  {
   "cell_type": "code",
   "execution_count": 21,
   "metadata": {},
   "outputs": [
    {
     "name": "stdout",
     "output_type": "stream",
     "text": [
      "<class 'pandas.core.frame.DataFrame'>\n",
      "RangeIndex: 132 entries, 0 to 131\n",
      "Data columns (total 8 columns):\n",
      " #   Column         Non-Null Count  Dtype  \n",
      "---  ------         --------------  -----  \n",
      " 0   ProductID      132 non-null    object \n",
      " 1   URL            132 non-null    object \n",
      " 2   Title          125 non-null    object \n",
      " 3   Selling Price  50 non-null     float64\n",
      " 4   MRP            81 non-null     float64\n",
      " 5   Discount       81 non-null     float64\n",
      " 6   Rating         132 non-null    int64  \n",
      " 7   Category       125 non-null    object \n",
      "dtypes: float64(3), int64(1), object(4)\n",
      "memory usage: 8.4+ KB\n"
     ]
    }
   ],
   "source": [
    "df.info()"
   ]
  },
  {
   "cell_type": "code",
   "execution_count": 22,
   "metadata": {},
   "outputs": [
    {
     "data": {
      "image/png": "[encoded data removed]",
      "text/plain": [
       "<Figure size 640x480 with 1 Axes>"
      ]
     },
     "metadata": {},
     "output_type": "display_data"
    }
   ],
   "source": [
    "sns.scatterplot(y = 'Selling Price',x = 'MRP', data = df)\n",
    "plt.title('Relation of Selling price and MRP..')\n",
    "plt.show()"
   ]
  },
  {
   "cell_type": "code",
   "execution_count": 23,
   "metadata": {},
   "outputs": [
    {
     "data": {
      "image/png": "[encoded data removed]",
      "text/plain": [
       "<Figure size 640x480 with 1 Axes>"
      ]
     },
     "metadata": {},
     "output_type": "display_data"
    }
   ],
   "source": [
    "sns.scatterplot(y = 'Discount',x = 'MRP', data = df)\n",
    "plt.title('Relation of Selling price and MRP..')\n",
    "plt.show()"
   ]
  },
  {
   "cell_type": "code",
   "execution_count": 24,
   "metadata": {},
   "outputs": [
    {
     "data": {
      "text/plain": [
       "Index([ 14,  31,  32,  33,  38,  42,  49,  59,  60,  67,  68,  69,  70,  72,\n",
       "        79,  80,  85,  94, 102, 116],\n",
       "      dtype='int64')"
      ]
     },
     "execution_count": 24,
     "metadata": {},
     "output_type": "execute_result"
    }
   ],
   "source": [
    "df[df['MRP'] == 1].index"
   ]
  },
  {
   "cell_type": "code",
   "execution_count": 25,
   "metadata": {},
   "outputs": [
    {
     "data": {
      "text/plain": [
       "Index(['ProductID', 'URL', 'Title', 'Selling Price', 'MRP', 'Discount',\n",
       "       'Rating', 'Category'],\n",
       "      dtype='object')"
      ]
     },
     "execution_count": 25,
     "metadata": {},
     "output_type": "execute_result"
    }
   ],
   "source": [
    "df.columns"
   ]
  },
  {
   "cell_type": "code",
   "execution_count": 26,
   "metadata": {},
   "outputs": [
    {
     "data": {
      "image/png": "[encoded data removed]",
      "text/plain": [
       "<Figure size 640x480 with 1 Axes>"
      ]
     },
     "metadata": {},
     "output_type": "display_data"
    }
   ],
   "source": [
    "sns.boxplot(x = 'MRP',data = df)\n",
    "plt.show()"
   ]
  },
  {
   "cell_type": "code",
   "execution_count": 27,
   "metadata": {},
   "outputs": [
    {
     "data": {
      "image/png": "[encoded data removed]",
      "text/plain": [
       "<Figure size 640x480 with 1 Axes>"
      ]
     },
     "metadata": {},
     "output_type": "display_data"
    }
   ],
   "source": [
    "sns.boxplot(x = 'Selling Price',data = df)\n",
    "plt.show()"
   ]
  },
  {
   "cell_type": "code",
   "execution_count": 28,
   "metadata": {},
   "outputs": [
    {
     "data": {
      "image/png": "[encoded data removed]",
      "text/plain": [
       "<Figure size 640x480 with 1 Axes>"
      ]
     },
     "metadata": {},
     "output_type": "display_data"
    }
   ],
   "source": [
    "sns.boxplot(x = 'Discount',data = df)\n",
    "plt.show()"
   ]
  },
  {
   "cell_type": "code",
   "execution_count": 29,
   "metadata": {},
   "outputs": [
    {
     "data": {
      "image/png": "[encoded data removed]",
      "text/plain": [
       "<Figure size 640x480 with 1 Axes>"
      ]
     },
     "metadata": {},
     "output_type": "display_data"
    }
   ],
   "source": [
    "sns.boxplot(x = 'Rating',data = df)\n",
    "plt.show()"
   ]
  },
  {
   "cell_type": "code",
   "execution_count": 30,
   "metadata": {},
   "outputs": [
    {
     "data": {
      "text/html": [
       "<div>\n",
       "<style scoped>\n",
       "    .dataframe tbody tr th:only-of-type {\n",
       "        vertical-align: middle;\n",
       "    }\n",
       "\n",
       "    .dataframe tbody tr th {\n",
       "        vertical-align: top;\n",
       "    }\n",
       "\n",
       "    .dataframe thead th {\n",
       "        text-align: right;\n",
       "    }\n",
       "</style>\n",
       "<table border=\"1\" class=\"dataframe\">\n",
       "  <thead>\n",
       "    <tr style=\"text-align: right;\">\n",
       "      <th></th>\n",
       "      <th>Selling Price</th>\n",
       "      <th>MRP</th>\n",
       "      <th>Discount</th>\n",
       "      <th>Rating</th>\n",
       "    </tr>\n",
       "  </thead>\n",
       "  <tbody>\n",
       "    <tr>\n",
       "      <th>count</th>\n",
       "      <td>50.000000</td>\n",
       "      <td>81.000000</td>\n",
       "      <td>81.000000</td>\n",
       "      <td>132.000000</td>\n",
       "    </tr>\n",
       "    <tr>\n",
       "      <th>mean</th>\n",
       "      <td>401.780000</td>\n",
       "      <td>249.864198</td>\n",
       "      <td>52.629630</td>\n",
       "      <td>3.704545</td>\n",
       "    </tr>\n",
       "    <tr>\n",
       "      <th>std</th>\n",
       "      <td>247.701622</td>\n",
       "      <td>367.033880</td>\n",
       "      <td>18.142109</td>\n",
       "      <td>0.930719</td>\n",
       "    </tr>\n",
       "    <tr>\n",
       "      <th>min</th>\n",
       "      <td>99.000000</td>\n",
       "      <td>1.000000</td>\n",
       "      <td>1.000000</td>\n",
       "      <td>0.000000</td>\n",
       "    </tr>\n",
       "    <tr>\n",
       "      <th>25%</th>\n",
       "      <td>239.250000</td>\n",
       "      <td>2.000000</td>\n",
       "      <td>40.000000</td>\n",
       "      <td>4.000000</td>\n",
       "    </tr>\n",
       "    <tr>\n",
       "      <th>50%</th>\n",
       "      <td>299.000000</td>\n",
       "      <td>3.000000</td>\n",
       "      <td>53.000000</td>\n",
       "      <td>4.000000</td>\n",
       "    </tr>\n",
       "    <tr>\n",
       "      <th>75%</th>\n",
       "      <td>496.500000</td>\n",
       "      <td>499.000000</td>\n",
       "      <td>67.000000</td>\n",
       "      <td>4.000000</td>\n",
       "    </tr>\n",
       "    <tr>\n",
       "      <th>max</th>\n",
       "      <td>949.000000</td>\n",
       "      <td>999.000000</td>\n",
       "      <td>87.000000</td>\n",
       "      <td>4.000000</td>\n",
       "    </tr>\n",
       "  </tbody>\n",
       "</table>\n",
       "</div>"
      ],
      "text/plain": [
       "       Selling Price         MRP   Discount      Rating\n",
       "count      50.000000   81.000000  81.000000  132.000000\n",
       "mean      401.780000  249.864198  52.629630    3.704545\n",
       "std       247.701622  367.033880  18.142109    0.930719\n",
       "min        99.000000    1.000000   1.000000    0.000000\n",
       "25%       239.250000    2.000000  40.000000    4.000000\n",
       "50%       299.000000    3.000000  53.000000    4.000000\n",
       "75%       496.500000  499.000000  67.000000    4.000000\n",
       "max       949.000000  999.000000  87.000000    4.000000"
      ]
     },
     "execution_count": 30,
     "metadata": {},
     "output_type": "execute_result"
    }
   ],
   "source": [
    "df.describe()"
   ]
  },
  {
   "cell_type": "code",
   "execution_count": 31,
   "metadata": {},
   "outputs": [
    {
     "data": {
      "text/plain": [
       "np.float64(4.0)"
      ]
     },
     "execution_count": 31,
     "metadata": {},
     "output_type": "execute_result"
    }
   ],
   "source": [
    "# Removing the outliers from the rating column\n",
    "q1 = df['Rating'].quantile(0.25)\n",
    "q1"
   ]
  },
  {
   "cell_type": "code",
   "execution_count": 32,
   "metadata": {},
   "outputs": [
    {
     "data": {
      "text/plain": [
       "np.float64(4.0)"
      ]
     },
     "execution_count": 32,
     "metadata": {},
     "output_type": "execute_result"
    }
   ],
   "source": [
    "q3 = df['Rating'].quantile(0.75)\n",
    "q3"
   ]
  },
  {
   "cell_type": "code",
   "execution_count": 33,
   "metadata": {},
   "outputs": [
    {
     "name": "stdout",
     "output_type": "stream",
     "text": [
      "The inter quatile range is: 0.0\n"
     ]
    }
   ],
   "source": [
    "# finding the inter quatile range\n",
    "IQR = q3 - q1\n",
    "print(f'The inter quatile range is: {IQR}')"
   ]
  },
  {
   "cell_type": "code",
   "execution_count": 34,
   "metadata": {},
   "outputs": [
    {
     "name": "stdout",
     "output_type": "stream",
     "text": [
      "4.0 -- 4.0\n"
     ]
    }
   ],
   "source": [
    "lowerbound = q1 - 1.5 * IQR\n",
    "upperbound = q3 + 1.5 * IQR\n",
    "\n",
    "print(f'{lowerbound} -- {upperbound}')"
   ]
  },
  {
   "cell_type": "code",
   "execution_count": 35,
   "metadata": {},
   "outputs": [
    {
     "data": {
      "text/plain": [
       "Index([2, 8, 14, 37, 62, 64, 67, 92, 96, 99, 103, 106, 108, 111, 120, 127,\n",
       "       130],\n",
       "      dtype='int64')"
      ]
     },
     "execution_count": 35,
     "metadata": {},
     "output_type": "execute_result"
    }
   ],
   "source": [
    "outlier = df[(df['Rating'] < lowerbound) | (df['Rating'] > upperbound)]\n",
    "outlier.index"
   ]
  },
  {
   "cell_type": "code",
   "execution_count": 36,
   "metadata": {},
   "outputs": [],
   "source": [
    "# df.drop(outlier.index, inplace = True, axis= 0)"
   ]
  },
  {
   "cell_type": "code",
   "execution_count": 37,
   "metadata": {},
   "outputs": [
    {
     "data": {
      "image/png": "[encoded data removed]",
      "text/plain": [
       "<Figure size 640x480 with 1 Axes>"
      ]
     },
     "metadata": {},
     "output_type": "display_data"
    }
   ],
   "source": [
    "sns.boxplot(x = 'Rating', data = df)\n",
    "plt.title('Removed outlier')\n",
    "plt.show()"
   ]
  },
  {
   "cell_type": "code",
   "execution_count": 38,
   "metadata": {},
   "outputs": [
    {
     "data": {
      "text/plain": [
       "Rating\n",
       "4    115\n",
       "3      9\n",
       "0      7\n",
       "2      1\n",
       "Name: count, dtype: int64"
      ]
     },
     "execution_count": 38,
     "metadata": {},
     "output_type": "execute_result"
    }
   ],
   "source": [
    "df['Rating'].value_counts()"
   ]
  },
  {
   "cell_type": "code",
   "execution_count": 39,
   "metadata": {},
   "outputs": [
    {
     "data": {
      "text/html": [
       "<div>\n",
       "<style scoped>\n",
       "    .dataframe tbody tr th:only-of-type {\n",
       "        vertical-align: middle;\n",
       "    }\n",
       "\n",
       "    .dataframe tbody tr th {\n",
       "        vertical-align: top;\n",
       "    }\n",
       "\n",
       "    .dataframe thead th {\n",
       "        text-align: right;\n",
       "    }\n",
       "</style>\n",
       "<table border=\"1\" class=\"dataframe\">\n",
       "  <thead>\n",
       "    <tr style=\"text-align: right;\">\n",
       "      <th></th>\n",
       "      <th>ProductID</th>\n",
       "      <th>URL</th>\n",
       "      <th>Title</th>\n",
       "      <th>Selling Price</th>\n",
       "      <th>MRP</th>\n",
       "      <th>Discount</th>\n",
       "      <th>Rating</th>\n",
       "      <th>Category</th>\n",
       "    </tr>\n",
       "  </thead>\n",
       "  <tbody>\n",
       "    <tr>\n",
       "      <th>0</th>\n",
       "      <td>B085194JFL</td>\n",
       "      <td>https://www.amazon.in/dp/B085194JFL?th=1&amp;psc=1...</td>\n",
       "      <td>AirCase Tizum Hdmi to Vga Adapter/Connector/Co...</td>\n",
       "      <td>322.0</td>\n",
       "      <td>499.0</td>\n",
       "      <td>35.0</td>\n",
       "      <td>4</td>\n",
       "      <td>Computers &amp; Accessories</td>\n",
       "    </tr>\n",
       "    <tr>\n",
       "      <th>1</th>\n",
       "      <td>B09L8DSSFH</td>\n",
       "      <td>https://www.amazon.in/dp/B09L8DSSFH?th=1&amp;psc=1...</td>\n",
       "      <td>7SEVEN® Compatible with Samsung Smart 4K Tv Re...</td>\n",
       "      <td>369.0</td>\n",
       "      <td>999.0</td>\n",
       "      <td>63.0</td>\n",
       "      <td>4</td>\n",
       "      <td>Electronics</td>\n",
       "    </tr>\n",
       "    <tr>\n",
       "      <th>2</th>\n",
       "      <td>B01N90RZ4M</td>\n",
       "      <td>https://www.amazon.in/dp/B01N90RZ4M?th=1&amp;psc=1...</td>\n",
       "      <td>Tata Sky Universal Remote Fully Compatible</td>\n",
       "      <td>NaN</td>\n",
       "      <td>NaN</td>\n",
       "      <td>NaN</td>\n",
       "      <td>3</td>\n",
       "      <td>Electronics</td>\n",
       "    </tr>\n",
       "    <tr>\n",
       "      <th>3</th>\n",
       "      <td>B07B275VN9</td>\n",
       "      <td>https://www.amazon.in/dp/B07B275VN9?th=1&amp;psc=1...</td>\n",
       "      <td>Airtel DigitalTV DTH Television, Setup Box Rem...</td>\n",
       "      <td>140.0</td>\n",
       "      <td>299.0</td>\n",
       "      <td>53.0</td>\n",
       "      <td>4</td>\n",
       "      <td>Electronics</td>\n",
       "    </tr>\n",
       "    <tr>\n",
       "      <th>4</th>\n",
       "      <td>B0141EZMAI</td>\n",
       "      <td>https://www.amazon.in/dp/B0141EZMAI?th=1&amp;psc=1...</td>\n",
       "      <td>AirCase USB WiFi Adapter for PC, 150 Mbps Wire...</td>\n",
       "      <td>NaN</td>\n",
       "      <td>NaN</td>\n",
       "      <td>NaN</td>\n",
       "      <td>4</td>\n",
       "      <td>Computers &amp; Accessories</td>\n",
       "    </tr>\n",
       "  </tbody>\n",
       "</table>\n",
       "</div>"
      ],
      "text/plain": [
       "    ProductID                                                URL  \\\n",
       "0  B085194JFL  https://www.amazon.in/dp/B085194JFL?th=1&psc=1...   \n",
       "1  B09L8DSSFH  https://www.amazon.in/dp/B09L8DSSFH?th=1&psc=1...   \n",
       "2  B01N90RZ4M  https://www.amazon.in/dp/B01N90RZ4M?th=1&psc=1...   \n",
       "3  B07B275VN9  https://www.amazon.in/dp/B07B275VN9?th=1&psc=1...   \n",
       "4  B0141EZMAI  https://www.amazon.in/dp/B0141EZMAI?th=1&psc=1...   \n",
       "\n",
       "                                               Title  Selling Price    MRP  \\\n",
       "0  AirCase Tizum Hdmi to Vga Adapter/Connector/Co...          322.0  499.0   \n",
       "1  7SEVEN® Compatible with Samsung Smart 4K Tv Re...          369.0  999.0   \n",
       "2         Tata Sky Universal Remote Fully Compatible            NaN    NaN   \n",
       "3  Airtel DigitalTV DTH Television, Setup Box Rem...          140.0  299.0   \n",
       "4  AirCase USB WiFi Adapter for PC, 150 Mbps Wire...            NaN    NaN   \n",
       "\n",
       "   Discount  Rating                 Category  \n",
       "0      35.0       4  Computers & Accessories  \n",
       "1      63.0       4              Electronics  \n",
       "2       NaN       3              Electronics  \n",
       "3      53.0       4              Electronics  \n",
       "4       NaN       4  Computers & Accessories  "
      ]
     },
     "execution_count": 39,
     "metadata": {},
     "output_type": "execute_result"
    }
   ],
   "source": [
    "df.head()"
   ]
  },
  {
   "cell_type": "code",
   "execution_count": 40,
   "metadata": {},
   "outputs": [
    {
     "data": {
      "image/png": "[encoded data removed]",
      "text/plain": [
       "<Figure size 640x480 with 1 Axes>"
      ]
     },
     "metadata": {},
     "output_type": "display_data"
    }
   ],
   "source": [
    "sns.countplot(x = 'Rating',data = df)\n",
    "plt.title('Counting the range of rating done by the users')\n",
    "plt.show()"
   ]
  },
  {
   "cell_type": "code",
   "execution_count": 41,
   "metadata": {},
   "outputs": [
    {
     "data": {
      "text/plain": [
       "Index(['ProductID', 'URL', 'Title', 'Selling Price', 'MRP', 'Discount',\n",
       "       'Rating', 'Category'],\n",
       "      dtype='object')"
      ]
     },
     "execution_count": 41,
     "metadata": {},
     "output_type": "execute_result"
    }
   ],
   "source": [
    "df.columns"
   ]
  },
  {
   "cell_type": "code",
   "execution_count": 42,
   "metadata": {},
   "outputs": [],
   "source": [
    "del df['URL']"
   ]
  },
  {
   "cell_type": "code",
   "execution_count": 43,
   "metadata": {},
   "outputs": [
    {
     "data": {
      "text/html": [
       "<div>\n",
       "<style scoped>\n",
       "    .dataframe tbody tr th:only-of-type {\n",
       "        vertical-align: middle;\n",
       "    }\n",
       "\n",
       "    .dataframe tbody tr th {\n",
       "        vertical-align: top;\n",
       "    }\n",
       "\n",
       "    .dataframe thead th {\n",
       "        text-align: right;\n",
       "    }\n",
       "</style>\n",
       "<table border=\"1\" class=\"dataframe\">\n",
       "  <thead>\n",
       "    <tr style=\"text-align: right;\">\n",
       "      <th></th>\n",
       "      <th>ProductID</th>\n",
       "      <th>Title</th>\n",
       "      <th>Selling Price</th>\n",
       "      <th>MRP</th>\n",
       "      <th>Discount</th>\n",
       "      <th>Rating</th>\n",
       "      <th>Category</th>\n",
       "    </tr>\n",
       "  </thead>\n",
       "  <tbody>\n",
       "    <tr>\n",
       "      <th>0</th>\n",
       "      <td>B085194JFL</td>\n",
       "      <td>AirCase Tizum Hdmi to Vga Adapter/Connector/Co...</td>\n",
       "      <td>322.0</td>\n",
       "      <td>499.0</td>\n",
       "      <td>35.0</td>\n",
       "      <td>4</td>\n",
       "      <td>Computers &amp; Accessories</td>\n",
       "    </tr>\n",
       "    <tr>\n",
       "      <th>1</th>\n",
       "      <td>B09L8DSSFH</td>\n",
       "      <td>7SEVEN® Compatible with Samsung Smart 4K Tv Re...</td>\n",
       "      <td>369.0</td>\n",
       "      <td>999.0</td>\n",
       "      <td>63.0</td>\n",
       "      <td>4</td>\n",
       "      <td>Electronics</td>\n",
       "    </tr>\n",
       "    <tr>\n",
       "      <th>2</th>\n",
       "      <td>B01N90RZ4M</td>\n",
       "      <td>Tata Sky Universal Remote Fully Compatible</td>\n",
       "      <td>NaN</td>\n",
       "      <td>NaN</td>\n",
       "      <td>NaN</td>\n",
       "      <td>3</td>\n",
       "      <td>Electronics</td>\n",
       "    </tr>\n",
       "    <tr>\n",
       "      <th>3</th>\n",
       "      <td>B07B275VN9</td>\n",
       "      <td>Airtel DigitalTV DTH Television, Setup Box Rem...</td>\n",
       "      <td>140.0</td>\n",
       "      <td>299.0</td>\n",
       "      <td>53.0</td>\n",
       "      <td>4</td>\n",
       "      <td>Electronics</td>\n",
       "    </tr>\n",
       "    <tr>\n",
       "      <th>4</th>\n",
       "      <td>B0141EZMAI</td>\n",
       "      <td>AirCase USB WiFi Adapter for PC, 150 Mbps Wire...</td>\n",
       "      <td>NaN</td>\n",
       "      <td>NaN</td>\n",
       "      <td>NaN</td>\n",
       "      <td>4</td>\n",
       "      <td>Computers &amp; Accessories</td>\n",
       "    </tr>\n",
       "  </tbody>\n",
       "</table>\n",
       "</div>"
      ],
      "text/plain": [
       "    ProductID                                              Title  \\\n",
       "0  B085194JFL  AirCase Tizum Hdmi to Vga Adapter/Connector/Co...   \n",
       "1  B09L8DSSFH  7SEVEN® Compatible with Samsung Smart 4K Tv Re...   \n",
       "2  B01N90RZ4M         Tata Sky Universal Remote Fully Compatible   \n",
       "3  B07B275VN9  Airtel DigitalTV DTH Television, Setup Box Rem...   \n",
       "4  B0141EZMAI  AirCase USB WiFi Adapter for PC, 150 Mbps Wire...   \n",
       "\n",
       "   Selling Price    MRP  Discount  Rating                 Category  \n",
       "0          322.0  499.0      35.0       4  Computers & Accessories  \n",
       "1          369.0  999.0      63.0       4              Electronics  \n",
       "2            NaN    NaN       NaN       3              Electronics  \n",
       "3          140.0  299.0      53.0       4              Electronics  \n",
       "4            NaN    NaN       NaN       4  Computers & Accessories  "
      ]
     },
     "execution_count": 43,
     "metadata": {},
     "output_type": "execute_result"
    }
   ],
   "source": [
    "df.head()"
   ]
  },
  {
   "cell_type": "code",
   "execution_count": 44,
   "metadata": {},
   "outputs": [
    {
     "data": {
      "text/html": [
       "<div>\n",
       "<style scoped>\n",
       "    .dataframe tbody tr th:only-of-type {\n",
       "        vertical-align: middle;\n",
       "    }\n",
       "\n",
       "    .dataframe tbody tr th {\n",
       "        vertical-align: top;\n",
       "    }\n",
       "\n",
       "    .dataframe thead th {\n",
       "        text-align: right;\n",
       "    }\n",
       "</style>\n",
       "<table border=\"1\" class=\"dataframe\">\n",
       "  <thead>\n",
       "    <tr style=\"text-align: right;\">\n",
       "      <th></th>\n",
       "      <th>ProductID</th>\n",
       "      <th>Title</th>\n",
       "      <th>Selling Price</th>\n",
       "      <th>MRP</th>\n",
       "      <th>Discount</th>\n",
       "      <th>Rating</th>\n",
       "      <th>Category</th>\n",
       "    </tr>\n",
       "  </thead>\n",
       "  <tbody>\n",
       "    <tr>\n",
       "      <th>0</th>\n",
       "      <td>B085194JFL</td>\n",
       "      <td>AirCase Tizum Hdmi to Vga Adapter/Connector/Co...</td>\n",
       "      <td>322.0</td>\n",
       "      <td>499.0</td>\n",
       "      <td>35.0</td>\n",
       "      <td>4</td>\n",
       "      <td>Computers &amp; Accessories</td>\n",
       "    </tr>\n",
       "    <tr>\n",
       "      <th>1</th>\n",
       "      <td>B09L8DSSFH</td>\n",
       "      <td>7SEVEN® Compatible with Samsung Smart 4K Tv Re...</td>\n",
       "      <td>369.0</td>\n",
       "      <td>999.0</td>\n",
       "      <td>63.0</td>\n",
       "      <td>4</td>\n",
       "      <td>Electronics</td>\n",
       "    </tr>\n",
       "    <tr>\n",
       "      <th>2</th>\n",
       "      <td>B01N90RZ4M</td>\n",
       "      <td>Tata Sky Universal Remote Fully Compatible</td>\n",
       "      <td>NaN</td>\n",
       "      <td>NaN</td>\n",
       "      <td>NaN</td>\n",
       "      <td>3</td>\n",
       "      <td>Electronics</td>\n",
       "    </tr>\n",
       "    <tr>\n",
       "      <th>3</th>\n",
       "      <td>B07B275VN9</td>\n",
       "      <td>Airtel DigitalTV DTH Television, Setup Box Rem...</td>\n",
       "      <td>140.0</td>\n",
       "      <td>299.0</td>\n",
       "      <td>53.0</td>\n",
       "      <td>4</td>\n",
       "      <td>Electronics</td>\n",
       "    </tr>\n",
       "    <tr>\n",
       "      <th>4</th>\n",
       "      <td>B0141EZMAI</td>\n",
       "      <td>AirCase USB WiFi Adapter for PC, 150 Mbps Wire...</td>\n",
       "      <td>NaN</td>\n",
       "      <td>NaN</td>\n",
       "      <td>NaN</td>\n",
       "      <td>4</td>\n",
       "      <td>Computers &amp; Accessories</td>\n",
       "    </tr>\n",
       "    <tr>\n",
       "      <th>...</th>\n",
       "      <td>...</td>\n",
       "      <td>...</td>\n",
       "      <td>...</td>\n",
       "      <td>...</td>\n",
       "      <td>...</td>\n",
       "      <td>...</td>\n",
       "      <td>...</td>\n",
       "    </tr>\n",
       "    <tr>\n",
       "      <th>127</th>\n",
       "      <td>B0B97D658R</td>\n",
       "      <td>NaN</td>\n",
       "      <td>NaN</td>\n",
       "      <td>NaN</td>\n",
       "      <td>NaN</td>\n",
       "      <td>0</td>\n",
       "      <td>NaN</td>\n",
       "    </tr>\n",
       "    <tr>\n",
       "      <th>128</th>\n",
       "      <td>B09LMMFW3S</td>\n",
       "      <td>Graidient span Milk/Coffee Frothier for Your M...</td>\n",
       "      <td>175.0</td>\n",
       "      <td>299.0</td>\n",
       "      <td>41.0</td>\n",
       "      <td>4</td>\n",
       "      <td>Home &amp; Kitchen</td>\n",
       "    </tr>\n",
       "    <tr>\n",
       "      <th>129</th>\n",
       "      <td>B07K19NYZ8</td>\n",
       "      <td>USHA HC 812 T Heat Convector , Heater (Black, ...</td>\n",
       "      <td>NaN</td>\n",
       "      <td>NaN</td>\n",
       "      <td>NaN</td>\n",
       "      <td>4</td>\n",
       "      <td>Home &amp; Kitchen</td>\n",
       "    </tr>\n",
       "    <tr>\n",
       "      <th>130</th>\n",
       "      <td>B07J9KXQCC</td>\n",
       "      <td>NaN</td>\n",
       "      <td>NaN</td>\n",
       "      <td>NaN</td>\n",
       "      <td>NaN</td>\n",
       "      <td>0</td>\n",
       "      <td>NaN</td>\n",
       "    </tr>\n",
       "    <tr>\n",
       "      <th>131</th>\n",
       "      <td>B009P2LIL4</td>\n",
       "      <td>Bajaj Majesty Rx10 Room Heater For Home|2 Heat...</td>\n",
       "      <td>NaN</td>\n",
       "      <td>NaN</td>\n",
       "      <td>NaN</td>\n",
       "      <td>4</td>\n",
       "      <td>Home &amp; Kitchen</td>\n",
       "    </tr>\n",
       "  </tbody>\n",
       "</table>\n",
       "<p>132 rows × 7 columns</p>\n",
       "</div>"
      ],
      "text/plain": [
       "      ProductID                                              Title  \\\n",
       "0    B085194JFL  AirCase Tizum Hdmi to Vga Adapter/Connector/Co...   \n",
       "1    B09L8DSSFH  7SEVEN® Compatible with Samsung Smart 4K Tv Re...   \n",
       "2    B01N90RZ4M         Tata Sky Universal Remote Fully Compatible   \n",
       "3    B07B275VN9  Airtel DigitalTV DTH Television, Setup Box Rem...   \n",
       "4    B0141EZMAI  AirCase USB WiFi Adapter for PC, 150 Mbps Wire...   \n",
       "..          ...                                                ...   \n",
       "127  B0B97D658R                                                NaN   \n",
       "128  B09LMMFW3S  Graidient span Milk/Coffee Frothier for Your M...   \n",
       "129  B07K19NYZ8  USHA HC 812 T Heat Convector , Heater (Black, ...   \n",
       "130  B07J9KXQCC                                                NaN   \n",
       "131  B009P2LIL4  Bajaj Majesty Rx10 Room Heater For Home|2 Heat...   \n",
       "\n",
       "     Selling Price    MRP  Discount  Rating                 Category  \n",
       "0            322.0  499.0      35.0       4  Computers & Accessories  \n",
       "1            369.0  999.0      63.0       4              Electronics  \n",
       "2              NaN    NaN       NaN       3              Electronics  \n",
       "3            140.0  299.0      53.0       4              Electronics  \n",
       "4              NaN    NaN       NaN       4  Computers & Accessories  \n",
       "..             ...    ...       ...     ...                      ...  \n",
       "127            NaN    NaN       NaN       0                      NaN  \n",
       "128          175.0  299.0      41.0       4           Home & Kitchen  \n",
       "129            NaN    NaN       NaN       4           Home & Kitchen  \n",
       "130            NaN    NaN       NaN       0                      NaN  \n",
       "131            NaN    NaN       NaN       4           Home & Kitchen  \n",
       "\n",
       "[132 rows x 7 columns]"
      ]
     },
     "execution_count": 44,
     "metadata": {},
     "output_type": "execute_result"
    }
   ],
   "source": [
    "df"
   ]
  },
  {
   "cell_type": "code",
   "execution_count": 45,
   "metadata": {},
   "outputs": [
    {
     "data": {
      "text/plain": [
       "ProductID         0\n",
       "Title             7\n",
       "Selling Price    82\n",
       "MRP              51\n",
       "Discount         51\n",
       "Rating            0\n",
       "Category          7\n",
       "dtype: int64"
      ]
     },
     "execution_count": 45,
     "metadata": {},
     "output_type": "execute_result"
    }
   ],
   "source": [
    "df.isna().sum()"
   ]
  },
  {
   "cell_type": "code",
   "execution_count": 46,
   "metadata": {},
   "outputs": [
    {
     "data": {
      "text/plain": [
       "<seaborn.axisgrid.PairGrid at 0x1591b6660>"
      ]
     },
     "execution_count": 46,
     "metadata": {},
     "output_type": "execute_result"
    },
    {
     "data": {
      "image/png": "[encoded data removed]",
      "text/plain": [
       "<Figure size 1000x1000 with 20 Axes>"
      ]
     },
     "metadata": {},
     "output_type": "display_data"
    }
   ],
   "source": [
    "sns.pairplot(data=df)"
   ]
  },
  {
   "cell_type": "code",
   "execution_count": 47,
   "metadata": {},
   "outputs": [
    {
     "data": {
      "text/plain": [
       "ProductID        0\n",
       "Title            7\n",
       "Selling Price    0\n",
       "MRP              0\n",
       "Discount         0\n",
       "Rating           0\n",
       "Category         7\n",
       "dtype: int64"
      ]
     },
     "execution_count": 47,
     "metadata": {},
     "output_type": "execute_result"
    }
   ],
   "source": [
    "df.fillna(df.mean(numeric_only=True),inplace=True)\n",
    "df.isna().sum()"
   ]
  },
  {
   "cell_type": "code",
   "execution_count": 48,
   "metadata": {},
   "outputs": [
    {
     "data": {
      "text/plain": [
       "ProductID        0\n",
       "Title            0\n",
       "Selling Price    0\n",
       "MRP              0\n",
       "Discount         0\n",
       "Rating           0\n",
       "Category         0\n",
       "dtype: int64"
      ]
     },
     "execution_count": 48,
     "metadata": {},
     "output_type": "execute_result"
    }
   ],
   "source": [
    "df.fillna(0, inplace=True)\n",
    "df.isna().sum()"
   ]
  },
  {
   "cell_type": "code",
   "execution_count": 49,
   "metadata": {},
   "outputs": [
    {
     "data": {
      "text/html": [
       "<div>\n",
       "<style scoped>\n",
       "    .dataframe tbody tr th:only-of-type {\n",
       "        vertical-align: middle;\n",
       "    }\n",
       "\n",
       "    .dataframe tbody tr th {\n",
       "        vertical-align: top;\n",
       "    }\n",
       "\n",
       "    .dataframe thead th {\n",
       "        text-align: right;\n",
       "    }\n",
       "</style>\n",
       "<table border=\"1\" class=\"dataframe\">\n",
       "  <thead>\n",
       "    <tr style=\"text-align: right;\">\n",
       "      <th></th>\n",
       "      <th>ProductID</th>\n",
       "      <th>Title</th>\n",
       "      <th>Selling Price</th>\n",
       "      <th>MRP</th>\n",
       "      <th>Discount</th>\n",
       "      <th>Rating</th>\n",
       "      <th>Category</th>\n",
       "    </tr>\n",
       "  </thead>\n",
       "  <tbody>\n",
       "    <tr>\n",
       "      <th>0</th>\n",
       "      <td>B085194JFL</td>\n",
       "      <td>AirCase Tizum Hdmi to Vga Adapter/Connector/Co...</td>\n",
       "      <td>322.00</td>\n",
       "      <td>499.000000</td>\n",
       "      <td>35.00000</td>\n",
       "      <td>4</td>\n",
       "      <td>Computers &amp; Accessories</td>\n",
       "    </tr>\n",
       "    <tr>\n",
       "      <th>1</th>\n",
       "      <td>B09L8DSSFH</td>\n",
       "      <td>7SEVEN® Compatible with Samsung Smart 4K Tv Re...</td>\n",
       "      <td>369.00</td>\n",
       "      <td>999.000000</td>\n",
       "      <td>63.00000</td>\n",
       "      <td>4</td>\n",
       "      <td>Electronics</td>\n",
       "    </tr>\n",
       "    <tr>\n",
       "      <th>2</th>\n",
       "      <td>B01N90RZ4M</td>\n",
       "      <td>Tata Sky Universal Remote Fully Compatible</td>\n",
       "      <td>401.78</td>\n",
       "      <td>249.864198</td>\n",
       "      <td>52.62963</td>\n",
       "      <td>3</td>\n",
       "      <td>Electronics</td>\n",
       "    </tr>\n",
       "    <tr>\n",
       "      <th>3</th>\n",
       "      <td>B07B275VN9</td>\n",
       "      <td>Airtel DigitalTV DTH Television, Setup Box Rem...</td>\n",
       "      <td>140.00</td>\n",
       "      <td>299.000000</td>\n",
       "      <td>53.00000</td>\n",
       "      <td>4</td>\n",
       "      <td>Electronics</td>\n",
       "    </tr>\n",
       "    <tr>\n",
       "      <th>4</th>\n",
       "      <td>B0141EZMAI</td>\n",
       "      <td>AirCase USB WiFi Adapter for PC, 150 Mbps Wire...</td>\n",
       "      <td>401.78</td>\n",
       "      <td>249.864198</td>\n",
       "      <td>52.62963</td>\n",
       "      <td>4</td>\n",
       "      <td>Computers &amp; Accessories</td>\n",
       "    </tr>\n",
       "    <tr>\n",
       "      <th>...</th>\n",
       "      <td>...</td>\n",
       "      <td>...</td>\n",
       "      <td>...</td>\n",
       "      <td>...</td>\n",
       "      <td>...</td>\n",
       "      <td>...</td>\n",
       "      <td>...</td>\n",
       "    </tr>\n",
       "    <tr>\n",
       "      <th>127</th>\n",
       "      <td>B0B97D658R</td>\n",
       "      <td>0</td>\n",
       "      <td>401.78</td>\n",
       "      <td>249.864198</td>\n",
       "      <td>52.62963</td>\n",
       "      <td>0</td>\n",
       "      <td>0</td>\n",
       "    </tr>\n",
       "    <tr>\n",
       "      <th>128</th>\n",
       "      <td>B09LMMFW3S</td>\n",
       "      <td>Graidient span Milk/Coffee Frothier for Your M...</td>\n",
       "      <td>175.00</td>\n",
       "      <td>299.000000</td>\n",
       "      <td>41.00000</td>\n",
       "      <td>4</td>\n",
       "      <td>Home &amp; Kitchen</td>\n",
       "    </tr>\n",
       "    <tr>\n",
       "      <th>129</th>\n",
       "      <td>B07K19NYZ8</td>\n",
       "      <td>USHA HC 812 T Heat Convector , Heater (Black, ...</td>\n",
       "      <td>401.78</td>\n",
       "      <td>249.864198</td>\n",
       "      <td>52.62963</td>\n",
       "      <td>4</td>\n",
       "      <td>Home &amp; Kitchen</td>\n",
       "    </tr>\n",
       "    <tr>\n",
       "      <th>130</th>\n",
       "      <td>B07J9KXQCC</td>\n",
       "      <td>0</td>\n",
       "      <td>401.78</td>\n",
       "      <td>249.864198</td>\n",
       "      <td>52.62963</td>\n",
       "      <td>0</td>\n",
       "      <td>0</td>\n",
       "    </tr>\n",
       "    <tr>\n",
       "      <th>131</th>\n",
       "      <td>B009P2LIL4</td>\n",
       "      <td>Bajaj Majesty Rx10 Room Heater For Home|2 Heat...</td>\n",
       "      <td>401.78</td>\n",
       "      <td>249.864198</td>\n",
       "      <td>52.62963</td>\n",
       "      <td>4</td>\n",
       "      <td>Home &amp; Kitchen</td>\n",
       "    </tr>\n",
       "  </tbody>\n",
       "</table>\n",
       "<p>132 rows × 7 columns</p>\n",
       "</div>"
      ],
      "text/plain": [
       "      ProductID                                              Title  \\\n",
       "0    B085194JFL  AirCase Tizum Hdmi to Vga Adapter/Connector/Co...   \n",
       "1    B09L8DSSFH  7SEVEN® Compatible with Samsung Smart 4K Tv Re...   \n",
       "2    B01N90RZ4M         Tata Sky Universal Remote Fully Compatible   \n",
       "3    B07B275VN9  Airtel DigitalTV DTH Television, Setup Box Rem...   \n",
       "4    B0141EZMAI  AirCase USB WiFi Adapter for PC, 150 Mbps Wire...   \n",
       "..          ...                                                ...   \n",
       "127  B0B97D658R                                                  0   \n",
       "128  B09LMMFW3S  Graidient span Milk/Coffee Frothier for Your M...   \n",
       "129  B07K19NYZ8  USHA HC 812 T Heat Convector , Heater (Black, ...   \n",
       "130  B07J9KXQCC                                                  0   \n",
       "131  B009P2LIL4  Bajaj Majesty Rx10 Room Heater For Home|2 Heat...   \n",
       "\n",
       "     Selling Price         MRP  Discount  Rating                 Category  \n",
       "0           322.00  499.000000  35.00000       4  Computers & Accessories  \n",
       "1           369.00  999.000000  63.00000       4              Electronics  \n",
       "2           401.78  249.864198  52.62963       3              Electronics  \n",
       "3           140.00  299.000000  53.00000       4              Electronics  \n",
       "4           401.78  249.864198  52.62963       4  Computers & Accessories  \n",
       "..             ...         ...       ...     ...                      ...  \n",
       "127         401.78  249.864198  52.62963       0                        0  \n",
       "128         175.00  299.000000  41.00000       4           Home & Kitchen  \n",
       "129         401.78  249.864198  52.62963       4           Home & Kitchen  \n",
       "130         401.78  249.864198  52.62963       0                        0  \n",
       "131         401.78  249.864198  52.62963       4           Home & Kitchen  \n",
       "\n",
       "[132 rows x 7 columns]"
      ]
     },
     "execution_count": 49,
     "metadata": {},
     "output_type": "execute_result"
    }
   ],
   "source": [
    "df"
   ]
  },
  {
   "cell_type": "code",
   "execution_count": null,
   "metadata": {},
   "outputs": [],
   "source": []
  }
 ],
 "metadata": {
  "kernelspec": {
   "display_name": "Python 3",
   "language": "python",
   "name": "python3"
  },
  "language_info": {
   "codemirror_mode": {
    "name": "ipython",
    "version": 3
   },
   "file_extension": ".py",
   "mimetype": "text/x-python",
   "name": "python",
   "nbconvert_exporter": "python",
   "pygments_lexer": "ipython3",
   "version": "3.13.0"
  }
 },
 "nbformat": 4,
 "nbformat_minor": 2
}
