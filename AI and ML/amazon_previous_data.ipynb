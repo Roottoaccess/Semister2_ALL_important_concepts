{
 "cells": [
  {
   "cell_type": "code",
   "execution_count": 1,
   "metadata": {},
   "outputs": [],
   "source": [
    "import numpy as np\n",
    "import pandas as pd\n",
    "import seaborn as sns\n",
    "import matplotlib.pyplot as plt"
   ]
  },
  {
   "cell_type": "code",
   "execution_count": 2,
   "metadata": {},
   "outputs": [
    {
     "data": {
      "text/html": [
       "<div>\n",
       "<style scoped>\n",
       "    .dataframe tbody tr th:only-of-type {\n",
       "        vertical-align: middle;\n",
       "    }\n",
       "\n",
       "    .dataframe tbody tr th {\n",
       "        vertical-align: top;\n",
       "    }\n",
       "\n",
       "    .dataframe thead th {\n",
       "        text-align: right;\n",
       "    }\n",
       "</style>\n",
       "<table border=\"1\" class=\"dataframe\">\n",
       "  <thead>\n",
       "    <tr style=\"text-align: right;\">\n",
       "      <th></th>\n",
       "      <th>product_id</th>\n",
       "      <th>product_name</th>\n",
       "      <th>category</th>\n",
       "      <th>discounted_price</th>\n",
       "      <th>actual_price</th>\n",
       "      <th>discount_percentage</th>\n",
       "      <th>rating</th>\n",
       "      <th>rating_count</th>\n",
       "      <th>about_product</th>\n",
       "      <th>user_id</th>\n",
       "      <th>user_name</th>\n",
       "      <th>review_id</th>\n",
       "      <th>review_title</th>\n",
       "      <th>review_content</th>\n",
       "      <th>img_link</th>\n",
       "      <th>product_link</th>\n",
       "    </tr>\n",
       "  </thead>\n",
       "  <tbody>\n",
       "    <tr>\n",
       "      <th>0</th>\n",
       "      <td>B07JW9H4J1</td>\n",
       "      <td>Wayona Nylon Braided USB to Lightning Fast Cha...</td>\n",
       "      <td>Computers&amp;Accessories|Accessories&amp;Peripherals|...</td>\n",
       "      <td>₹399</td>\n",
       "      <td>₹1,099</td>\n",
       "      <td>64%</td>\n",
       "      <td>4.2</td>\n",
       "      <td>24,269</td>\n",
       "      <td>High Compatibility : Compatible With iPhone 12...</td>\n",
       "      <td>AG3D6O4STAQKAY2UVGEUV46KN35Q,AHMY5CWJMMK5BJRBB...</td>\n",
       "      <td>Manav,Adarsh gupta,Sundeep,S.Sayeed Ahmed,jasp...</td>\n",
       "      <td>R3HXWT0LRP0NMF,R2AJM3LFTLZHFO,R6AQJGUP6P86,R1K...</td>\n",
       "      <td>Satisfied,Charging is really fast,Value for mo...</td>\n",
       "      <td>Looks durable Charging is fine tooNo complains...</td>\n",
       "      <td>https://m.media-amazon.com/images/W/WEBP_40237...</td>\n",
       "      <td>https://www.amazon.in/Wayona-Braided-WN3LG1-Sy...</td>\n",
       "    </tr>\n",
       "    <tr>\n",
       "      <th>1</th>\n",
       "      <td>B098NS6PVG</td>\n",
       "      <td>Ambrane Unbreakable 60W / 3A Fast Charging 1.5...</td>\n",
       "      <td>Computers&amp;Accessories|Accessories&amp;Peripherals|...</td>\n",
       "      <td>₹199</td>\n",
       "      <td>₹349</td>\n",
       "      <td>43%</td>\n",
       "      <td>4.0</td>\n",
       "      <td>43,994</td>\n",
       "      <td>Compatible with all Type C enabled devices, be...</td>\n",
       "      <td>AECPFYFQVRUWC3KGNLJIOREFP5LQ,AGYYVPDD7YG7FYNBX...</td>\n",
       "      <td>ArdKn,Nirbhay kumar,Sagar Viswanathan,Asp,Plac...</td>\n",
       "      <td>RGIQEG07R9HS2,R1SMWZQ86XIN8U,R2J3Y1WL29GWDE,RY...</td>\n",
       "      <td>A Good Braided Cable for Your Type C Device,Go...</td>\n",
       "      <td>I ordered this cable to connect my phone to An...</td>\n",
       "      <td>https://m.media-amazon.com/images/W/WEBP_40237...</td>\n",
       "      <td>https://www.amazon.in/Ambrane-Unbreakable-Char...</td>\n",
       "    </tr>\n",
       "    <tr>\n",
       "      <th>2</th>\n",
       "      <td>B096MSW6CT</td>\n",
       "      <td>Sounce Fast Phone Charging Cable &amp; Data Sync U...</td>\n",
       "      <td>Computers&amp;Accessories|Accessories&amp;Peripherals|...</td>\n",
       "      <td>₹199</td>\n",
       "      <td>₹1,899</td>\n",
       "      <td>90%</td>\n",
       "      <td>3.9</td>\n",
       "      <td>7,928</td>\n",
       "      <td>【 Fast Charger&amp; Data Sync】-With built-in safet...</td>\n",
       "      <td>AGU3BBQ2V2DDAMOAKGFAWDDQ6QHA,AESFLDV2PT363T2AQ...</td>\n",
       "      <td>Kunal,Himanshu,viswanath,sai niharka,saqib mal...</td>\n",
       "      <td>R3J3EQQ9TZI5ZJ,R3E7WBGK7ID0KV,RWU79XKQ6I1QF,R2...</td>\n",
       "      <td>Good speed for earlier versions,Good Product,W...</td>\n",
       "      <td>Not quite durable and sturdy,https://m.media-a...</td>\n",
       "      <td>https://m.media-amazon.com/images/W/WEBP_40237...</td>\n",
       "      <td>https://www.amazon.in/Sounce-iPhone-Charging-C...</td>\n",
       "    </tr>\n",
       "    <tr>\n",
       "      <th>3</th>\n",
       "      <td>B08HDJ86NZ</td>\n",
       "      <td>boAt Deuce USB 300 2 in 1 Type-C &amp; Micro USB S...</td>\n",
       "      <td>Computers&amp;Accessories|Accessories&amp;Peripherals|...</td>\n",
       "      <td>₹329</td>\n",
       "      <td>₹699</td>\n",
       "      <td>53%</td>\n",
       "      <td>4.2</td>\n",
       "      <td>94,363</td>\n",
       "      <td>The boAt Deuce USB 300 2 in 1 cable is compati...</td>\n",
       "      <td>AEWAZDZZJLQUYVOVGBEUKSLXHQ5A,AG5HTSFRRE6NL3M5S...</td>\n",
       "      <td>Omkar dhale,JD,HEMALATHA,Ajwadh a.,amar singh ...</td>\n",
       "      <td>R3EEUZKKK9J36I,R3HJVYCLYOY554,REDECAZ7AMPQC,R1...</td>\n",
       "      <td>Good product,Good one,Nice,Really nice product...</td>\n",
       "      <td>Good product,long wire,Charges good,Nice,I bou...</td>\n",
       "      <td>https://m.media-amazon.com/images/I/41V5FtEWPk...</td>\n",
       "      <td>https://www.amazon.in/Deuce-300-Resistant-Tang...</td>\n",
       "    </tr>\n",
       "    <tr>\n",
       "      <th>4</th>\n",
       "      <td>B08CF3B7N1</td>\n",
       "      <td>Portronics Konnect L 1.2M Fast Charging 3A 8 P...</td>\n",
       "      <td>Computers&amp;Accessories|Accessories&amp;Peripherals|...</td>\n",
       "      <td>₹154</td>\n",
       "      <td>₹399</td>\n",
       "      <td>61%</td>\n",
       "      <td>4.2</td>\n",
       "      <td>16,905</td>\n",
       "      <td>[CHARGE &amp; SYNC FUNCTION]- This cable comes wit...</td>\n",
       "      <td>AE3Q6KSUK5P75D5HFYHCRAOLODSA,AFUGIFH5ZAFXRDSZH...</td>\n",
       "      <td>rahuls6099,Swasat Borah,Ajay Wadke,Pranali,RVK...</td>\n",
       "      <td>R1BP4L2HH9TFUP,R16PVJEXKV6QZS,R2UPDB81N66T4P,R...</td>\n",
       "      <td>As good as original,Decent,Good one for second...</td>\n",
       "      <td>Bought this instead of original apple, does th...</td>\n",
       "      <td>https://m.media-amazon.com/images/W/WEBP_40237...</td>\n",
       "      <td>https://www.amazon.in/Portronics-Konnect-POR-1...</td>\n",
       "    </tr>\n",
       "  </tbody>\n",
       "</table>\n",
       "</div>"
      ],
      "text/plain": [
       "   product_id                                       product_name  \\\n",
       "0  B07JW9H4J1  Wayona Nylon Braided USB to Lightning Fast Cha...   \n",
       "1  B098NS6PVG  Ambrane Unbreakable 60W / 3A Fast Charging 1.5...   \n",
       "2  B096MSW6CT  Sounce Fast Phone Charging Cable & Data Sync U...   \n",
       "3  B08HDJ86NZ  boAt Deuce USB 300 2 in 1 Type-C & Micro USB S...   \n",
       "4  B08CF3B7N1  Portronics Konnect L 1.2M Fast Charging 3A 8 P...   \n",
       "\n",
       "                                            category discounted_price  \\\n",
       "0  Computers&Accessories|Accessories&Peripherals|...             ₹399   \n",
       "1  Computers&Accessories|Accessories&Peripherals|...             ₹199   \n",
       "2  Computers&Accessories|Accessories&Peripherals|...             ₹199   \n",
       "3  Computers&Accessories|Accessories&Peripherals|...             ₹329   \n",
       "4  Computers&Accessories|Accessories&Peripherals|...             ₹154   \n",
       "\n",
       "  actual_price discount_percentage rating rating_count  \\\n",
       "0       ₹1,099                 64%    4.2       24,269   \n",
       "1         ₹349                 43%    4.0       43,994   \n",
       "2       ₹1,899                 90%    3.9        7,928   \n",
       "3         ₹699                 53%    4.2       94,363   \n",
       "4         ₹399                 61%    4.2       16,905   \n",
       "\n",
       "                                       about_product  \\\n",
       "0  High Compatibility : Compatible With iPhone 12...   \n",
       "1  Compatible with all Type C enabled devices, be...   \n",
       "2  【 Fast Charger& Data Sync】-With built-in safet...   \n",
       "3  The boAt Deuce USB 300 2 in 1 cable is compati...   \n",
       "4  [CHARGE & SYNC FUNCTION]- This cable comes wit...   \n",
       "\n",
       "                                             user_id  \\\n",
       "0  AG3D6O4STAQKAY2UVGEUV46KN35Q,AHMY5CWJMMK5BJRBB...   \n",
       "1  AECPFYFQVRUWC3KGNLJIOREFP5LQ,AGYYVPDD7YG7FYNBX...   \n",
       "2  AGU3BBQ2V2DDAMOAKGFAWDDQ6QHA,AESFLDV2PT363T2AQ...   \n",
       "3  AEWAZDZZJLQUYVOVGBEUKSLXHQ5A,AG5HTSFRRE6NL3M5S...   \n",
       "4  AE3Q6KSUK5P75D5HFYHCRAOLODSA,AFUGIFH5ZAFXRDSZH...   \n",
       "\n",
       "                                           user_name  \\\n",
       "0  Manav,Adarsh gupta,Sundeep,S.Sayeed Ahmed,jasp...   \n",
       "1  ArdKn,Nirbhay kumar,Sagar Viswanathan,Asp,Plac...   \n",
       "2  Kunal,Himanshu,viswanath,sai niharka,saqib mal...   \n",
       "3  Omkar dhale,JD,HEMALATHA,Ajwadh a.,amar singh ...   \n",
       "4  rahuls6099,Swasat Borah,Ajay Wadke,Pranali,RVK...   \n",
       "\n",
       "                                           review_id  \\\n",
       "0  R3HXWT0LRP0NMF,R2AJM3LFTLZHFO,R6AQJGUP6P86,R1K...   \n",
       "1  RGIQEG07R9HS2,R1SMWZQ86XIN8U,R2J3Y1WL29GWDE,RY...   \n",
       "2  R3J3EQQ9TZI5ZJ,R3E7WBGK7ID0KV,RWU79XKQ6I1QF,R2...   \n",
       "3  R3EEUZKKK9J36I,R3HJVYCLYOY554,REDECAZ7AMPQC,R1...   \n",
       "4  R1BP4L2HH9TFUP,R16PVJEXKV6QZS,R2UPDB81N66T4P,R...   \n",
       "\n",
       "                                        review_title  \\\n",
       "0  Satisfied,Charging is really fast,Value for mo...   \n",
       "1  A Good Braided Cable for Your Type C Device,Go...   \n",
       "2  Good speed for earlier versions,Good Product,W...   \n",
       "3  Good product,Good one,Nice,Really nice product...   \n",
       "4  As good as original,Decent,Good one for second...   \n",
       "\n",
       "                                      review_content  \\\n",
       "0  Looks durable Charging is fine tooNo complains...   \n",
       "1  I ordered this cable to connect my phone to An...   \n",
       "2  Not quite durable and sturdy,https://m.media-a...   \n",
       "3  Good product,long wire,Charges good,Nice,I bou...   \n",
       "4  Bought this instead of original apple, does th...   \n",
       "\n",
       "                                            img_link  \\\n",
       "0  https://m.media-amazon.com/images/W/WEBP_40237...   \n",
       "1  https://m.media-amazon.com/images/W/WEBP_40237...   \n",
       "2  https://m.media-amazon.com/images/W/WEBP_40237...   \n",
       "3  https://m.media-amazon.com/images/I/41V5FtEWPk...   \n",
       "4  https://m.media-amazon.com/images/W/WEBP_40237...   \n",
       "\n",
       "                                        product_link  \n",
       "0  https://www.amazon.in/Wayona-Braided-WN3LG1-Sy...  \n",
       "1  https://www.amazon.in/Ambrane-Unbreakable-Char...  \n",
       "2  https://www.amazon.in/Sounce-iPhone-Charging-C...  \n",
       "3  https://www.amazon.in/Deuce-300-Resistant-Tang...  \n",
       "4  https://www.amazon.in/Portronics-Konnect-POR-1...  "
      ]
     },
     "execution_count": 2,
     "metadata": {},
     "output_type": "execute_result"
    }
   ],
   "source": [
    "# Importing the dataset\n",
    "df = pd.read_csv('amazon.csv')\n",
    "df.head()"
   ]
  },
  {
   "cell_type": "code",
   "execution_count": 3,
   "metadata": {},
   "outputs": [
    {
     "data": {
      "text/plain": [
       "Index(['product_id', 'product_name', 'category', 'discounted_price',\n",
       "       'actual_price', 'discount_percentage', 'rating', 'rating_count',\n",
       "       'about_product', 'user_id', 'user_name', 'review_id', 'review_title',\n",
       "       'review_content', 'img_link', 'product_link'],\n",
       "      dtype='object')"
      ]
     },
     "execution_count": 3,
     "metadata": {},
     "output_type": "execute_result"
    }
   ],
   "source": [
    "df.columns"
   ]
  },
  {
   "cell_type": "code",
   "execution_count": 4,
   "metadata": {},
   "outputs": [
    {
     "data": {
      "text/html": [
       "<div>\n",
       "<style scoped>\n",
       "    .dataframe tbody tr th:only-of-type {\n",
       "        vertical-align: middle;\n",
       "    }\n",
       "\n",
       "    .dataframe tbody tr th {\n",
       "        vertical-align: top;\n",
       "    }\n",
       "\n",
       "    .dataframe thead th {\n",
       "        text-align: right;\n",
       "    }\n",
       "</style>\n",
       "<table border=\"1\" class=\"dataframe\">\n",
       "  <thead>\n",
       "    <tr style=\"text-align: right;\">\n",
       "      <th></th>\n",
       "      <th>product_id</th>\n",
       "      <th>product_name</th>\n",
       "      <th>category</th>\n",
       "      <th>discounted_price</th>\n",
       "      <th>actual_price</th>\n",
       "      <th>discount_percentage</th>\n",
       "      <th>rating</th>\n",
       "      <th>rating_count</th>\n",
       "      <th>about_product</th>\n",
       "      <th>user_id</th>\n",
       "      <th>user_name</th>\n",
       "      <th>review_id</th>\n",
       "      <th>review_title</th>\n",
       "      <th>review_content</th>\n",
       "      <th>img_link</th>\n",
       "      <th>product_link</th>\n",
       "    </tr>\n",
       "  </thead>\n",
       "  <tbody>\n",
       "    <tr>\n",
       "      <th>0</th>\n",
       "      <td>B07JW9H4J1</td>\n",
       "      <td>Wayona Nylon Braided USB to Lightning Fast Cha...</td>\n",
       "      <td>Computers&amp;Accessories|Accessories&amp;Peripherals|...</td>\n",
       "      <td>₹399</td>\n",
       "      <td>₹1,099</td>\n",
       "      <td>64%</td>\n",
       "      <td>4.2</td>\n",
       "      <td>24,269</td>\n",
       "      <td>High Compatibility : Compatible With iPhone 12...</td>\n",
       "      <td>AG3D6O4STAQKAY2UVGEUV46KN35Q,AHMY5CWJMMK5BJRBB...</td>\n",
       "      <td>Manav,Adarsh gupta,Sundeep,S.Sayeed Ahmed,jasp...</td>\n",
       "      <td>R3HXWT0LRP0NMF,R2AJM3LFTLZHFO,R6AQJGUP6P86,R1K...</td>\n",
       "      <td>Satisfied,Charging is really fast,Value for mo...</td>\n",
       "      <td>Looks durable Charging is fine tooNo complains...</td>\n",
       "      <td>https://m.media-amazon.com/images/W/WEBP_40237...</td>\n",
       "      <td>https://www.amazon.in/Wayona-Braided-WN3LG1-Sy...</td>\n",
       "    </tr>\n",
       "    <tr>\n",
       "      <th>1</th>\n",
       "      <td>B098NS6PVG</td>\n",
       "      <td>Ambrane Unbreakable 60W / 3A Fast Charging 1.5...</td>\n",
       "      <td>Computers&amp;Accessories|Accessories&amp;Peripherals|...</td>\n",
       "      <td>₹199</td>\n",
       "      <td>₹349</td>\n",
       "      <td>43%</td>\n",
       "      <td>4.0</td>\n",
       "      <td>43,994</td>\n",
       "      <td>Compatible with all Type C enabled devices, be...</td>\n",
       "      <td>AECPFYFQVRUWC3KGNLJIOREFP5LQ,AGYYVPDD7YG7FYNBX...</td>\n",
       "      <td>ArdKn,Nirbhay kumar,Sagar Viswanathan,Asp,Plac...</td>\n",
       "      <td>RGIQEG07R9HS2,R1SMWZQ86XIN8U,R2J3Y1WL29GWDE,RY...</td>\n",
       "      <td>A Good Braided Cable for Your Type C Device,Go...</td>\n",
       "      <td>I ordered this cable to connect my phone to An...</td>\n",
       "      <td>https://m.media-amazon.com/images/W/WEBP_40237...</td>\n",
       "      <td>https://www.amazon.in/Ambrane-Unbreakable-Char...</td>\n",
       "    </tr>\n",
       "    <tr>\n",
       "      <th>2</th>\n",
       "      <td>B096MSW6CT</td>\n",
       "      <td>Sounce Fast Phone Charging Cable &amp; Data Sync U...</td>\n",
       "      <td>Computers&amp;Accessories|Accessories&amp;Peripherals|...</td>\n",
       "      <td>₹199</td>\n",
       "      <td>₹1,899</td>\n",
       "      <td>90%</td>\n",
       "      <td>3.9</td>\n",
       "      <td>7,928</td>\n",
       "      <td>【 Fast Charger&amp; Data Sync】-With built-in safet...</td>\n",
       "      <td>AGU3BBQ2V2DDAMOAKGFAWDDQ6QHA,AESFLDV2PT363T2AQ...</td>\n",
       "      <td>Kunal,Himanshu,viswanath,sai niharka,saqib mal...</td>\n",
       "      <td>R3J3EQQ9TZI5ZJ,R3E7WBGK7ID0KV,RWU79XKQ6I1QF,R2...</td>\n",
       "      <td>Good speed for earlier versions,Good Product,W...</td>\n",
       "      <td>Not quite durable and sturdy,https://m.media-a...</td>\n",
       "      <td>https://m.media-amazon.com/images/W/WEBP_40237...</td>\n",
       "      <td>https://www.amazon.in/Sounce-iPhone-Charging-C...</td>\n",
       "    </tr>\n",
       "    <tr>\n",
       "      <th>3</th>\n",
       "      <td>B08HDJ86NZ</td>\n",
       "      <td>boAt Deuce USB 300 2 in 1 Type-C &amp; Micro USB S...</td>\n",
       "      <td>Computers&amp;Accessories|Accessories&amp;Peripherals|...</td>\n",
       "      <td>₹329</td>\n",
       "      <td>₹699</td>\n",
       "      <td>53%</td>\n",
       "      <td>4.2</td>\n",
       "      <td>94,363</td>\n",
       "      <td>The boAt Deuce USB 300 2 in 1 cable is compati...</td>\n",
       "      <td>AEWAZDZZJLQUYVOVGBEUKSLXHQ5A,AG5HTSFRRE6NL3M5S...</td>\n",
       "      <td>Omkar dhale,JD,HEMALATHA,Ajwadh a.,amar singh ...</td>\n",
       "      <td>R3EEUZKKK9J36I,R3HJVYCLYOY554,REDECAZ7AMPQC,R1...</td>\n",
       "      <td>Good product,Good one,Nice,Really nice product...</td>\n",
       "      <td>Good product,long wire,Charges good,Nice,I bou...</td>\n",
       "      <td>https://m.media-amazon.com/images/I/41V5FtEWPk...</td>\n",
       "      <td>https://www.amazon.in/Deuce-300-Resistant-Tang...</td>\n",
       "    </tr>\n",
       "    <tr>\n",
       "      <th>4</th>\n",
       "      <td>B08CF3B7N1</td>\n",
       "      <td>Portronics Konnect L 1.2M Fast Charging 3A 8 P...</td>\n",
       "      <td>Computers&amp;Accessories|Accessories&amp;Peripherals|...</td>\n",
       "      <td>₹154</td>\n",
       "      <td>₹399</td>\n",
       "      <td>61%</td>\n",
       "      <td>4.2</td>\n",
       "      <td>16,905</td>\n",
       "      <td>[CHARGE &amp; SYNC FUNCTION]- This cable comes wit...</td>\n",
       "      <td>AE3Q6KSUK5P75D5HFYHCRAOLODSA,AFUGIFH5ZAFXRDSZH...</td>\n",
       "      <td>rahuls6099,Swasat Borah,Ajay Wadke,Pranali,RVK...</td>\n",
       "      <td>R1BP4L2HH9TFUP,R16PVJEXKV6QZS,R2UPDB81N66T4P,R...</td>\n",
       "      <td>As good as original,Decent,Good one for second...</td>\n",
       "      <td>Bought this instead of original apple, does th...</td>\n",
       "      <td>https://m.media-amazon.com/images/W/WEBP_40237...</td>\n",
       "      <td>https://www.amazon.in/Portronics-Konnect-POR-1...</td>\n",
       "    </tr>\n",
       "  </tbody>\n",
       "</table>\n",
       "</div>"
      ],
      "text/plain": [
       "   product_id                                       product_name  \\\n",
       "0  B07JW9H4J1  Wayona Nylon Braided USB to Lightning Fast Cha...   \n",
       "1  B098NS6PVG  Ambrane Unbreakable 60W / 3A Fast Charging 1.5...   \n",
       "2  B096MSW6CT  Sounce Fast Phone Charging Cable & Data Sync U...   \n",
       "3  B08HDJ86NZ  boAt Deuce USB 300 2 in 1 Type-C & Micro USB S...   \n",
       "4  B08CF3B7N1  Portronics Konnect L 1.2M Fast Charging 3A 8 P...   \n",
       "\n",
       "                                            category discounted_price  \\\n",
       "0  Computers&Accessories|Accessories&Peripherals|...             ₹399   \n",
       "1  Computers&Accessories|Accessories&Peripherals|...             ₹199   \n",
       "2  Computers&Accessories|Accessories&Peripherals|...             ₹199   \n",
       "3  Computers&Accessories|Accessories&Peripherals|...             ₹329   \n",
       "4  Computers&Accessories|Accessories&Peripherals|...             ₹154   \n",
       "\n",
       "  actual_price discount_percentage rating rating_count  \\\n",
       "0       ₹1,099                 64%    4.2       24,269   \n",
       "1         ₹349                 43%    4.0       43,994   \n",
       "2       ₹1,899                 90%    3.9        7,928   \n",
       "3         ₹699                 53%    4.2       94,363   \n",
       "4         ₹399                 61%    4.2       16,905   \n",
       "\n",
       "                                       about_product  \\\n",
       "0  High Compatibility : Compatible With iPhone 12...   \n",
       "1  Compatible with all Type C enabled devices, be...   \n",
       "2  【 Fast Charger& Data Sync】-With built-in safet...   \n",
       "3  The boAt Deuce USB 300 2 in 1 cable is compati...   \n",
       "4  [CHARGE & SYNC FUNCTION]- This cable comes wit...   \n",
       "\n",
       "                                             user_id  \\\n",
       "0  AG3D6O4STAQKAY2UVGEUV46KN35Q,AHMY5CWJMMK5BJRBB...   \n",
       "1  AECPFYFQVRUWC3KGNLJIOREFP5LQ,AGYYVPDD7YG7FYNBX...   \n",
       "2  AGU3BBQ2V2DDAMOAKGFAWDDQ6QHA,AESFLDV2PT363T2AQ...   \n",
       "3  AEWAZDZZJLQUYVOVGBEUKSLXHQ5A,AG5HTSFRRE6NL3M5S...   \n",
       "4  AE3Q6KSUK5P75D5HFYHCRAOLODSA,AFUGIFH5ZAFXRDSZH...   \n",
       "\n",
       "                                           user_name  \\\n",
       "0  Manav,Adarsh gupta,Sundeep,S.Sayeed Ahmed,jasp...   \n",
       "1  ArdKn,Nirbhay kumar,Sagar Viswanathan,Asp,Plac...   \n",
       "2  Kunal,Himanshu,viswanath,sai niharka,saqib mal...   \n",
       "3  Omkar dhale,JD,HEMALATHA,Ajwadh a.,amar singh ...   \n",
       "4  rahuls6099,Swasat Borah,Ajay Wadke,Pranali,RVK...   \n",
       "\n",
       "                                           review_id  \\\n",
       "0  R3HXWT0LRP0NMF,R2AJM3LFTLZHFO,R6AQJGUP6P86,R1K...   \n",
       "1  RGIQEG07R9HS2,R1SMWZQ86XIN8U,R2J3Y1WL29GWDE,RY...   \n",
       "2  R3J3EQQ9TZI5ZJ,R3E7WBGK7ID0KV,RWU79XKQ6I1QF,R2...   \n",
       "3  R3EEUZKKK9J36I,R3HJVYCLYOY554,REDECAZ7AMPQC,R1...   \n",
       "4  R1BP4L2HH9TFUP,R16PVJEXKV6QZS,R2UPDB81N66T4P,R...   \n",
       "\n",
       "                                        review_title  \\\n",
       "0  Satisfied,Charging is really fast,Value for mo...   \n",
       "1  A Good Braided Cable for Your Type C Device,Go...   \n",
       "2  Good speed for earlier versions,Good Product,W...   \n",
       "3  Good product,Good one,Nice,Really nice product...   \n",
       "4  As good as original,Decent,Good one for second...   \n",
       "\n",
       "                                      review_content  \\\n",
       "0  Looks durable Charging is fine tooNo complains...   \n",
       "1  I ordered this cable to connect my phone to An...   \n",
       "2  Not quite durable and sturdy,https://m.media-a...   \n",
       "3  Good product,long wire,Charges good,Nice,I bou...   \n",
       "4  Bought this instead of original apple, does th...   \n",
       "\n",
       "                                            img_link  \\\n",
       "0  https://m.media-amazon.com/images/W/WEBP_40237...   \n",
       "1  https://m.media-amazon.com/images/W/WEBP_40237...   \n",
       "2  https://m.media-amazon.com/images/W/WEBP_40237...   \n",
       "3  https://m.media-amazon.com/images/I/41V5FtEWPk...   \n",
       "4  https://m.media-amazon.com/images/W/WEBP_40237...   \n",
       "\n",
       "                                        product_link  \n",
       "0  https://www.amazon.in/Wayona-Braided-WN3LG1-Sy...  \n",
       "1  https://www.amazon.in/Ambrane-Unbreakable-Char...  \n",
       "2  https://www.amazon.in/Sounce-iPhone-Charging-C...  \n",
       "3  https://www.amazon.in/Deuce-300-Resistant-Tang...  \n",
       "4  https://www.amazon.in/Portronics-Konnect-POR-1...  "
      ]
     },
     "execution_count": 4,
     "metadata": {},
     "output_type": "execute_result"
    }
   ],
   "source": [
    "df.head()"
   ]
  },
  {
   "cell_type": "code",
   "execution_count": 5,
   "metadata": {},
   "outputs": [],
   "source": [
    "del df['product_id']"
   ]
  },
  {
   "cell_type": "code",
   "execution_count": 6,
   "metadata": {},
   "outputs": [],
   "source": [
    "del df['about_product']"
   ]
  },
  {
   "cell_type": "code",
   "execution_count": 7,
   "metadata": {},
   "outputs": [],
   "source": [
    "del df['user_id']"
   ]
  },
  {
   "cell_type": "code",
   "execution_count": 8,
   "metadata": {},
   "outputs": [],
   "source": [
    "del df['user_name']"
   ]
  },
  {
   "cell_type": "code",
   "execution_count": 9,
   "metadata": {},
   "outputs": [],
   "source": [
    "del df['review_id']"
   ]
  },
  {
   "cell_type": "code",
   "execution_count": 10,
   "metadata": {},
   "outputs": [
    {
     "data": {
      "text/plain": [
       "Index(['product_name', 'category', 'discounted_price', 'actual_price',\n",
       "       'discount_percentage', 'rating', 'rating_count', 'review_title',\n",
       "       'review_content', 'img_link', 'product_link'],\n",
       "      dtype='object')"
      ]
     },
     "execution_count": 10,
     "metadata": {},
     "output_type": "execute_result"
    }
   ],
   "source": [
    "df.columns"
   ]
  },
  {
   "cell_type": "code",
   "execution_count": 11,
   "metadata": {},
   "outputs": [
    {
     "data": {
      "text/plain": [
       "rating_count\n",
       "9,378     9\n",
       "18,998    8\n",
       "24,269    7\n",
       "43,994    6\n",
       "32,840    5\n",
       "         ..\n",
       "17,810    1\n",
       "53,648    1\n",
       "2,014     1\n",
       "5,958     1\n",
       "6,987     1\n",
       "Name: count, Length: 1143, dtype: int64"
      ]
     },
     "execution_count": 11,
     "metadata": {},
     "output_type": "execute_result"
    }
   ],
   "source": [
    "df['rating_count'].value_counts()"
   ]
  },
  {
   "cell_type": "code",
   "execution_count": 12,
   "metadata": {},
   "outputs": [
    {
     "data": {
      "text/plain": [
       "0       24,269\n",
       "1       43,994\n",
       "2        7,928\n",
       "3       94,363\n",
       "4       16,905\n",
       "         ...  \n",
       "1460     1,090\n",
       "1461     4,118\n",
       "1462       468\n",
       "1463     8,031\n",
       "1464     6,987\n",
       "Name: rating_count, Length: 1465, dtype: object"
      ]
     },
     "execution_count": 12,
     "metadata": {},
     "output_type": "execute_result"
    }
   ],
   "source": [
    "df['rating_count']"
   ]
  },
  {
   "cell_type": "code",
   "execution_count": 13,
   "metadata": {},
   "outputs": [
    {
     "data": {
      "text/html": [
       "<div>\n",
       "<style scoped>\n",
       "    .dataframe tbody tr th:only-of-type {\n",
       "        vertical-align: middle;\n",
       "    }\n",
       "\n",
       "    .dataframe tbody tr th {\n",
       "        vertical-align: top;\n",
       "    }\n",
       "\n",
       "    .dataframe thead th {\n",
       "        text-align: right;\n",
       "    }\n",
       "</style>\n",
       "<table border=\"1\" class=\"dataframe\">\n",
       "  <thead>\n",
       "    <tr style=\"text-align: right;\">\n",
       "      <th></th>\n",
       "      <th>product_name</th>\n",
       "      <th>category</th>\n",
       "      <th>discounted_price</th>\n",
       "      <th>actual_price</th>\n",
       "      <th>discount_percentage</th>\n",
       "      <th>rating</th>\n",
       "      <th>rating_count</th>\n",
       "      <th>review_title</th>\n",
       "      <th>review_content</th>\n",
       "      <th>img_link</th>\n",
       "      <th>product_link</th>\n",
       "    </tr>\n",
       "  </thead>\n",
       "  <tbody>\n",
       "    <tr>\n",
       "      <th>0</th>\n",
       "      <td>Wayona Nylon Braided USB to Lightning Fast Cha...</td>\n",
       "      <td>Computers&amp;Accessories|Accessories&amp;Peripherals|...</td>\n",
       "      <td>₹399</td>\n",
       "      <td>₹1,099</td>\n",
       "      <td>64%</td>\n",
       "      <td>4.2</td>\n",
       "      <td>24,269</td>\n",
       "      <td>Satisfied,Charging is really fast,Value for mo...</td>\n",
       "      <td>Looks durable Charging is fine tooNo complains...</td>\n",
       "      <td>https://m.media-amazon.com/images/W/WEBP_40237...</td>\n",
       "      <td>https://www.amazon.in/Wayona-Braided-WN3LG1-Sy...</td>\n",
       "    </tr>\n",
       "    <tr>\n",
       "      <th>1</th>\n",
       "      <td>Ambrane Unbreakable 60W / 3A Fast Charging 1.5...</td>\n",
       "      <td>Computers&amp;Accessories|Accessories&amp;Peripherals|...</td>\n",
       "      <td>₹199</td>\n",
       "      <td>₹349</td>\n",
       "      <td>43%</td>\n",
       "      <td>4.0</td>\n",
       "      <td>43,994</td>\n",
       "      <td>A Good Braided Cable for Your Type C Device,Go...</td>\n",
       "      <td>I ordered this cable to connect my phone to An...</td>\n",
       "      <td>https://m.media-amazon.com/images/W/WEBP_40237...</td>\n",
       "      <td>https://www.amazon.in/Ambrane-Unbreakable-Char...</td>\n",
       "    </tr>\n",
       "    <tr>\n",
       "      <th>2</th>\n",
       "      <td>Sounce Fast Phone Charging Cable &amp; Data Sync U...</td>\n",
       "      <td>Computers&amp;Accessories|Accessories&amp;Peripherals|...</td>\n",
       "      <td>₹199</td>\n",
       "      <td>₹1,899</td>\n",
       "      <td>90%</td>\n",
       "      <td>3.9</td>\n",
       "      <td>7,928</td>\n",
       "      <td>Good speed for earlier versions,Good Product,W...</td>\n",
       "      <td>Not quite durable and sturdy,https://m.media-a...</td>\n",
       "      <td>https://m.media-amazon.com/images/W/WEBP_40237...</td>\n",
       "      <td>https://www.amazon.in/Sounce-iPhone-Charging-C...</td>\n",
       "    </tr>\n",
       "    <tr>\n",
       "      <th>3</th>\n",
       "      <td>boAt Deuce USB 300 2 in 1 Type-C &amp; Micro USB S...</td>\n",
       "      <td>Computers&amp;Accessories|Accessories&amp;Peripherals|...</td>\n",
       "      <td>₹329</td>\n",
       "      <td>₹699</td>\n",
       "      <td>53%</td>\n",
       "      <td>4.2</td>\n",
       "      <td>94,363</td>\n",
       "      <td>Good product,Good one,Nice,Really nice product...</td>\n",
       "      <td>Good product,long wire,Charges good,Nice,I bou...</td>\n",
       "      <td>https://m.media-amazon.com/images/I/41V5FtEWPk...</td>\n",
       "      <td>https://www.amazon.in/Deuce-300-Resistant-Tang...</td>\n",
       "    </tr>\n",
       "    <tr>\n",
       "      <th>4</th>\n",
       "      <td>Portronics Konnect L 1.2M Fast Charging 3A 8 P...</td>\n",
       "      <td>Computers&amp;Accessories|Accessories&amp;Peripherals|...</td>\n",
       "      <td>₹154</td>\n",
       "      <td>₹399</td>\n",
       "      <td>61%</td>\n",
       "      <td>4.2</td>\n",
       "      <td>16,905</td>\n",
       "      <td>As good as original,Decent,Good one for second...</td>\n",
       "      <td>Bought this instead of original apple, does th...</td>\n",
       "      <td>https://m.media-amazon.com/images/W/WEBP_40237...</td>\n",
       "      <td>https://www.amazon.in/Portronics-Konnect-POR-1...</td>\n",
       "    </tr>\n",
       "  </tbody>\n",
       "</table>\n",
       "</div>"
      ],
      "text/plain": [
       "                                        product_name  \\\n",
       "0  Wayona Nylon Braided USB to Lightning Fast Cha...   \n",
       "1  Ambrane Unbreakable 60W / 3A Fast Charging 1.5...   \n",
       "2  Sounce Fast Phone Charging Cable & Data Sync U...   \n",
       "3  boAt Deuce USB 300 2 in 1 Type-C & Micro USB S...   \n",
       "4  Portronics Konnect L 1.2M Fast Charging 3A 8 P...   \n",
       "\n",
       "                                            category discounted_price  \\\n",
       "0  Computers&Accessories|Accessories&Peripherals|...             ₹399   \n",
       "1  Computers&Accessories|Accessories&Peripherals|...             ₹199   \n",
       "2  Computers&Accessories|Accessories&Peripherals|...             ₹199   \n",
       "3  Computers&Accessories|Accessories&Peripherals|...             ₹329   \n",
       "4  Computers&Accessories|Accessories&Peripherals|...             ₹154   \n",
       "\n",
       "  actual_price discount_percentage rating rating_count  \\\n",
       "0       ₹1,099                 64%    4.2       24,269   \n",
       "1         ₹349                 43%    4.0       43,994   \n",
       "2       ₹1,899                 90%    3.9        7,928   \n",
       "3         ₹699                 53%    4.2       94,363   \n",
       "4         ₹399                 61%    4.2       16,905   \n",
       "\n",
       "                                        review_title  \\\n",
       "0  Satisfied,Charging is really fast,Value for mo...   \n",
       "1  A Good Braided Cable for Your Type C Device,Go...   \n",
       "2  Good speed for earlier versions,Good Product,W...   \n",
       "3  Good product,Good one,Nice,Really nice product...   \n",
       "4  As good as original,Decent,Good one for second...   \n",
       "\n",
       "                                      review_content  \\\n",
       "0  Looks durable Charging is fine tooNo complains...   \n",
       "1  I ordered this cable to connect my phone to An...   \n",
       "2  Not quite durable and sturdy,https://m.media-a...   \n",
       "3  Good product,long wire,Charges good,Nice,I bou...   \n",
       "4  Bought this instead of original apple, does th...   \n",
       "\n",
       "                                            img_link  \\\n",
       "0  https://m.media-amazon.com/images/W/WEBP_40237...   \n",
       "1  https://m.media-amazon.com/images/W/WEBP_40237...   \n",
       "2  https://m.media-amazon.com/images/W/WEBP_40237...   \n",
       "3  https://m.media-amazon.com/images/I/41V5FtEWPk...   \n",
       "4  https://m.media-amazon.com/images/W/WEBP_40237...   \n",
       "\n",
       "                                        product_link  \n",
       "0  https://www.amazon.in/Wayona-Braided-WN3LG1-Sy...  \n",
       "1  https://www.amazon.in/Ambrane-Unbreakable-Char...  \n",
       "2  https://www.amazon.in/Sounce-iPhone-Charging-C...  \n",
       "3  https://www.amazon.in/Deuce-300-Resistant-Tang...  \n",
       "4  https://www.amazon.in/Portronics-Konnect-POR-1...  "
      ]
     },
     "execution_count": 13,
     "metadata": {},
     "output_type": "execute_result"
    }
   ],
   "source": [
    "df.head()"
   ]
  },
  {
   "cell_type": "code",
   "execution_count": 14,
   "metadata": {},
   "outputs": [],
   "source": [
    "del df['review_title']; del df['review_content']; del df['img_link'];del df['product_link']"
   ]
  },
  {
   "cell_type": "code",
   "execution_count": 15,
   "metadata": {},
   "outputs": [
    {
     "data": {
      "text/html": [
       "<div>\n",
       "<style scoped>\n",
       "    .dataframe tbody tr th:only-of-type {\n",
       "        vertical-align: middle;\n",
       "    }\n",
       "\n",
       "    .dataframe tbody tr th {\n",
       "        vertical-align: top;\n",
       "    }\n",
       "\n",
       "    .dataframe thead th {\n",
       "        text-align: right;\n",
       "    }\n",
       "</style>\n",
       "<table border=\"1\" class=\"dataframe\">\n",
       "  <thead>\n",
       "    <tr style=\"text-align: right;\">\n",
       "      <th></th>\n",
       "      <th>product_name</th>\n",
       "      <th>category</th>\n",
       "      <th>discounted_price</th>\n",
       "      <th>actual_price</th>\n",
       "      <th>discount_percentage</th>\n",
       "      <th>rating</th>\n",
       "      <th>rating_count</th>\n",
       "    </tr>\n",
       "  </thead>\n",
       "  <tbody>\n",
       "    <tr>\n",
       "      <th>0</th>\n",
       "      <td>Wayona Nylon Braided USB to Lightning Fast Cha...</td>\n",
       "      <td>Computers&amp;Accessories|Accessories&amp;Peripherals|...</td>\n",
       "      <td>₹399</td>\n",
       "      <td>₹1,099</td>\n",
       "      <td>64%</td>\n",
       "      <td>4.2</td>\n",
       "      <td>24,269</td>\n",
       "    </tr>\n",
       "    <tr>\n",
       "      <th>1</th>\n",
       "      <td>Ambrane Unbreakable 60W / 3A Fast Charging 1.5...</td>\n",
       "      <td>Computers&amp;Accessories|Accessories&amp;Peripherals|...</td>\n",
       "      <td>₹199</td>\n",
       "      <td>₹349</td>\n",
       "      <td>43%</td>\n",
       "      <td>4.0</td>\n",
       "      <td>43,994</td>\n",
       "    </tr>\n",
       "    <tr>\n",
       "      <th>2</th>\n",
       "      <td>Sounce Fast Phone Charging Cable &amp; Data Sync U...</td>\n",
       "      <td>Computers&amp;Accessories|Accessories&amp;Peripherals|...</td>\n",
       "      <td>₹199</td>\n",
       "      <td>₹1,899</td>\n",
       "      <td>90%</td>\n",
       "      <td>3.9</td>\n",
       "      <td>7,928</td>\n",
       "    </tr>\n",
       "    <tr>\n",
       "      <th>3</th>\n",
       "      <td>boAt Deuce USB 300 2 in 1 Type-C &amp; Micro USB S...</td>\n",
       "      <td>Computers&amp;Accessories|Accessories&amp;Peripherals|...</td>\n",
       "      <td>₹329</td>\n",
       "      <td>₹699</td>\n",
       "      <td>53%</td>\n",
       "      <td>4.2</td>\n",
       "      <td>94,363</td>\n",
       "    </tr>\n",
       "    <tr>\n",
       "      <th>4</th>\n",
       "      <td>Portronics Konnect L 1.2M Fast Charging 3A 8 P...</td>\n",
       "      <td>Computers&amp;Accessories|Accessories&amp;Peripherals|...</td>\n",
       "      <td>₹154</td>\n",
       "      <td>₹399</td>\n",
       "      <td>61%</td>\n",
       "      <td>4.2</td>\n",
       "      <td>16,905</td>\n",
       "    </tr>\n",
       "  </tbody>\n",
       "</table>\n",
       "</div>"
      ],
      "text/plain": [
       "                                        product_name  \\\n",
       "0  Wayona Nylon Braided USB to Lightning Fast Cha...   \n",
       "1  Ambrane Unbreakable 60W / 3A Fast Charging 1.5...   \n",
       "2  Sounce Fast Phone Charging Cable & Data Sync U...   \n",
       "3  boAt Deuce USB 300 2 in 1 Type-C & Micro USB S...   \n",
       "4  Portronics Konnect L 1.2M Fast Charging 3A 8 P...   \n",
       "\n",
       "                                            category discounted_price  \\\n",
       "0  Computers&Accessories|Accessories&Peripherals|...             ₹399   \n",
       "1  Computers&Accessories|Accessories&Peripherals|...             ₹199   \n",
       "2  Computers&Accessories|Accessories&Peripherals|...             ₹199   \n",
       "3  Computers&Accessories|Accessories&Peripherals|...             ₹329   \n",
       "4  Computers&Accessories|Accessories&Peripherals|...             ₹154   \n",
       "\n",
       "  actual_price discount_percentage rating rating_count  \n",
       "0       ₹1,099                 64%    4.2       24,269  \n",
       "1         ₹349                 43%    4.0       43,994  \n",
       "2       ₹1,899                 90%    3.9        7,928  \n",
       "3         ₹699                 53%    4.2       94,363  \n",
       "4         ₹399                 61%    4.2       16,905  "
      ]
     },
     "execution_count": 15,
     "metadata": {},
     "output_type": "execute_result"
    }
   ],
   "source": [
    "df.head()"
   ]
  },
  {
   "cell_type": "code",
   "execution_count": 16,
   "metadata": {},
   "outputs": [
    {
     "data": {
      "text/plain": [
       "Index(['product_name', 'category', 'discounted_price', 'actual_price',\n",
       "       'discount_percentage', 'rating', 'rating_count'],\n",
       "      dtype='object')"
      ]
     },
     "execution_count": 16,
     "metadata": {},
     "output_type": "execute_result"
    }
   ],
   "source": [
    "df.columns"
   ]
  },
  {
   "cell_type": "code",
   "execution_count": 17,
   "metadata": {},
   "outputs": [
    {
     "name": "stdout",
     "output_type": "stream",
     "text": [
      "<class 'pandas.core.frame.DataFrame'>\n",
      "RangeIndex: 1465 entries, 0 to 1464\n",
      "Data columns (total 7 columns):\n",
      " #   Column               Non-Null Count  Dtype \n",
      "---  ------               --------------  ----- \n",
      " 0   product_name         1465 non-null   object\n",
      " 1   category             1465 non-null   object\n",
      " 2   discounted_price     1465 non-null   object\n",
      " 3   actual_price         1465 non-null   object\n",
      " 4   discount_percentage  1465 non-null   object\n",
      " 5   rating               1465 non-null   object\n",
      " 6   rating_count         1463 non-null   object\n",
      "dtypes: object(7)\n",
      "memory usage: 80.2+ KB\n"
     ]
    }
   ],
   "source": [
    "df.info()"
   ]
  },
  {
   "cell_type": "code",
   "execution_count": 18,
   "metadata": {},
   "outputs": [
    {
     "data": {
      "image/png": "[encoded data removed]",
      "text/plain": [
       "<Figure size 640x480 with 1 Axes>"
      ]
     },
     "metadata": {},
     "output_type": "display_data"
    }
   ],
   "source": [
    "sns.countplot(x = 'category', data = df)\n",
    "plt.show()"
   ]
  },
  {
   "cell_type": "code",
   "execution_count": 19,
   "metadata": {},
   "outputs": [
    {
     "data": {
      "text/plain": [
       "category\n",
       "Computers&Accessories|Accessories&Peripherals|Cables&Accessories|Cables|USBCables                                          233\n",
       "Electronics|WearableTechnology|SmartWatches                                                                                 76\n",
       "Electronics|Mobiles&Accessories|Smartphones&BasicMobiles|Smartphones                                                        68\n",
       "Electronics|HomeTheater,TV&Video|Televisions|SmartTelevisions                                                               63\n",
       "Electronics|Headphones,Earbuds&Accessories|Headphones|In-Ear                                                                52\n",
       "                                                                                                                          ... \n",
       "Electronics|Cameras&Photography|Accessories|Batteries&Chargers|BatteryChargers                                               1\n",
       "Computers&Accessories|NetworkingDevices|DataCards&Dongles                                                                    1\n",
       "Electronics|HomeAudio|Speakers|MultimediaSpeakerSystems                                                                      1\n",
       "OfficeProducts|OfficePaperProducts|Paper|Copy&PrintingPaper|ColouredPaper                                                    1\n",
       "Home&Kitchen|Kitchen&HomeAppliances|Vacuum,Cleaning&Ironing|Vacuums&FloorCare|VacuumAccessories|VacuumBags|HandheldBags      1\n",
       "Name: count, Length: 211, dtype: int64"
      ]
     },
     "execution_count": 19,
     "metadata": {},
     "output_type": "execute_result"
    }
   ],
   "source": [
    "df['category'].value_counts()"
   ]
  },
  {
   "cell_type": "code",
   "execution_count": 20,
   "metadata": {},
   "outputs": [
    {
     "data": {
      "text/plain": [
       "Index(['product_name', 'category', 'discounted_price', 'actual_price',\n",
       "       'discount_percentage', 'rating', 'rating_count'],\n",
       "      dtype='object')"
      ]
     },
     "execution_count": 20,
     "metadata": {},
     "output_type": "execute_result"
    }
   ],
   "source": [
    "df.columns"
   ]
  },
  {
   "cell_type": "code",
   "execution_count": 21,
   "metadata": {},
   "outputs": [
    {
     "data": {
      "text/html": [
       "<div>\n",
       "<style scoped>\n",
       "    .dataframe tbody tr th:only-of-type {\n",
       "        vertical-align: middle;\n",
       "    }\n",
       "\n",
       "    .dataframe tbody tr th {\n",
       "        vertical-align: top;\n",
       "    }\n",
       "\n",
       "    .dataframe thead th {\n",
       "        text-align: right;\n",
       "    }\n",
       "</style>\n",
       "<table border=\"1\" class=\"dataframe\">\n",
       "  <thead>\n",
       "    <tr style=\"text-align: right;\">\n",
       "      <th></th>\n",
       "      <th>product_name</th>\n",
       "      <th>category</th>\n",
       "      <th>discounted_price</th>\n",
       "      <th>actual_price</th>\n",
       "      <th>discount_percentage</th>\n",
       "      <th>rating</th>\n",
       "      <th>rating_count</th>\n",
       "    </tr>\n",
       "  </thead>\n",
       "  <tbody>\n",
       "    <tr>\n",
       "      <th>count</th>\n",
       "      <td>1465</td>\n",
       "      <td>1465</td>\n",
       "      <td>1465</td>\n",
       "      <td>1465</td>\n",
       "      <td>1465</td>\n",
       "      <td>1465</td>\n",
       "      <td>1463</td>\n",
       "    </tr>\n",
       "    <tr>\n",
       "      <th>unique</th>\n",
       "      <td>1337</td>\n",
       "      <td>211</td>\n",
       "      <td>550</td>\n",
       "      <td>449</td>\n",
       "      <td>92</td>\n",
       "      <td>28</td>\n",
       "      <td>1143</td>\n",
       "    </tr>\n",
       "    <tr>\n",
       "      <th>top</th>\n",
       "      <td>Fire-Boltt Ninja Call Pro Plus 1.83\" Smart Wat...</td>\n",
       "      <td>Computers&amp;Accessories|Accessories&amp;Peripherals|...</td>\n",
       "      <td>₹199</td>\n",
       "      <td>₹999</td>\n",
       "      <td>50%</td>\n",
       "      <td>4.1</td>\n",
       "      <td>9,378</td>\n",
       "    </tr>\n",
       "    <tr>\n",
       "      <th>freq</th>\n",
       "      <td>5</td>\n",
       "      <td>233</td>\n",
       "      <td>53</td>\n",
       "      <td>120</td>\n",
       "      <td>56</td>\n",
       "      <td>244</td>\n",
       "      <td>9</td>\n",
       "    </tr>\n",
       "  </tbody>\n",
       "</table>\n",
       "</div>"
      ],
      "text/plain": [
       "                                             product_name  \\\n",
       "count                                                1465   \n",
       "unique                                               1337   \n",
       "top     Fire-Boltt Ninja Call Pro Plus 1.83\" Smart Wat...   \n",
       "freq                                                    5   \n",
       "\n",
       "                                                 category discounted_price  \\\n",
       "count                                                1465             1465   \n",
       "unique                                                211              550   \n",
       "top     Computers&Accessories|Accessories&Peripherals|...             ₹199   \n",
       "freq                                                  233               53   \n",
       "\n",
       "       actual_price discount_percentage rating rating_count  \n",
       "count          1465                1465   1465         1463  \n",
       "unique          449                  92     28         1143  \n",
       "top            ₹999                 50%    4.1        9,378  \n",
       "freq            120                  56    244            9  "
      ]
     },
     "execution_count": 21,
     "metadata": {},
     "output_type": "execute_result"
    }
   ],
   "source": [
    "df.describe()"
   ]
  },
  {
   "cell_type": "code",
   "execution_count": 22,
   "metadata": {},
   "outputs": [
    {
     "data": {
      "text/html": [
       "<div>\n",
       "<style scoped>\n",
       "    .dataframe tbody tr th:only-of-type {\n",
       "        vertical-align: middle;\n",
       "    }\n",
       "\n",
       "    .dataframe tbody tr th {\n",
       "        vertical-align: top;\n",
       "    }\n",
       "\n",
       "    .dataframe thead th {\n",
       "        text-align: right;\n",
       "    }\n",
       "</style>\n",
       "<table border=\"1\" class=\"dataframe\">\n",
       "  <thead>\n",
       "    <tr style=\"text-align: right;\">\n",
       "      <th></th>\n",
       "      <th>product_name</th>\n",
       "      <th>category</th>\n",
       "      <th>discounted_price</th>\n",
       "      <th>actual_price</th>\n",
       "      <th>discount_percentage</th>\n",
       "      <th>rating</th>\n",
       "      <th>rating_count</th>\n",
       "    </tr>\n",
       "  </thead>\n",
       "  <tbody>\n",
       "    <tr>\n",
       "      <th>0</th>\n",
       "      <td>Wayona Nylon Braided USB to Lightning Fast Cha...</td>\n",
       "      <td>Computers&amp;Accessories|Accessories&amp;Peripherals|...</td>\n",
       "      <td>₹399</td>\n",
       "      <td>₹1,099</td>\n",
       "      <td>64%</td>\n",
       "      <td>4.2</td>\n",
       "      <td>24,269</td>\n",
       "    </tr>\n",
       "    <tr>\n",
       "      <th>1</th>\n",
       "      <td>Ambrane Unbreakable 60W / 3A Fast Charging 1.5...</td>\n",
       "      <td>Computers&amp;Accessories|Accessories&amp;Peripherals|...</td>\n",
       "      <td>₹199</td>\n",
       "      <td>₹349</td>\n",
       "      <td>43%</td>\n",
       "      <td>4.0</td>\n",
       "      <td>43,994</td>\n",
       "    </tr>\n",
       "    <tr>\n",
       "      <th>2</th>\n",
       "      <td>Sounce Fast Phone Charging Cable &amp; Data Sync U...</td>\n",
       "      <td>Computers&amp;Accessories|Accessories&amp;Peripherals|...</td>\n",
       "      <td>₹199</td>\n",
       "      <td>₹1,899</td>\n",
       "      <td>90%</td>\n",
       "      <td>3.9</td>\n",
       "      <td>7,928</td>\n",
       "    </tr>\n",
       "    <tr>\n",
       "      <th>3</th>\n",
       "      <td>boAt Deuce USB 300 2 in 1 Type-C &amp; Micro USB S...</td>\n",
       "      <td>Computers&amp;Accessories|Accessories&amp;Peripherals|...</td>\n",
       "      <td>₹329</td>\n",
       "      <td>₹699</td>\n",
       "      <td>53%</td>\n",
       "      <td>4.2</td>\n",
       "      <td>94,363</td>\n",
       "    </tr>\n",
       "    <tr>\n",
       "      <th>4</th>\n",
       "      <td>Portronics Konnect L 1.2M Fast Charging 3A 8 P...</td>\n",
       "      <td>Computers&amp;Accessories|Accessories&amp;Peripherals|...</td>\n",
       "      <td>₹154</td>\n",
       "      <td>₹399</td>\n",
       "      <td>61%</td>\n",
       "      <td>4.2</td>\n",
       "      <td>16,905</td>\n",
       "    </tr>\n",
       "  </tbody>\n",
       "</table>\n",
       "</div>"
      ],
      "text/plain": [
       "                                        product_name  \\\n",
       "0  Wayona Nylon Braided USB to Lightning Fast Cha...   \n",
       "1  Ambrane Unbreakable 60W / 3A Fast Charging 1.5...   \n",
       "2  Sounce Fast Phone Charging Cable & Data Sync U...   \n",
       "3  boAt Deuce USB 300 2 in 1 Type-C & Micro USB S...   \n",
       "4  Portronics Konnect L 1.2M Fast Charging 3A 8 P...   \n",
       "\n",
       "                                            category discounted_price  \\\n",
       "0  Computers&Accessories|Accessories&Peripherals|...             ₹399   \n",
       "1  Computers&Accessories|Accessories&Peripherals|...             ₹199   \n",
       "2  Computers&Accessories|Accessories&Peripherals|...             ₹199   \n",
       "3  Computers&Accessories|Accessories&Peripherals|...             ₹329   \n",
       "4  Computers&Accessories|Accessories&Peripherals|...             ₹154   \n",
       "\n",
       "  actual_price discount_percentage rating rating_count  \n",
       "0       ₹1,099                 64%    4.2       24,269  \n",
       "1         ₹349                 43%    4.0       43,994  \n",
       "2       ₹1,899                 90%    3.9        7,928  \n",
       "3         ₹699                 53%    4.2       94,363  \n",
       "4         ₹399                 61%    4.2       16,905  "
      ]
     },
     "execution_count": 22,
     "metadata": {},
     "output_type": "execute_result"
    }
   ],
   "source": [
    "df.head()"
   ]
  },
  {
   "cell_type": "code",
   "execution_count": 23,
   "metadata": {},
   "outputs": [
    {
     "data": {
      "image/png": "[encoded data removed]",
      "text/plain": [
       "<Figure size 640x480 with 1 Axes>"
      ]
     },
     "metadata": {},
     "output_type": "display_data"
    }
   ],
   "source": [
    "sns.countplot(x = 'actual_price', data = df); plt.show()"
   ]
  },
  {
   "cell_type": "code",
   "execution_count": 24,
   "metadata": {},
   "outputs": [
    {
     "name": "stdout",
     "output_type": "stream",
     "text": [
      "<class 'pandas.core.frame.DataFrame'>\n",
      "RangeIndex: 1465 entries, 0 to 1464\n",
      "Data columns (total 7 columns):\n",
      " #   Column               Non-Null Count  Dtype \n",
      "---  ------               --------------  ----- \n",
      " 0   product_name         1465 non-null   object\n",
      " 1   category             1465 non-null   object\n",
      " 2   discounted_price     1465 non-null   object\n",
      " 3   actual_price         1465 non-null   object\n",
      " 4   discount_percentage  1465 non-null   object\n",
      " 5   rating               1465 non-null   object\n",
      " 6   rating_count         1463 non-null   object\n",
      "dtypes: object(7)\n",
      "memory usage: 80.2+ KB\n"
     ]
    }
   ],
   "source": [
    "df.info()"
   ]
  },
  {
   "cell_type": "code",
   "execution_count": 25,
   "metadata": {},
   "outputs": [],
   "source": [
    "# Remove non-numeric characters and convert to integer\n",
    "df['actual_price'] = df['actual_price'].str.replace(r'[^\\d]', '', regex=True).astype(int)\n",
    "df['discounted_price'] = df['discounted_price'].str.replace(r'[^\\d]', '', regex=True).astype(int)"
   ]
  },
  {
   "cell_type": "code",
   "execution_count": 26,
   "metadata": {},
   "outputs": [
    {
     "name": "stdout",
     "output_type": "stream",
     "text": [
      "<class 'pandas.core.frame.DataFrame'>\n",
      "RangeIndex: 1465 entries, 0 to 1464\n",
      "Data columns (total 7 columns):\n",
      " #   Column               Non-Null Count  Dtype \n",
      "---  ------               --------------  ----- \n",
      " 0   product_name         1465 non-null   object\n",
      " 1   category             1465 non-null   object\n",
      " 2   discounted_price     1465 non-null   int64 \n",
      " 3   actual_price         1465 non-null   int64 \n",
      " 4   discount_percentage  1465 non-null   object\n",
      " 5   rating               1465 non-null   object\n",
      " 6   rating_count         1463 non-null   object\n",
      "dtypes: int64(2), object(5)\n",
      "memory usage: 80.2+ KB\n"
     ]
    }
   ],
   "source": [
    "df.info()"
   ]
  },
  {
   "cell_type": "code",
   "execution_count": 27,
   "metadata": {},
   "outputs": [
    {
     "data": {
      "text/html": [
       "<div>\n",
       "<style scoped>\n",
       "    .dataframe tbody tr th:only-of-type {\n",
       "        vertical-align: middle;\n",
       "    }\n",
       "\n",
       "    .dataframe tbody tr th {\n",
       "        vertical-align: top;\n",
       "    }\n",
       "\n",
       "    .dataframe thead th {\n",
       "        text-align: right;\n",
       "    }\n",
       "</style>\n",
       "<table border=\"1\" class=\"dataframe\">\n",
       "  <thead>\n",
       "    <tr style=\"text-align: right;\">\n",
       "      <th></th>\n",
       "      <th>product_name</th>\n",
       "      <th>category</th>\n",
       "      <th>discounted_price</th>\n",
       "      <th>actual_price</th>\n",
       "      <th>discount_percentage</th>\n",
       "      <th>rating</th>\n",
       "      <th>rating_count</th>\n",
       "    </tr>\n",
       "  </thead>\n",
       "  <tbody>\n",
       "    <tr>\n",
       "      <th>0</th>\n",
       "      <td>Wayona Nylon Braided USB to Lightning Fast Cha...</td>\n",
       "      <td>Computers&amp;Accessories|Accessories&amp;Peripherals|...</td>\n",
       "      <td>399</td>\n",
       "      <td>1099</td>\n",
       "      <td>64%</td>\n",
       "      <td>4.2</td>\n",
       "      <td>24,269</td>\n",
       "    </tr>\n",
       "    <tr>\n",
       "      <th>1</th>\n",
       "      <td>Ambrane Unbreakable 60W / 3A Fast Charging 1.5...</td>\n",
       "      <td>Computers&amp;Accessories|Accessories&amp;Peripherals|...</td>\n",
       "      <td>199</td>\n",
       "      <td>349</td>\n",
       "      <td>43%</td>\n",
       "      <td>4.0</td>\n",
       "      <td>43,994</td>\n",
       "    </tr>\n",
       "    <tr>\n",
       "      <th>2</th>\n",
       "      <td>Sounce Fast Phone Charging Cable &amp; Data Sync U...</td>\n",
       "      <td>Computers&amp;Accessories|Accessories&amp;Peripherals|...</td>\n",
       "      <td>199</td>\n",
       "      <td>1899</td>\n",
       "      <td>90%</td>\n",
       "      <td>3.9</td>\n",
       "      <td>7,928</td>\n",
       "    </tr>\n",
       "    <tr>\n",
       "      <th>3</th>\n",
       "      <td>boAt Deuce USB 300 2 in 1 Type-C &amp; Micro USB S...</td>\n",
       "      <td>Computers&amp;Accessories|Accessories&amp;Peripherals|...</td>\n",
       "      <td>329</td>\n",
       "      <td>699</td>\n",
       "      <td>53%</td>\n",
       "      <td>4.2</td>\n",
       "      <td>94,363</td>\n",
       "    </tr>\n",
       "    <tr>\n",
       "      <th>4</th>\n",
       "      <td>Portronics Konnect L 1.2M Fast Charging 3A 8 P...</td>\n",
       "      <td>Computers&amp;Accessories|Accessories&amp;Peripherals|...</td>\n",
       "      <td>154</td>\n",
       "      <td>399</td>\n",
       "      <td>61%</td>\n",
       "      <td>4.2</td>\n",
       "      <td>16,905</td>\n",
       "    </tr>\n",
       "  </tbody>\n",
       "</table>\n",
       "</div>"
      ],
      "text/plain": [
       "                                        product_name  \\\n",
       "0  Wayona Nylon Braided USB to Lightning Fast Cha...   \n",
       "1  Ambrane Unbreakable 60W / 3A Fast Charging 1.5...   \n",
       "2  Sounce Fast Phone Charging Cable & Data Sync U...   \n",
       "3  boAt Deuce USB 300 2 in 1 Type-C & Micro USB S...   \n",
       "4  Portronics Konnect L 1.2M Fast Charging 3A 8 P...   \n",
       "\n",
       "                                            category  discounted_price  \\\n",
       "0  Computers&Accessories|Accessories&Peripherals|...               399   \n",
       "1  Computers&Accessories|Accessories&Peripherals|...               199   \n",
       "2  Computers&Accessories|Accessories&Peripherals|...               199   \n",
       "3  Computers&Accessories|Accessories&Peripherals|...               329   \n",
       "4  Computers&Accessories|Accessories&Peripherals|...               154   \n",
       "\n",
       "   actual_price discount_percentage rating rating_count  \n",
       "0          1099                 64%    4.2       24,269  \n",
       "1           349                 43%    4.0       43,994  \n",
       "2          1899                 90%    3.9        7,928  \n",
       "3           699                 53%    4.2       94,363  \n",
       "4           399                 61%    4.2       16,905  "
      ]
     },
     "execution_count": 27,
     "metadata": {},
     "output_type": "execute_result"
    }
   ],
   "source": [
    "df.head()"
   ]
  },
  {
   "cell_type": "code",
   "execution_count": 28,
   "metadata": {},
   "outputs": [
    {
     "name": "stdout",
     "output_type": "stream",
     "text": [
      "<class 'pandas.core.frame.DataFrame'>\n",
      "RangeIndex: 1465 entries, 0 to 1464\n",
      "Data columns (total 7 columns):\n",
      " #   Column               Non-Null Count  Dtype \n",
      "---  ------               --------------  ----- \n",
      " 0   product_name         1465 non-null   object\n",
      " 1   category             1465 non-null   object\n",
      " 2   discounted_price     1465 non-null   int64 \n",
      " 3   actual_price         1465 non-null   int64 \n",
      " 4   discount_percentage  1465 non-null   object\n",
      " 5   rating               1465 non-null   object\n",
      " 6   rating_count         1463 non-null   object\n",
      "dtypes: int64(2), object(5)\n",
      "memory usage: 80.2+ KB\n"
     ]
    }
   ],
   "source": [
    "df.info()"
   ]
  },
  {
   "cell_type": "code",
   "execution_count": 29,
   "metadata": {},
   "outputs": [],
   "source": [
    "df['rating_count'] = df['rating_count'].str.replace(r'[^\\d]', '', regex=True)\n",
    "df['rating_count'] = pd.to_numeric(df['rating_count'], errors='coerce').astype('Int64')  # use 'Int64' to handle NaN\n",
    "\n",
    "# Convert rating to float\n",
    "df['rating'] = df['rating'].str.replace(r'[^\\d\\.]', '', regex=True)\n",
    "df['rating'] = pd.to_numeric(df['rating'], errors='coerce').astype('float')"
   ]
  },
  {
   "cell_type": "code",
   "execution_count": 30,
   "metadata": {},
   "outputs": [
    {
     "name": "stdout",
     "output_type": "stream",
     "text": [
      "<class 'pandas.core.frame.DataFrame'>\n",
      "RangeIndex: 1465 entries, 0 to 1464\n",
      "Data columns (total 7 columns):\n",
      " #   Column               Non-Null Count  Dtype  \n",
      "---  ------               --------------  -----  \n",
      " 0   product_name         1465 non-null   object \n",
      " 1   category             1465 non-null   object \n",
      " 2   discounted_price     1465 non-null   int64  \n",
      " 3   actual_price         1465 non-null   int64  \n",
      " 4   discount_percentage  1465 non-null   object \n",
      " 5   rating               1464 non-null   float64\n",
      " 6   rating_count         1463 non-null   Int64  \n",
      "dtypes: Int64(1), float64(1), int64(2), object(3)\n",
      "memory usage: 81.7+ KB\n"
     ]
    }
   ],
   "source": [
    "df.info()"
   ]
  },
  {
   "cell_type": "code",
   "execution_count": 31,
   "metadata": {},
   "outputs": [
    {
     "data": {
      "text/plain": [
       "discount_percentage\n",
       "50%    56\n",
       "60%    56\n",
       "0%     49\n",
       "80%    37\n",
       "55%    36\n",
       "       ..\n",
       "2%      2\n",
       "7%      2\n",
       "94%     1\n",
       "89%     1\n",
       "9%      1\n",
       "Name: count, Length: 92, dtype: int64"
      ]
     },
     "execution_count": 31,
     "metadata": {},
     "output_type": "execute_result"
    }
   ],
   "source": [
    "df['discount_percentage'].value_counts()"
   ]
  },
  {
   "cell_type": "code",
   "execution_count": 32,
   "metadata": {},
   "outputs": [
    {
     "data": {
      "text/html": [
       "<div>\n",
       "<style scoped>\n",
       "    .dataframe tbody tr th:only-of-type {\n",
       "        vertical-align: middle;\n",
       "    }\n",
       "\n",
       "    .dataframe tbody tr th {\n",
       "        vertical-align: top;\n",
       "    }\n",
       "\n",
       "    .dataframe thead th {\n",
       "        text-align: right;\n",
       "    }\n",
       "</style>\n",
       "<table border=\"1\" class=\"dataframe\">\n",
       "  <thead>\n",
       "    <tr style=\"text-align: right;\">\n",
       "      <th></th>\n",
       "      <th>discounted_price</th>\n",
       "      <th>actual_price</th>\n",
       "      <th>rating</th>\n",
       "      <th>rating_count</th>\n",
       "    </tr>\n",
       "  </thead>\n",
       "  <tbody>\n",
       "    <tr>\n",
       "      <th>count</th>\n",
       "      <td>1465.000000</td>\n",
       "      <td>1465.000000</td>\n",
       "      <td>1464.000000</td>\n",
       "      <td>1463.0</td>\n",
       "    </tr>\n",
       "    <tr>\n",
       "      <th>mean</th>\n",
       "      <td>4318.813652</td>\n",
       "      <td>5827.899659</td>\n",
       "      <td>4.096585</td>\n",
       "      <td>18295.541353</td>\n",
       "    </tr>\n",
       "    <tr>\n",
       "      <th>std</th>\n",
       "      <td>18767.906760</td>\n",
       "      <td>15755.694899</td>\n",
       "      <td>0.291674</td>\n",
       "      <td>42753.864952</td>\n",
       "    </tr>\n",
       "    <tr>\n",
       "      <th>min</th>\n",
       "      <td>39.000000</td>\n",
       "      <td>39.000000</td>\n",
       "      <td>2.000000</td>\n",
       "      <td>2.0</td>\n",
       "    </tr>\n",
       "    <tr>\n",
       "      <th>25%</th>\n",
       "      <td>329.000000</td>\n",
       "      <td>825.000000</td>\n",
       "      <td>4.000000</td>\n",
       "      <td>1186.0</td>\n",
       "    </tr>\n",
       "    <tr>\n",
       "      <th>50%</th>\n",
       "      <td>809.000000</td>\n",
       "      <td>1690.000000</td>\n",
       "      <td>4.100000</td>\n",
       "      <td>5179.0</td>\n",
       "    </tr>\n",
       "    <tr>\n",
       "      <th>75%</th>\n",
       "      <td>2089.000000</td>\n",
       "      <td>4400.000000</td>\n",
       "      <td>4.300000</td>\n",
       "      <td>17336.5</td>\n",
       "    </tr>\n",
       "    <tr>\n",
       "      <th>max</th>\n",
       "      <td>365766.000000</td>\n",
       "      <td>433296.000000</td>\n",
       "      <td>5.000000</td>\n",
       "      <td>426973.0</td>\n",
       "    </tr>\n",
       "  </tbody>\n",
       "</table>\n",
       "</div>"
      ],
      "text/plain": [
       "       discounted_price   actual_price       rating  rating_count\n",
       "count       1465.000000    1465.000000  1464.000000        1463.0\n",
       "mean        4318.813652    5827.899659     4.096585  18295.541353\n",
       "std        18767.906760   15755.694899     0.291674  42753.864952\n",
       "min           39.000000      39.000000     2.000000           2.0\n",
       "25%          329.000000     825.000000     4.000000        1186.0\n",
       "50%          809.000000    1690.000000     4.100000        5179.0\n",
       "75%         2089.000000    4400.000000     4.300000       17336.5\n",
       "max       365766.000000  433296.000000     5.000000      426973.0"
      ]
     },
     "execution_count": 32,
     "metadata": {},
     "output_type": "execute_result"
    }
   ],
   "source": [
    "df.describe()"
   ]
  },
  {
   "cell_type": "code",
   "execution_count": 33,
   "metadata": {},
   "outputs": [],
   "source": [
    "# Clean and convert relevant columns\n",
    "\n",
    "# Remove non-numeric characters and convert to integers/floats\n",
    "# df['actual_price'] = pd.to_numeric(df['actual_price'].str.replace(r'[^\\d]', '', regex=True), errors='coerce')\n",
    "# df['discounted_price'] = pd.to_numeric(df['discounted_price'].str.replace(r'[^\\d]', '', regex=True), errors='coerce')\n",
    "# df['rating_count'] = pd.to_numeric(df['rating_count'].str.replace(r'[^\\d]', '', regex=True), errors='coerce')\n",
    "# df['rating'] = pd.to_numeric(df['rating'].str.replace(r'[^\\d\\.]', '', regex=True), errors='coerce')\n",
    "# df['discount_percentage'] = pd.to_numeric(df['discount_percentage'].str.replace(r'[^\\d]', '', regex=True), errors='coerce')\n",
    "\n",
    "# # Now select only numeric columns and apply corr()\n",
    "# numeric_df = df.select_dtypes(include='number')\n",
    "# correlation_matrix = numeric_df.corr()\n",
    "\n",
    "# print(correlation_matrix)"
   ]
  },
  {
   "cell_type": "code",
   "execution_count": 34,
   "metadata": {},
   "outputs": [
    {
     "data": {
      "text/plain": [
       "product_name           0\n",
       "category               0\n",
       "discounted_price       0\n",
       "actual_price           0\n",
       "discount_percentage    0\n",
       "rating                 1\n",
       "rating_count           2\n",
       "dtype: int64"
      ]
     },
     "execution_count": 34,
     "metadata": {},
     "output_type": "execute_result"
    }
   ],
   "source": [
    "df.isna().sum()"
   ]
  },
  {
   "cell_type": "code",
   "execution_count": 35,
   "metadata": {},
   "outputs": [
    {
     "name": "stdout",
     "output_type": "stream",
     "text": [
      "<class 'pandas.core.frame.DataFrame'>\n",
      "RangeIndex: 1465 entries, 0 to 1464\n",
      "Data columns (total 7 columns):\n",
      " #   Column               Non-Null Count  Dtype  \n",
      "---  ------               --------------  -----  \n",
      " 0   product_name         1465 non-null   object \n",
      " 1   category             1465 non-null   object \n",
      " 2   discounted_price     1465 non-null   int64  \n",
      " 3   actual_price         1465 non-null   int64  \n",
      " 4   discount_percentage  1465 non-null   object \n",
      " 5   rating               1464 non-null   float64\n",
      " 6   rating_count         1463 non-null   Int64  \n",
      "dtypes: Int64(1), float64(1), int64(2), object(3)\n",
      "memory usage: 81.7+ KB\n"
     ]
    }
   ],
   "source": [
    "df.info()"
   ]
  },
  {
   "cell_type": "code",
   "execution_count": 36,
   "metadata": {},
   "outputs": [
    {
     "data": {
      "text/plain": [
       "array([], shape=(0, 7), dtype=object)"
      ]
     },
     "execution_count": 36,
     "metadata": {},
     "output_type": "execute_result"
    }
   ],
   "source": [
    "df[df['rating_count'] == 'NaN'].values"
   ]
  },
  {
   "cell_type": "code",
   "execution_count": 37,
   "metadata": {},
   "outputs": [
    {
     "data": {
      "text/html": [
       "<div>\n",
       "<style scoped>\n",
       "    .dataframe tbody tr th:only-of-type {\n",
       "        vertical-align: middle;\n",
       "    }\n",
       "\n",
       "    .dataframe tbody tr th {\n",
       "        vertical-align: top;\n",
       "    }\n",
       "\n",
       "    .dataframe thead th {\n",
       "        text-align: right;\n",
       "    }\n",
       "</style>\n",
       "<table border=\"1\" class=\"dataframe\">\n",
       "  <thead>\n",
       "    <tr style=\"text-align: right;\">\n",
       "      <th></th>\n",
       "      <th>product_name</th>\n",
       "      <th>category</th>\n",
       "      <th>discounted_price</th>\n",
       "      <th>actual_price</th>\n",
       "      <th>discount_percentage</th>\n",
       "      <th>rating</th>\n",
       "      <th>rating_count</th>\n",
       "    </tr>\n",
       "  </thead>\n",
       "  <tbody>\n",
       "  </tbody>\n",
       "</table>\n",
       "</div>"
      ],
      "text/plain": [
       "Empty DataFrame\n",
       "Columns: [product_name, category, discounted_price, actual_price, discount_percentage, rating, rating_count]\n",
       "Index: []"
      ]
     },
     "execution_count": 37,
     "metadata": {},
     "output_type": "execute_result"
    }
   ],
   "source": [
    "df[df['rating_count'] == 'NaN']"
   ]
  },
  {
   "cell_type": "code",
   "execution_count": 38,
   "metadata": {},
   "outputs": [],
   "source": [
    "df.dropna(inplace=True)"
   ]
  },
  {
   "cell_type": "code",
   "execution_count": 39,
   "metadata": {},
   "outputs": [
    {
     "data": {
      "text/plain": [
       "product_name           0\n",
       "category               0\n",
       "discounted_price       0\n",
       "actual_price           0\n",
       "discount_percentage    0\n",
       "rating                 0\n",
       "rating_count           0\n",
       "dtype: int64"
      ]
     },
     "execution_count": 39,
     "metadata": {},
     "output_type": "execute_result"
    }
   ],
   "source": [
    "df.isna().sum()"
   ]
  },
  {
   "cell_type": "code",
   "execution_count": 40,
   "metadata": {},
   "outputs": [
    {
     "name": "stdout",
     "output_type": "stream",
     "text": [
      "                  discounted_price  actual_price    rating  rating_count\n",
      "discounted_price          1.000000      0.238729  0.025434     -0.027960\n",
      "actual_price              0.238729      1.000000  0.042256     -0.022612\n",
      "rating                    0.025434      0.042256  1.000000      0.102235\n",
      "rating_count             -0.027960     -0.022612  0.102235      1.000000\n"
     ]
    }
   ],
   "source": [
    "# Get correlation matrix of numeric columns only\n",
    "numeric_df = df.select_dtypes(include='number')\n",
    "correlation_matrix = numeric_df.corr()\n",
    "print(correlation_matrix)"
   ]
  },
  {
   "cell_type": "code",
   "execution_count": 41,
   "metadata": {},
   "outputs": [
    {
     "data": {
      "image/png": "[encoded data removed]",
      "text/plain": [
       "<Figure size 640x480 with 2 Axes>"
      ]
     },
     "metadata": {},
     "output_type": "display_data"
    }
   ],
   "source": [
    "sns.heatmap(correlation_matrix,annot=True)\n",
    "plt.show()"
   ]
  },
  {
   "cell_type": "code",
   "execution_count": 42,
   "metadata": {},
   "outputs": [
    {
     "data": {
      "image/png": "[encoded data removed]",
      "text/plain": [
       "<Figure size 640x480 with 1 Axes>"
      ]
     },
     "metadata": {},
     "output_type": "display_data"
    }
   ],
   "source": [
    "# Finding the outliers...\n",
    "df.columns\n",
    "sns.boxplot(x = 'actual_price', data = df)\n",
    "plt.show()"
   ]
  },
  {
   "cell_type": "code",
   "execution_count": 43,
   "metadata": {},
   "outputs": [
    {
     "data": {
      "text/plain": [
       "actual_price\n",
       "999     118\n",
       "499      71\n",
       "1999     56\n",
       "1499     37\n",
       "399      34\n",
       "       ... \n",
       "931       1\n",
       "3599      1\n",
       "420       1\n",
       "9625      1\n",
       "3690      1\n",
       "Name: count, Length: 449, dtype: int64"
      ]
     },
     "execution_count": 43,
     "metadata": {},
     "output_type": "execute_result"
    }
   ],
   "source": [
    "df['actual_price'].value_counts()"
   ]
  },
  {
   "cell_type": "code",
   "execution_count": 44,
   "metadata": {},
   "outputs": [
    {
     "data": {
      "text/plain": [
       "(1462,)"
      ]
     },
     "execution_count": 44,
     "metadata": {},
     "output_type": "execute_result"
    }
   ],
   "source": [
    "df['actual_price'].shape"
   ]
  },
  {
   "cell_type": "code",
   "execution_count": 45,
   "metadata": {},
   "outputs": [
    {
     "data": {
      "image/png": "[encoded data removed]",
      "text/plain": [
       "<Figure size 640x480 with 2 Axes>"
      ]
     },
     "metadata": {},
     "output_type": "display_data"
    }
   ],
   "source": [
    "sns.heatmap(correlation_matrix, annot=True)\n",
    "plt.show()"
   ]
  },
  {
   "cell_type": "code",
   "execution_count": 46,
   "metadata": {},
   "outputs": [
    {
     "name": "stdout",
     "output_type": "stream",
     "text": [
      "<class 'pandas.core.frame.DataFrame'>\n",
      "Index: 1462 entries, 0 to 1464\n",
      "Data columns (total 7 columns):\n",
      " #   Column               Non-Null Count  Dtype  \n",
      "---  ------               --------------  -----  \n",
      " 0   product_name         1462 non-null   object \n",
      " 1   category             1462 non-null   object \n",
      " 2   discounted_price     1462 non-null   int64  \n",
      " 3   actual_price         1462 non-null   int64  \n",
      " 4   discount_percentage  1462 non-null   object \n",
      " 5   rating               1462 non-null   float64\n",
      " 6   rating_count         1462 non-null   Int64  \n",
      "dtypes: Int64(1), float64(1), int64(2), object(3)\n",
      "memory usage: 92.8+ KB\n"
     ]
    }
   ],
   "source": [
    "df.info()"
   ]
  },
  {
   "cell_type": "code",
   "execution_count": 47,
   "metadata": {},
   "outputs": [
    {
     "data": {
      "image/png": "[encoded data removed]",
      "text/plain": [
       "<Figure size 640x480 with 1 Axes>"
      ]
     },
     "metadata": {},
     "output_type": "display_data"
    }
   ],
   "source": [
    "sns.scatterplot(x='discounted_price',y='actual_price', data = df)\n",
    "plt.show()"
   ]
  },
  {
   "cell_type": "code",
   "execution_count": 48,
   "metadata": {},
   "outputs": [
    {
     "name": "stdout",
     "output_type": "stream",
     "text": [
      "<class 'pandas.core.frame.DataFrame'>\n",
      "Index: 1462 entries, 0 to 1464\n",
      "Data columns (total 7 columns):\n",
      " #   Column               Non-Null Count  Dtype  \n",
      "---  ------               --------------  -----  \n",
      " 0   product_name         1462 non-null   object \n",
      " 1   category             1462 non-null   object \n",
      " 2   discounted_price     1462 non-null   int64  \n",
      " 3   actual_price         1462 non-null   int64  \n",
      " 4   discount_percentage  1462 non-null   object \n",
      " 5   rating               1462 non-null   float64\n",
      " 6   rating_count         1462 non-null   Int64  \n",
      "dtypes: Int64(1), float64(1), int64(2), object(3)\n",
      "memory usage: 92.8+ KB\n"
     ]
    }
   ],
   "source": [
    "df.info()"
   ]
  },
  {
   "cell_type": "code",
   "execution_count": 49,
   "metadata": {},
   "outputs": [
    {
     "data": {
      "image/png": "[encoded data removed]",
      "text/plain": [
       "<Figure size 640x480 with 1 Axes>"
      ]
     },
     "metadata": {},
     "output_type": "display_data"
    }
   ],
   "source": [
    "sns.scatterplot(x='discounted_price',y='rating_count',data=df)\n",
    "plt.show()"
   ]
  },
  {
   "cell_type": "code",
   "execution_count": 50,
   "metadata": {},
   "outputs": [
    {
     "data": {
      "image/png": "[encoded data removed]",
      "text/plain": [
       "<Figure size 640x480 with 1 Axes>"
      ]
     },
     "metadata": {},
     "output_type": "display_data"
    }
   ],
   "source": [
    "sns.boxplot(x = 'rating_count',data=df); plt.title('Is there is any outlier in this plot ? ')\n",
    "plt.show()"
   ]
  },
  {
   "cell_type": "code",
   "execution_count": 51,
   "metadata": {},
   "outputs": [
    {
     "name": "stdout",
     "output_type": "stream",
     "text": [
      "<class 'pandas.core.frame.DataFrame'>\n",
      "Index: 1462 entries, 0 to 1464\n",
      "Data columns (total 7 columns):\n",
      " #   Column               Non-Null Count  Dtype  \n",
      "---  ------               --------------  -----  \n",
      " 0   product_name         1462 non-null   object \n",
      " 1   category             1462 non-null   object \n",
      " 2   discounted_price     1462 non-null   int64  \n",
      " 3   actual_price         1462 non-null   int64  \n",
      " 4   discount_percentage  1462 non-null   object \n",
      " 5   rating               1462 non-null   float64\n",
      " 6   rating_count         1462 non-null   Int64  \n",
      "dtypes: Int64(1), float64(1), int64(2), object(3)\n",
      "memory usage: 92.8+ KB\n"
     ]
    }
   ],
   "source": [
    "df.info()"
   ]
  },
  {
   "cell_type": "code",
   "execution_count": 52,
   "metadata": {},
   "outputs": [
    {
     "data": {
      "image/png": "[encoded data removed]",
      "text/plain": [
       "<Figure size 640x480 with 1 Axes>"
      ]
     },
     "metadata": {},
     "output_type": "display_data"
    }
   ],
   "source": [
    "sns.scatterplot(x = 'rating', y = 'actual_price', data = df)\n",
    "plt.show()"
   ]
  },
  {
   "cell_type": "code",
   "execution_count": 53,
   "metadata": {},
   "outputs": [
    {
     "data": {
      "image/png": "[encoded data removed]",
      "text/plain": [
       "<Figure size 640x480 with 1 Axes>"
      ]
     },
     "metadata": {},
     "output_type": "display_data"
    }
   ],
   "source": [
    "sns.boxplot(x = 'rating',data=df); plt.title('Is there is any outlier in this plot ? ')\n",
    "plt.show()"
   ]
  },
  {
   "cell_type": "code",
   "execution_count": 54,
   "metadata": {},
   "outputs": [
    {
     "data": {
      "text/html": [
       "<div>\n",
       "<style scoped>\n",
       "    .dataframe tbody tr th:only-of-type {\n",
       "        vertical-align: middle;\n",
       "    }\n",
       "\n",
       "    .dataframe tbody tr th {\n",
       "        vertical-align: top;\n",
       "    }\n",
       "\n",
       "    .dataframe thead th {\n",
       "        text-align: right;\n",
       "    }\n",
       "</style>\n",
       "<table border=\"1\" class=\"dataframe\">\n",
       "  <thead>\n",
       "    <tr style=\"text-align: right;\">\n",
       "      <th></th>\n",
       "      <th>discounted_price</th>\n",
       "      <th>actual_price</th>\n",
       "      <th>rating</th>\n",
       "      <th>rating_count</th>\n",
       "    </tr>\n",
       "  </thead>\n",
       "  <tbody>\n",
       "    <tr>\n",
       "      <th>count</th>\n",
       "      <td>1462.000000</td>\n",
       "      <td>1462.000000</td>\n",
       "      <td>1462.000000</td>\n",
       "      <td>1462.0</td>\n",
       "    </tr>\n",
       "    <tr>\n",
       "      <th>mean</th>\n",
       "      <td>4325.933653</td>\n",
       "      <td>5836.782490</td>\n",
       "      <td>4.096717</td>\n",
       "      <td>18307.376881</td>\n",
       "    </tr>\n",
       "    <tr>\n",
       "      <th>std</th>\n",
       "      <td>18786.463747</td>\n",
       "      <td>15770.607911</td>\n",
       "      <td>0.289497</td>\n",
       "      <td>42766.096572</td>\n",
       "    </tr>\n",
       "    <tr>\n",
       "      <th>min</th>\n",
       "      <td>39.000000</td>\n",
       "      <td>39.000000</td>\n",
       "      <td>2.000000</td>\n",
       "      <td>2.0</td>\n",
       "    </tr>\n",
       "    <tr>\n",
       "      <th>25%</th>\n",
       "      <td>329.000000</td>\n",
       "      <td>806.250000</td>\n",
       "      <td>4.000000</td>\n",
       "      <td>1191.5</td>\n",
       "    </tr>\n",
       "    <tr>\n",
       "      <th>50%</th>\n",
       "      <td>809.000000</td>\n",
       "      <td>1692.500000</td>\n",
       "      <td>4.100000</td>\n",
       "      <td>5179.0</td>\n",
       "    </tr>\n",
       "    <tr>\n",
       "      <th>75%</th>\n",
       "      <td>2088.750000</td>\n",
       "      <td>4467.500000</td>\n",
       "      <td>4.300000</td>\n",
       "      <td>17342.25</td>\n",
       "    </tr>\n",
       "    <tr>\n",
       "      <th>max</th>\n",
       "      <td>365766.000000</td>\n",
       "      <td>433296.000000</td>\n",
       "      <td>5.000000</td>\n",
       "      <td>426973.0</td>\n",
       "    </tr>\n",
       "  </tbody>\n",
       "</table>\n",
       "</div>"
      ],
      "text/plain": [
       "       discounted_price   actual_price       rating  rating_count\n",
       "count       1462.000000    1462.000000  1462.000000        1462.0\n",
       "mean        4325.933653    5836.782490     4.096717  18307.376881\n",
       "std        18786.463747   15770.607911     0.289497  42766.096572\n",
       "min           39.000000      39.000000     2.000000           2.0\n",
       "25%          329.000000     806.250000     4.000000        1191.5\n",
       "50%          809.000000    1692.500000     4.100000        5179.0\n",
       "75%         2088.750000    4467.500000     4.300000      17342.25\n",
       "max       365766.000000  433296.000000     5.000000      426973.0"
      ]
     },
     "execution_count": 54,
     "metadata": {},
     "output_type": "execute_result"
    }
   ],
   "source": [
    "df.describe()"
   ]
  },
  {
   "cell_type": "code",
   "execution_count": 55,
   "metadata": {},
   "outputs": [
    {
     "data": {
      "text/plain": [
       "np.float64(4.0)"
      ]
     },
     "execution_count": 55,
     "metadata": {},
     "output_type": "execute_result"
    }
   ],
   "source": [
    "Q1 = df['rating'].quantile(0.25)\n",
    "Q1"
   ]
  },
  {
   "cell_type": "code",
   "execution_count": 56,
   "metadata": {},
   "outputs": [
    {
     "data": {
      "text/plain": [
       "np.float64(4.3)"
      ]
     },
     "execution_count": 56,
     "metadata": {},
     "output_type": "execute_result"
    }
   ],
   "source": [
    "Q3 = df['rating'].quantile(0.75)\n",
    "Q3"
   ]
  },
  {
   "cell_type": "code",
   "execution_count": 57,
   "metadata": {},
   "outputs": [
    {
     "name": "stdout",
     "output_type": "stream",
     "text": [
      "The IQR (Inter Quatile range): 0.2999999999999998\n"
     ]
    }
   ],
   "source": [
    "IQR = Q3 - Q1; print(f'The IQR (Inter Quatile range): {IQR}')"
   ]
  },
  {
   "cell_type": "code",
   "execution_count": 58,
   "metadata": {},
   "outputs": [],
   "source": [
    "lowerbound = Q1 - 1.5 * IQR"
   ]
  },
  {
   "cell_type": "code",
   "execution_count": 59,
   "metadata": {},
   "outputs": [
    {
     "name": "stdout",
     "output_type": "stream",
     "text": [
      "3.5500000000000003 -- 3.85\n"
     ]
    }
   ],
   "source": [
    "upperbound = Q3 - 1.5 * IQR; print(f'{lowerbound} -- {upperbound}')"
   ]
  },
  {
   "cell_type": "code",
   "execution_count": 60,
   "metadata": {},
   "outputs": [
    {
     "data": {
      "text/html": [
       "<div>\n",
       "<style scoped>\n",
       "    .dataframe tbody tr th:only-of-type {\n",
       "        vertical-align: middle;\n",
       "    }\n",
       "\n",
       "    .dataframe tbody tr th {\n",
       "        vertical-align: top;\n",
       "    }\n",
       "\n",
       "    .dataframe thead th {\n",
       "        text-align: right;\n",
       "    }\n",
       "</style>\n",
       "<table border=\"1\" class=\"dataframe\">\n",
       "  <thead>\n",
       "    <tr style=\"text-align: right;\">\n",
       "      <th></th>\n",
       "      <th>product_name</th>\n",
       "      <th>category</th>\n",
       "      <th>discounted_price</th>\n",
       "      <th>actual_price</th>\n",
       "      <th>discount_percentage</th>\n",
       "      <th>rating</th>\n",
       "      <th>rating_count</th>\n",
       "    </tr>\n",
       "  </thead>\n",
       "  <tbody>\n",
       "    <tr>\n",
       "      <th>0</th>\n",
       "      <td>Wayona Nylon Braided USB to Lightning Fast Cha...</td>\n",
       "      <td>Computers&amp;Accessories|Accessories&amp;Peripherals|...</td>\n",
       "      <td>399</td>\n",
       "      <td>1099</td>\n",
       "      <td>64%</td>\n",
       "      <td>4.2</td>\n",
       "      <td>24269</td>\n",
       "    </tr>\n",
       "    <tr>\n",
       "      <th>1</th>\n",
       "      <td>Ambrane Unbreakable 60W / 3A Fast Charging 1.5...</td>\n",
       "      <td>Computers&amp;Accessories|Accessories&amp;Peripherals|...</td>\n",
       "      <td>199</td>\n",
       "      <td>349</td>\n",
       "      <td>43%</td>\n",
       "      <td>4.0</td>\n",
       "      <td>43994</td>\n",
       "    </tr>\n",
       "    <tr>\n",
       "      <th>2</th>\n",
       "      <td>Sounce Fast Phone Charging Cable &amp; Data Sync U...</td>\n",
       "      <td>Computers&amp;Accessories|Accessories&amp;Peripherals|...</td>\n",
       "      <td>199</td>\n",
       "      <td>1899</td>\n",
       "      <td>90%</td>\n",
       "      <td>3.9</td>\n",
       "      <td>7928</td>\n",
       "    </tr>\n",
       "    <tr>\n",
       "      <th>3</th>\n",
       "      <td>boAt Deuce USB 300 2 in 1 Type-C &amp; Micro USB S...</td>\n",
       "      <td>Computers&amp;Accessories|Accessories&amp;Peripherals|...</td>\n",
       "      <td>329</td>\n",
       "      <td>699</td>\n",
       "      <td>53%</td>\n",
       "      <td>4.2</td>\n",
       "      <td>94363</td>\n",
       "    </tr>\n",
       "    <tr>\n",
       "      <th>4</th>\n",
       "      <td>Portronics Konnect L 1.2M Fast Charging 3A 8 P...</td>\n",
       "      <td>Computers&amp;Accessories|Accessories&amp;Peripherals|...</td>\n",
       "      <td>154</td>\n",
       "      <td>399</td>\n",
       "      <td>61%</td>\n",
       "      <td>4.2</td>\n",
       "      <td>16905</td>\n",
       "    </tr>\n",
       "    <tr>\n",
       "      <th>...</th>\n",
       "      <td>...</td>\n",
       "      <td>...</td>\n",
       "      <td>...</td>\n",
       "      <td>...</td>\n",
       "      <td>...</td>\n",
       "      <td>...</td>\n",
       "      <td>...</td>\n",
       "    </tr>\n",
       "    <tr>\n",
       "      <th>1459</th>\n",
       "      <td>NGI Store 2 Pieces Pet Hair Removers for Your ...</td>\n",
       "      <td>Home&amp;Kitchen|Kitchen&amp;HomeAppliances|Vacuum,Cle...</td>\n",
       "      <td>199</td>\n",
       "      <td>999</td>\n",
       "      <td>80%</td>\n",
       "      <td>3.1</td>\n",
       "      <td>2</td>\n",
       "    </tr>\n",
       "    <tr>\n",
       "      <th>1460</th>\n",
       "      <td>Noir Aqua - 5pcs PP Spun Filter + 1 Spanner | ...</td>\n",
       "      <td>Home&amp;Kitchen|Kitchen&amp;HomeAppliances|WaterPurif...</td>\n",
       "      <td>379</td>\n",
       "      <td>919</td>\n",
       "      <td>59%</td>\n",
       "      <td>4.0</td>\n",
       "      <td>1090</td>\n",
       "    </tr>\n",
       "    <tr>\n",
       "      <th>1461</th>\n",
       "      <td>Prestige Delight PRWO Electric Rice Cooker (1 ...</td>\n",
       "      <td>Home&amp;Kitchen|Kitchen&amp;HomeAppliances|SmallKitch...</td>\n",
       "      <td>2280</td>\n",
       "      <td>3045</td>\n",
       "      <td>25%</td>\n",
       "      <td>4.1</td>\n",
       "      <td>4118</td>\n",
       "    </tr>\n",
       "    <tr>\n",
       "      <th>1463</th>\n",
       "      <td>Havells Ventil Air DSP 230mm Exhaust Fan (Pist...</td>\n",
       "      <td>Home&amp;Kitchen|Heating,Cooling&amp;AirQuality|Fans|E...</td>\n",
       "      <td>1399</td>\n",
       "      <td>1890</td>\n",
       "      <td>26%</td>\n",
       "      <td>4.0</td>\n",
       "      <td>8031</td>\n",
       "    </tr>\n",
       "    <tr>\n",
       "      <th>1464</th>\n",
       "      <td>Borosil Jumbo 1000-Watt Grill Sandwich Maker (...</td>\n",
       "      <td>Home&amp;Kitchen|Kitchen&amp;HomeAppliances|SmallKitch...</td>\n",
       "      <td>2863</td>\n",
       "      <td>3690</td>\n",
       "      <td>22%</td>\n",
       "      <td>4.3</td>\n",
       "      <td>6987</td>\n",
       "    </tr>\n",
       "  </tbody>\n",
       "</table>\n",
       "<p>1299 rows × 7 columns</p>\n",
       "</div>"
      ],
      "text/plain": [
       "                                           product_name  \\\n",
       "0     Wayona Nylon Braided USB to Lightning Fast Cha...   \n",
       "1     Ambrane Unbreakable 60W / 3A Fast Charging 1.5...   \n",
       "2     Sounce Fast Phone Charging Cable & Data Sync U...   \n",
       "3     boAt Deuce USB 300 2 in 1 Type-C & Micro USB S...   \n",
       "4     Portronics Konnect L 1.2M Fast Charging 3A 8 P...   \n",
       "...                                                 ...   \n",
       "1459  NGI Store 2 Pieces Pet Hair Removers for Your ...   \n",
       "1460  Noir Aqua - 5pcs PP Spun Filter + 1 Spanner | ...   \n",
       "1461  Prestige Delight PRWO Electric Rice Cooker (1 ...   \n",
       "1463  Havells Ventil Air DSP 230mm Exhaust Fan (Pist...   \n",
       "1464  Borosil Jumbo 1000-Watt Grill Sandwich Maker (...   \n",
       "\n",
       "                                               category  discounted_price  \\\n",
       "0     Computers&Accessories|Accessories&Peripherals|...               399   \n",
       "1     Computers&Accessories|Accessories&Peripherals|...               199   \n",
       "2     Computers&Accessories|Accessories&Peripherals|...               199   \n",
       "3     Computers&Accessories|Accessories&Peripherals|...               329   \n",
       "4     Computers&Accessories|Accessories&Peripherals|...               154   \n",
       "...                                                 ...               ...   \n",
       "1459  Home&Kitchen|Kitchen&HomeAppliances|Vacuum,Cle...               199   \n",
       "1460  Home&Kitchen|Kitchen&HomeAppliances|WaterPurif...               379   \n",
       "1461  Home&Kitchen|Kitchen&HomeAppliances|SmallKitch...              2280   \n",
       "1463  Home&Kitchen|Heating,Cooling&AirQuality|Fans|E...              1399   \n",
       "1464  Home&Kitchen|Kitchen&HomeAppliances|SmallKitch...              2863   \n",
       "\n",
       "      actual_price discount_percentage  rating  rating_count  \n",
       "0             1099                 64%     4.2         24269  \n",
       "1              349                 43%     4.0         43994  \n",
       "2             1899                 90%     3.9          7928  \n",
       "3              699                 53%     4.2         94363  \n",
       "4              399                 61%     4.2         16905  \n",
       "...            ...                 ...     ...           ...  \n",
       "1459           999                 80%     3.1             2  \n",
       "1460           919                 59%     4.0          1090  \n",
       "1461          3045                 25%     4.1          4118  \n",
       "1463          1890                 26%     4.0          8031  \n",
       "1464          3690                 22%     4.3          6987  \n",
       "\n",
       "[1299 rows x 7 columns]"
      ]
     },
     "execution_count": 60,
     "metadata": {},
     "output_type": "execute_result"
    }
   ],
   "source": [
    "outliers = df[(df['rating'] < lowerbound) | (df['rating'] > upperbound )]\n",
    "outliers"
   ]
  },
  {
   "cell_type": "code",
   "execution_count": 61,
   "metadata": {},
   "outputs": [
    {
     "data": {
      "text/plain": [
       "Index([   0,    1,    2,    3,    4,    5,    6,    7,    8,    9,\n",
       "       ...\n",
       "       1452, 1454, 1455, 1456, 1457, 1459, 1460, 1461, 1463, 1464],\n",
       "      dtype='int64', length=1299)"
      ]
     },
     "execution_count": 61,
     "metadata": {},
     "output_type": "execute_result"
    }
   ],
   "source": [
    "outliers.index"
   ]
  },
  {
   "cell_type": "code",
   "execution_count": 62,
   "metadata": {},
   "outputs": [],
   "source": [
    "df.drop(outliers.index, inplace=True, axis=0)"
   ]
  },
  {
   "cell_type": "code",
   "execution_count": 63,
   "metadata": {},
   "outputs": [
    {
     "data": {
      "image/png": "[encoded data removed]",
      "text/plain": [
       "<Figure size 640x480 with 1 Axes>"
      ]
     },
     "metadata": {},
     "output_type": "display_data"
    }
   ],
   "source": [
    "sns.boxplot(x = 'rating', data= df)\n",
    "plt.show()"
   ]
  },
  {
   "cell_type": "code",
   "execution_count": 64,
   "metadata": {},
   "outputs": [
    {
     "data": {
      "text/plain": [
       "product_name           0\n",
       "category               0\n",
       "discounted_price       0\n",
       "actual_price           0\n",
       "discount_percentage    0\n",
       "rating                 0\n",
       "rating_count           0\n",
       "dtype: int64"
      ]
     },
     "execution_count": 64,
     "metadata": {},
     "output_type": "execute_result"
    }
   ],
   "source": [
    "df.isna().sum()"
   ]
  },
  {
   "cell_type": "code",
   "execution_count": 65,
   "metadata": {},
   "outputs": [
    {
     "data": {
      "text/plain": [
       "Index(['product_name', 'category', 'discounted_price', 'actual_price',\n",
       "       'discount_percentage', 'rating', 'rating_count'],\n",
       "      dtype='object')"
      ]
     },
     "execution_count": 65,
     "metadata": {},
     "output_type": "execute_result"
    }
   ],
   "source": [
    "df.columns"
   ]
  },
  {
   "cell_type": "code",
   "execution_count": 66,
   "metadata": {},
   "outputs": [
    {
     "data": {
      "image/png": "[encoded data removed]",
      "text/plain": [
       "<Figure size 640x480 with 1 Axes>"
      ]
     },
     "metadata": {},
     "output_type": "display_data"
    }
   ],
   "source": [
    "sns.boxplot(x = 'actual_price', data = df)\n",
    "plt.show()"
   ]
  },
  {
   "cell_type": "code",
   "execution_count": 67,
   "metadata": {},
   "outputs": [
    {
     "data": {
      "text/html": [
       "<div>\n",
       "<style scoped>\n",
       "    .dataframe tbody tr th:only-of-type {\n",
       "        vertical-align: middle;\n",
       "    }\n",
       "\n",
       "    .dataframe tbody tr th {\n",
       "        vertical-align: top;\n",
       "    }\n",
       "\n",
       "    .dataframe thead th {\n",
       "        text-align: right;\n",
       "    }\n",
       "</style>\n",
       "<table border=\"1\" class=\"dataframe\">\n",
       "  <thead>\n",
       "    <tr style=\"text-align: right;\">\n",
       "      <th></th>\n",
       "      <th>discounted_price</th>\n",
       "      <th>actual_price</th>\n",
       "      <th>rating</th>\n",
       "      <th>rating_count</th>\n",
       "    </tr>\n",
       "  </thead>\n",
       "  <tbody>\n",
       "    <tr>\n",
       "      <th>count</th>\n",
       "      <td>163.000000</td>\n",
       "      <td>163.000000</td>\n",
       "      <td>163.000000</td>\n",
       "      <td>163.0</td>\n",
       "    </tr>\n",
       "    <tr>\n",
       "      <th>mean</th>\n",
       "      <td>1384.282209</td>\n",
       "      <td>2908.840491</td>\n",
       "      <td>3.731288</td>\n",
       "      <td>7872.95092</td>\n",
       "    </tr>\n",
       "    <tr>\n",
       "      <th>std</th>\n",
       "      <td>1765.197518</td>\n",
       "      <td>3227.498601</td>\n",
       "      <td>0.080524</td>\n",
       "      <td>19366.078834</td>\n",
       "    </tr>\n",
       "    <tr>\n",
       "      <th>min</th>\n",
       "      <td>39.000000</td>\n",
       "      <td>39.000000</td>\n",
       "      <td>3.600000</td>\n",
       "      <td>4.0</td>\n",
       "    </tr>\n",
       "    <tr>\n",
       "      <th>25%</th>\n",
       "      <td>299.000000</td>\n",
       "      <td>800.000000</td>\n",
       "      <td>3.700000</td>\n",
       "      <td>407.5</td>\n",
       "    </tr>\n",
       "    <tr>\n",
       "      <th>50%</th>\n",
       "      <td>929.000000</td>\n",
       "      <td>1999.000000</td>\n",
       "      <td>3.800000</td>\n",
       "      <td>1889.0</td>\n",
       "    </tr>\n",
       "    <tr>\n",
       "      <th>75%</th>\n",
       "      <td>1699.000000</td>\n",
       "      <td>3547.500000</td>\n",
       "      <td>3.800000</td>\n",
       "      <td>8762.0</td>\n",
       "    </tr>\n",
       "    <tr>\n",
       "      <th>max</th>\n",
       "      <td>10990.000000</td>\n",
       "      <td>19990.000000</td>\n",
       "      <td>3.800000</td>\n",
       "      <td>180998.0</td>\n",
       "    </tr>\n",
       "  </tbody>\n",
       "</table>\n",
       "</div>"
      ],
      "text/plain": [
       "       discounted_price  actual_price      rating  rating_count\n",
       "count        163.000000    163.000000  163.000000         163.0\n",
       "mean        1384.282209   2908.840491    3.731288    7872.95092\n",
       "std         1765.197518   3227.498601    0.080524  19366.078834\n",
       "min           39.000000     39.000000    3.600000           4.0\n",
       "25%          299.000000    800.000000    3.700000         407.5\n",
       "50%          929.000000   1999.000000    3.800000        1889.0\n",
       "75%         1699.000000   3547.500000    3.800000        8762.0\n",
       "max        10990.000000  19990.000000    3.800000      180998.0"
      ]
     },
     "execution_count": 67,
     "metadata": {},
     "output_type": "execute_result"
    }
   ],
   "source": [
    "df.describe()"
   ]
  },
  {
   "cell_type": "code",
   "execution_count": 68,
   "metadata": {},
   "outputs": [],
   "source": [
    "# q1 = df['actual_price'].quantile(0.25)\n",
    "# q3 = df['actual_price'].quantile(0.75)\n",
    "# iqr = q3 - q1\n",
    "# print(f'This is the iqr value -> {iqr}')"
   ]
  },
  {
   "cell_type": "code",
   "execution_count": 69,
   "metadata": {},
   "outputs": [],
   "source": [
    "# lowerbound = q1 - 1.5 * iqr\n",
    "# upperbound = q3 - 1.5 * iqr\n",
    "# outliers = df[(df['actual_price'] < lowerbound) | (df['actual_price'] > upperbound)]\n",
    "# outliers"
   ]
  },
  {
   "cell_type": "code",
   "execution_count": 70,
   "metadata": {},
   "outputs": [],
   "source": [
    "# outliers.index"
   ]
  },
  {
   "cell_type": "code",
   "execution_count": 71,
   "metadata": {},
   "outputs": [],
   "source": [
    "# df.drop(outliers.index, inplace=True, axis=0)"
   ]
  },
  {
   "cell_type": "code",
   "execution_count": 72,
   "metadata": {},
   "outputs": [
    {
     "data": {
      "image/png": "[encoded data removed]",
      "text/plain": [
       "<Figure size 640x480 with 1 Axes>"
      ]
     },
     "metadata": {},
     "output_type": "display_data"
    }
   ],
   "source": [
    "sns.boxplot(x = 'actual_price',data=df)\n",
    "plt.show()"
   ]
  },
  {
   "cell_type": "code",
   "execution_count": 73,
   "metadata": {},
   "outputs": [
    {
     "data": {
      "text/plain": [
       "actual_price\n",
       "999     13\n",
       "499     12\n",
       "1999     8\n",
       "799      6\n",
       "7990     5\n",
       "        ..\n",
       "3193     1\n",
       "1345     1\n",
       "3500     1\n",
       "1000     1\n",
       "3080     1\n",
       "Name: count, Length: 89, dtype: int64"
      ]
     },
     "execution_count": 73,
     "metadata": {},
     "output_type": "execute_result"
    }
   ],
   "source": [
    "df['actual_price'].value_counts()"
   ]
  },
  {
   "cell_type": "code",
   "execution_count": 74,
   "metadata": {},
   "outputs": [
    {
     "data": {
      "text/plain": [
       "(np.int64(0), (163, 7))"
      ]
     },
     "execution_count": 74,
     "metadata": {},
     "output_type": "execute_result"
    }
   ],
   "source": [
    "df['actual_price'].isnull().sum(), df.shape"
   ]
  },
  {
   "cell_type": "code",
   "execution_count": 75,
   "metadata": {},
   "outputs": [
    {
     "data": {
      "text/plain": [
       "21       499\n",
       "48       999\n",
       "55       499\n",
       "60       799\n",
       "90       800\n",
       "        ... \n",
       "1445     799\n",
       "1448     399\n",
       "1453    3290\n",
       "1458    2299\n",
       "1462    3080\n",
       "Name: actual_price, Length: 163, dtype: int64"
      ]
     },
     "execution_count": 75,
     "metadata": {},
     "output_type": "execute_result"
    }
   ],
   "source": [
    "df['actual_price']"
   ]
  },
  {
   "cell_type": "code",
   "execution_count": 76,
   "metadata": {},
   "outputs": [
    {
     "data": {
      "text/plain": [
       "product_name           0\n",
       "category               0\n",
       "discounted_price       0\n",
       "actual_price           0\n",
       "discount_percentage    0\n",
       "rating                 0\n",
       "rating_count           0\n",
       "dtype: int64"
      ]
     },
     "execution_count": 76,
     "metadata": {},
     "output_type": "execute_result"
    }
   ],
   "source": [
    "df.isna().sum()"
   ]
  },
  {
   "cell_type": "code",
   "execution_count": 77,
   "metadata": {},
   "outputs": [
    {
     "data": {
      "text/plain": [
       "Index(['product_name', 'category', 'discounted_price', 'actual_price',\n",
       "       'discount_percentage', 'rating', 'rating_count'],\n",
       "      dtype='object')"
      ]
     },
     "execution_count": 77,
     "metadata": {},
     "output_type": "execute_result"
    }
   ],
   "source": [
    "df.columns"
   ]
  },
  {
   "cell_type": "code",
   "execution_count": 78,
   "metadata": {},
   "outputs": [
    {
     "data": {
      "image/png": "[encoded data removed]",
      "text/plain": [
       "<Figure size 640x480 with 1 Axes>"
      ]
     },
     "metadata": {},
     "output_type": "display_data"
    }
   ],
   "source": [
    "sns.boxplot(x = 'discount_percentage',data=df); plt.show()"
   ]
  },
  {
   "cell_type": "code",
   "execution_count": 79,
   "metadata": {},
   "outputs": [
    {
     "data": {
      "text/plain": [
       "Index(['product_name', 'category', 'discounted_price', 'actual_price',\n",
       "       'discount_percentage', 'rating', 'rating_count'],\n",
       "      dtype='object')"
      ]
     },
     "execution_count": 79,
     "metadata": {},
     "output_type": "execute_result"
    }
   ],
   "source": [
    "df.columns"
   ]
  },
  {
   "cell_type": "code",
   "execution_count": 80,
   "metadata": {},
   "outputs": [
    {
     "data": {
      "image/png": "[encoded data removed]",
      "text/plain": [
       "<Figure size 640x480 with 1 Axes>"
      ]
     },
     "metadata": {},
     "output_type": "display_data"
    }
   ],
   "source": [
    "sns.boxplot(x = 'actual_price',data=df); plt.title('Outliers are there or not ? ')\n",
    "plt.show()"
   ]
  },
  {
   "cell_type": "code",
   "execution_count": 81,
   "metadata": {},
   "outputs": [
    {
     "data": {
      "image/png": "[encoded data removed]",
      "text/plain": [
       "<Figure size 640x480 with 1 Axes>"
      ]
     },
     "metadata": {},
     "output_type": "display_data"
    }
   ],
   "source": [
    "sns.boxplot(x = 'discounted_price',data=df); plt.title('Outliers are there or not ? ')\n",
    "plt.show()"
   ]
  },
  {
   "cell_type": "code",
   "execution_count": 82,
   "metadata": {},
   "outputs": [
    {
     "name": "stdout",
     "output_type": "stream",
     "text": [
      "<class 'pandas.core.frame.DataFrame'>\n",
      "Index: 163 entries, 21 to 1462\n",
      "Data columns (total 7 columns):\n",
      " #   Column               Non-Null Count  Dtype  \n",
      "---  ------               --------------  -----  \n",
      " 0   product_name         163 non-null    object \n",
      " 1   category             163 non-null    object \n",
      " 2   discounted_price     163 non-null    int64  \n",
      " 3   actual_price         163 non-null    int64  \n",
      " 4   discount_percentage  163 non-null    object \n",
      " 5   rating               163 non-null    float64\n",
      " 6   rating_count         163 non-null    Int64  \n",
      "dtypes: Int64(1), float64(1), int64(2), object(3)\n",
      "memory usage: 10.3+ KB\n"
     ]
    }
   ],
   "source": [
    "df.info()"
   ]
  },
  {
   "cell_type": "code",
   "execution_count": 83,
   "metadata": {},
   "outputs": [
    {
     "data": {
      "image/png": "[encoded data removed]",
      "text/plain": [
       "<Figure size 640x480 with 1 Axes>"
      ]
     },
     "metadata": {},
     "output_type": "display_data"
    }
   ],
   "source": [
    "sns.scatterplot(x = 'actual_price', y = 'discounted_price', data = df)\n",
    "plt.title('Watching the relation with this 2 attributes')\n",
    "plt.show()"
   ]
  },
  {
   "cell_type": "code",
   "execution_count": 84,
   "metadata": {},
   "outputs": [
    {
     "data": {
      "text/html": [
       "<div>\n",
       "<style scoped>\n",
       "    .dataframe tbody tr th:only-of-type {\n",
       "        vertical-align: middle;\n",
       "    }\n",
       "\n",
       "    .dataframe tbody tr th {\n",
       "        vertical-align: top;\n",
       "    }\n",
       "\n",
       "    .dataframe thead th {\n",
       "        text-align: right;\n",
       "    }\n",
       "</style>\n",
       "<table border=\"1\" class=\"dataframe\">\n",
       "  <thead>\n",
       "    <tr style=\"text-align: right;\">\n",
       "      <th></th>\n",
       "      <th>discounted_price</th>\n",
       "      <th>actual_price</th>\n",
       "    </tr>\n",
       "  </thead>\n",
       "  <tbody>\n",
       "    <tr>\n",
       "      <th>discounted_price</th>\n",
       "      <td>1.000000</td>\n",
       "      <td>0.889997</td>\n",
       "    </tr>\n",
       "    <tr>\n",
       "      <th>actual_price</th>\n",
       "      <td>0.889997</td>\n",
       "      <td>1.000000</td>\n",
       "    </tr>\n",
       "  </tbody>\n",
       "</table>\n",
       "</div>"
      ],
      "text/plain": [
       "                  discounted_price  actual_price\n",
       "discounted_price          1.000000      0.889997\n",
       "actual_price              0.889997      1.000000"
      ]
     },
     "execution_count": 84,
     "metadata": {},
     "output_type": "execute_result"
    }
   ],
   "source": [
    "df[['discounted_price', 'actual_price']].corr()"
   ]
  },
  {
   "cell_type": "code",
   "execution_count": 85,
   "metadata": {},
   "outputs": [
    {
     "name": "stdout",
     "output_type": "stream",
     "text": [
      "The inter quatile range is: 1400.0\n",
      "-1801.0 -- 3799.0\n"
     ]
    },
    {
     "data": {
      "text/html": [
       "<div>\n",
       "<style scoped>\n",
       "    .dataframe tbody tr th:only-of-type {\n",
       "        vertical-align: middle;\n",
       "    }\n",
       "\n",
       "    .dataframe tbody tr th {\n",
       "        vertical-align: top;\n",
       "    }\n",
       "\n",
       "    .dataframe thead th {\n",
       "        text-align: right;\n",
       "    }\n",
       "</style>\n",
       "<table border=\"1\" class=\"dataframe\">\n",
       "  <thead>\n",
       "    <tr style=\"text-align: right;\">\n",
       "      <th></th>\n",
       "      <th>product_name</th>\n",
       "      <th>category</th>\n",
       "      <th>discounted_price</th>\n",
       "      <th>actual_price</th>\n",
       "      <th>discount_percentage</th>\n",
       "      <th>rating</th>\n",
       "      <th>rating_count</th>\n",
       "    </tr>\n",
       "  </thead>\n",
       "  <tbody>\n",
       "    <tr>\n",
       "      <th>215</th>\n",
       "      <td>Karbonn 80 cm (32 Inches) Millennium Series HD...</td>\n",
       "      <td>Electronics|HomeTheater,TV&amp;Video|Televisions|S...</td>\n",
       "      <td>6999</td>\n",
       "      <td>16990</td>\n",
       "      <td>59%</td>\n",
       "      <td>3.8</td>\n",
       "      <td>110</td>\n",
       "    </tr>\n",
       "    <tr>\n",
       "      <th>288</th>\n",
       "      <td>Kodak 80 cm (32 Inches) HD Ready LED TV Kodak ...</td>\n",
       "      <td>Electronics|HomeTheater,TV&amp;Video|Televisions|S...</td>\n",
       "      <td>7999</td>\n",
       "      <td>15999</td>\n",
       "      <td>50%</td>\n",
       "      <td>3.8</td>\n",
       "      <td>3022</td>\n",
       "    </tr>\n",
       "    <tr>\n",
       "      <th>308</th>\n",
       "      <td>Sansui 80cm (32 inches) HD Ready Smart LED TV ...</td>\n",
       "      <td>Electronics|HomeTheater,TV&amp;Video|Televisions|S...</td>\n",
       "      <td>10990</td>\n",
       "      <td>19990</td>\n",
       "      <td>45%</td>\n",
       "      <td>3.7</td>\n",
       "      <td>129</td>\n",
       "    </tr>\n",
       "    <tr>\n",
       "      <th>477</th>\n",
       "      <td>Tecno Spark 9 (Sky Mirror, 6GB RAM,128GB Stora...</td>\n",
       "      <td>Electronics|Mobiles&amp;Accessories|Smartphones&amp;Ba...</td>\n",
       "      <td>8999</td>\n",
       "      <td>13499</td>\n",
       "      <td>33%</td>\n",
       "      <td>3.8</td>\n",
       "      <td>3145</td>\n",
       "    </tr>\n",
       "    <tr>\n",
       "      <th>513</th>\n",
       "      <td>OnePlus Nord Watch with 1.78” AMOLED Display, ...</td>\n",
       "      <td>Electronics|WearableTechnology|SmartWatches</td>\n",
       "      <td>4999</td>\n",
       "      <td>6999</td>\n",
       "      <td>29%</td>\n",
       "      <td>3.8</td>\n",
       "      <td>758</td>\n",
       "    </tr>\n",
       "    <tr>\n",
       "      <th>546</th>\n",
       "      <td>POCO C31 (Shadow Gray, 64 GB) (4 GB RAM)</td>\n",
       "      <td>Electronics|Mobiles&amp;Accessories|Smartphones&amp;Ba...</td>\n",
       "      <td>7998</td>\n",
       "      <td>11999</td>\n",
       "      <td>33%</td>\n",
       "      <td>3.8</td>\n",
       "      <td>125</td>\n",
       "    </tr>\n",
       "    <tr>\n",
       "      <th>958</th>\n",
       "      <td>HP Deskjet 2723 AIO Printer, Copy, Scan, WiFi,...</td>\n",
       "      <td>Computers&amp;Accessories|Printers,Inks&amp;Accessorie...</td>\n",
       "      <td>5899</td>\n",
       "      <td>7005</td>\n",
       "      <td>16%</td>\n",
       "      <td>3.6</td>\n",
       "      <td>4199</td>\n",
       "    </tr>\n",
       "    <tr>\n",
       "      <th>1008</th>\n",
       "      <td>Canon E4570 All-in-One Wi-Fi Ink Efficient Col...</td>\n",
       "      <td>Computers&amp;Accessories|Printers,Inks&amp;Accessorie...</td>\n",
       "      <td>8349</td>\n",
       "      <td>9625</td>\n",
       "      <td>13%</td>\n",
       "      <td>3.8</td>\n",
       "      <td>3652</td>\n",
       "    </tr>\n",
       "    <tr>\n",
       "      <th>1159</th>\n",
       "      <td>Eureka Forbes Wet &amp; Dry Ultimo 1400 Watts Mult...</td>\n",
       "      <td>Home&amp;Kitchen|Kitchen&amp;HomeAppliances|Vacuum,Cle...</td>\n",
       "      <td>5499</td>\n",
       "      <td>9999</td>\n",
       "      <td>45%</td>\n",
       "      <td>3.8</td>\n",
       "      <td>4353</td>\n",
       "    </tr>\n",
       "    <tr>\n",
       "      <th>1196</th>\n",
       "      <td>Philips Handheld Garment Steamer GC360/30 - Ve...</td>\n",
       "      <td>Home&amp;Kitchen|Kitchen&amp;HomeAppliances|Vacuum,Cle...</td>\n",
       "      <td>4280</td>\n",
       "      <td>5995</td>\n",
       "      <td>29%</td>\n",
       "      <td>3.8</td>\n",
       "      <td>2112</td>\n",
       "    </tr>\n",
       "  </tbody>\n",
       "</table>\n",
       "</div>"
      ],
      "text/plain": [
       "                                           product_name  \\\n",
       "215   Karbonn 80 cm (32 Inches) Millennium Series HD...   \n",
       "288   Kodak 80 cm (32 Inches) HD Ready LED TV Kodak ...   \n",
       "308   Sansui 80cm (32 inches) HD Ready Smart LED TV ...   \n",
       "477   Tecno Spark 9 (Sky Mirror, 6GB RAM,128GB Stora...   \n",
       "513   OnePlus Nord Watch with 1.78” AMOLED Display, ...   \n",
       "546            POCO C31 (Shadow Gray, 64 GB) (4 GB RAM)   \n",
       "958   HP Deskjet 2723 AIO Printer, Copy, Scan, WiFi,...   \n",
       "1008  Canon E4570 All-in-One Wi-Fi Ink Efficient Col...   \n",
       "1159  Eureka Forbes Wet & Dry Ultimo 1400 Watts Mult...   \n",
       "1196  Philips Handheld Garment Steamer GC360/30 - Ve...   \n",
       "\n",
       "                                               category  discounted_price  \\\n",
       "215   Electronics|HomeTheater,TV&Video|Televisions|S...              6999   \n",
       "288   Electronics|HomeTheater,TV&Video|Televisions|S...              7999   \n",
       "308   Electronics|HomeTheater,TV&Video|Televisions|S...             10990   \n",
       "477   Electronics|Mobiles&Accessories|Smartphones&Ba...              8999   \n",
       "513         Electronics|WearableTechnology|SmartWatches              4999   \n",
       "546   Electronics|Mobiles&Accessories|Smartphones&Ba...              7998   \n",
       "958   Computers&Accessories|Printers,Inks&Accessorie...              5899   \n",
       "1008  Computers&Accessories|Printers,Inks&Accessorie...              8349   \n",
       "1159  Home&Kitchen|Kitchen&HomeAppliances|Vacuum,Cle...              5499   \n",
       "1196  Home&Kitchen|Kitchen&HomeAppliances|Vacuum,Cle...              4280   \n",
       "\n",
       "      actual_price discount_percentage  rating  rating_count  \n",
       "215          16990                 59%     3.8           110  \n",
       "288          15999                 50%     3.8          3022  \n",
       "308          19990                 45%     3.7           129  \n",
       "477          13499                 33%     3.8          3145  \n",
       "513           6999                 29%     3.8           758  \n",
       "546          11999                 33%     3.8           125  \n",
       "958           7005                 16%     3.6          4199  \n",
       "1008          9625                 13%     3.8          3652  \n",
       "1159          9999                 45%     3.8          4353  \n",
       "1196          5995                 29%     3.8          2112  "
      ]
     },
     "execution_count": 85,
     "metadata": {},
     "output_type": "execute_result"
    }
   ],
   "source": [
    "q1 = df['discounted_price'].quantile(0.25)\n",
    "q3 = df['discounted_price'].quantile(0.75)\n",
    "iqr = q3 - q1; print(f'The inter quatile range is: {iqr}')\n",
    "lowerbound = q1 - 1.5 * iqr\n",
    "upperbound = q3 + 1.5 * iqr\n",
    "print(f'{lowerbound} -- {upperbound}')\n",
    "outliers = df[(df['discounted_price'] < lowerbound) | (df['discounted_price'] > upperbound)]\n",
    "outliers"
   ]
  },
  {
   "cell_type": "code",
   "execution_count": 86,
   "metadata": {},
   "outputs": [
    {
     "data": {
      "image/png": "[encoded data removed]",
      "text/plain": [
       "<Figure size 640x480 with 1 Axes>"
      ]
     },
     "metadata": {},
     "output_type": "display_data"
    }
   ],
   "source": [
    "sns.boxplot(x = 'discounted_price', data = df); plt.show()"
   ]
  },
  {
   "cell_type": "code",
   "execution_count": 87,
   "metadata": {},
   "outputs": [
    {
     "data": {
      "text/plain": [
       "Index([215, 288, 308, 477, 513, 546, 958, 1008, 1159, 1196], dtype='int64')"
      ]
     },
     "execution_count": 87,
     "metadata": {},
     "output_type": "execute_result"
    }
   ],
   "source": [
    "outliers.index"
   ]
  },
  {
   "cell_type": "code",
   "execution_count": 88,
   "metadata": {},
   "outputs": [],
   "source": [
    "df.drop(outliers.index, inplace=True, axis=0)"
   ]
  },
  {
   "cell_type": "code",
   "execution_count": 89,
   "metadata": {},
   "outputs": [
    {
     "data": {
      "image/png": "[encoded data removed]",
      "text/plain": [
       "<Figure size 640x480 with 1 Axes>"
      ]
     },
     "metadata": {},
     "output_type": "display_data"
    }
   ],
   "source": [
    "sns.boxplot(x = 'discounted_price', data = df); plt.show()"
   ]
  },
  {
   "cell_type": "code",
   "execution_count": 90,
   "metadata": {},
   "outputs": [
    {
     "data": {
      "text/plain": [
       "Index(['product_name', 'category', 'discounted_price', 'actual_price',\n",
       "       'discount_percentage', 'rating', 'rating_count'],\n",
       "      dtype='object')"
      ]
     },
     "execution_count": 90,
     "metadata": {},
     "output_type": "execute_result"
    }
   ],
   "source": [
    "df.columns"
   ]
  },
  {
   "cell_type": "code",
   "execution_count": 91,
   "metadata": {},
   "outputs": [
    {
     "data": {
      "image/png": "[encoded data removed]",
      "text/plain": [
       "<Figure size 640x480 with 1 Axes>"
      ]
     },
     "metadata": {},
     "output_type": "display_data"
    }
   ],
   "source": [
    "sns.boxplot(x = 'rating_count', data = df); plt.show()"
   ]
  },
  {
   "cell_type": "code",
   "execution_count": 92,
   "metadata": {},
   "outputs": [
    {
     "name": "stdout",
     "output_type": "stream",
     "text": [
      "The inter quatile range is: 9373.0\n",
      "-13641.5 -- 23850.5\n"
     ]
    },
    {
     "data": {
      "text/html": [
       "<div>\n",
       "<style scoped>\n",
       "    .dataframe tbody tr th:only-of-type {\n",
       "        vertical-align: middle;\n",
       "    }\n",
       "\n",
       "    .dataframe tbody tr th {\n",
       "        vertical-align: top;\n",
       "    }\n",
       "\n",
       "    .dataframe thead th {\n",
       "        text-align: right;\n",
       "    }\n",
       "</style>\n",
       "<table border=\"1\" class=\"dataframe\">\n",
       "  <thead>\n",
       "    <tr style=\"text-align: right;\">\n",
       "      <th></th>\n",
       "      <th>product_name</th>\n",
       "      <th>category</th>\n",
       "      <th>discounted_price</th>\n",
       "      <th>actual_price</th>\n",
       "      <th>discount_percentage</th>\n",
       "      <th>rating</th>\n",
       "      <th>rating_count</th>\n",
       "    </tr>\n",
       "  </thead>\n",
       "  <tbody>\n",
       "    <tr>\n",
       "      <th>591</th>\n",
       "      <td>boAt Airdopes 121v2 in-Ear True Wireless Earbu...</td>\n",
       "      <td>Electronics|Headphones,Earbuds&amp;Accessories|Hea...</td>\n",
       "      <td>1299</td>\n",
       "      <td>2990</td>\n",
       "      <td>57%</td>\n",
       "      <td>3.8</td>\n",
       "      <td>180998</td>\n",
       "    </tr>\n",
       "    <tr>\n",
       "      <th>649</th>\n",
       "      <td>Boult Audio AirBass PowerBuds with Inbuilt Pow...</td>\n",
       "      <td>Electronics|Headphones,Earbuds&amp;Accessories|Hea...</td>\n",
       "      <td>1499</td>\n",
       "      <td>8999</td>\n",
       "      <td>83%</td>\n",
       "      <td>3.7</td>\n",
       "      <td>28324</td>\n",
       "    </tr>\n",
       "    <tr>\n",
       "      <th>656</th>\n",
       "      <td>Boult Audio Probass Curve Bluetooth Wireless i...</td>\n",
       "      <td>Electronics|Headphones,Earbuds&amp;Accessories|Hea...</td>\n",
       "      <td>899</td>\n",
       "      <td>4499</td>\n",
       "      <td>80%</td>\n",
       "      <td>3.8</td>\n",
       "      <td>103052</td>\n",
       "    </tr>\n",
       "    <tr>\n",
       "      <th>667</th>\n",
       "      <td>Zebronics ZEB-KM2100 Multimedia USB Keyboard C...</td>\n",
       "      <td>Computers&amp;Accessories|Accessories&amp;Peripherals|...</td>\n",
       "      <td>329</td>\n",
       "      <td>399</td>\n",
       "      <td>18%</td>\n",
       "      <td>3.6</td>\n",
       "      <td>33735</td>\n",
       "    </tr>\n",
       "    <tr>\n",
       "      <th>680</th>\n",
       "      <td>ZEBRONICS Zeb-Thunder Bluetooth Wireless Over ...</td>\n",
       "      <td>Electronics|Headphones,Earbuds&amp;Accessories|Hea...</td>\n",
       "      <td>599</td>\n",
       "      <td>1399</td>\n",
       "      <td>57%</td>\n",
       "      <td>3.8</td>\n",
       "      <td>60026</td>\n",
       "    </tr>\n",
       "    <tr>\n",
       "      <th>716</th>\n",
       "      <td>JBL Tune 215BT, 16 Hrs Playtime with Quick Cha...</td>\n",
       "      <td>Electronics|Headphones,Earbuds&amp;Accessories|Hea...</td>\n",
       "      <td>1499</td>\n",
       "      <td>2999</td>\n",
       "      <td>50%</td>\n",
       "      <td>3.7</td>\n",
       "      <td>87798</td>\n",
       "    </tr>\n",
       "    <tr>\n",
       "      <th>780</th>\n",
       "      <td>Boult Audio Truebuds with 30H Playtime, IPX7 W...</td>\n",
       "      <td>Electronics|Headphones,Earbuds&amp;Accessories|Hea...</td>\n",
       "      <td>1199</td>\n",
       "      <td>7999</td>\n",
       "      <td>85%</td>\n",
       "      <td>3.6</td>\n",
       "      <td>25910</td>\n",
       "    </tr>\n",
       "    <tr>\n",
       "      <th>847</th>\n",
       "      <td>ENVIE ECR-20 Charger for AA &amp; AAA Rechargeable...</td>\n",
       "      <td>Electronics|Cameras&amp;Photography|Accessories|Ba...</td>\n",
       "      <td>299</td>\n",
       "      <td>400</td>\n",
       "      <td>25%</td>\n",
       "      <td>3.8</td>\n",
       "      <td>40895</td>\n",
       "    </tr>\n",
       "    <tr>\n",
       "      <th>1032</th>\n",
       "      <td>Pigeon by Stovekraft Cruise 1800 watt Inductio...</td>\n",
       "      <td>Home&amp;Kitchen|Kitchen&amp;HomeAppliances|SmallKitch...</td>\n",
       "      <td>1699</td>\n",
       "      <td>3193</td>\n",
       "      <td>47%</td>\n",
       "      <td>3.8</td>\n",
       "      <td>54032</td>\n",
       "    </tr>\n",
       "    <tr>\n",
       "      <th>1045</th>\n",
       "      <td>Lifelong LLMG23 Power Pro 500-Watt Mixer Grind...</td>\n",
       "      <td>Home&amp;Kitchen|Kitchen&amp;HomeAppliances|SmallKitch...</td>\n",
       "      <td>1299</td>\n",
       "      <td>3500</td>\n",
       "      <td>63%</td>\n",
       "      <td>3.8</td>\n",
       "      <td>44050</td>\n",
       "    </tr>\n",
       "  </tbody>\n",
       "</table>\n",
       "</div>"
      ],
      "text/plain": [
       "                                           product_name  \\\n",
       "591   boAt Airdopes 121v2 in-Ear True Wireless Earbu...   \n",
       "649   Boult Audio AirBass PowerBuds with Inbuilt Pow...   \n",
       "656   Boult Audio Probass Curve Bluetooth Wireless i...   \n",
       "667   Zebronics ZEB-KM2100 Multimedia USB Keyboard C...   \n",
       "680   ZEBRONICS Zeb-Thunder Bluetooth Wireless Over ...   \n",
       "716   JBL Tune 215BT, 16 Hrs Playtime with Quick Cha...   \n",
       "780   Boult Audio Truebuds with 30H Playtime, IPX7 W...   \n",
       "847   ENVIE ECR-20 Charger for AA & AAA Rechargeable...   \n",
       "1032  Pigeon by Stovekraft Cruise 1800 watt Inductio...   \n",
       "1045  Lifelong LLMG23 Power Pro 500-Watt Mixer Grind...   \n",
       "\n",
       "                                               category  discounted_price  \\\n",
       "591   Electronics|Headphones,Earbuds&Accessories|Hea...              1299   \n",
       "649   Electronics|Headphones,Earbuds&Accessories|Hea...              1499   \n",
       "656   Electronics|Headphones,Earbuds&Accessories|Hea...               899   \n",
       "667   Computers&Accessories|Accessories&Peripherals|...               329   \n",
       "680   Electronics|Headphones,Earbuds&Accessories|Hea...               599   \n",
       "716   Electronics|Headphones,Earbuds&Accessories|Hea...              1499   \n",
       "780   Electronics|Headphones,Earbuds&Accessories|Hea...              1199   \n",
       "847   Electronics|Cameras&Photography|Accessories|Ba...               299   \n",
       "1032  Home&Kitchen|Kitchen&HomeAppliances|SmallKitch...              1699   \n",
       "1045  Home&Kitchen|Kitchen&HomeAppliances|SmallKitch...              1299   \n",
       "\n",
       "      actual_price discount_percentage  rating  rating_count  \n",
       "591           2990                 57%     3.8        180998  \n",
       "649           8999                 83%     3.7         28324  \n",
       "656           4499                 80%     3.8        103052  \n",
       "667            399                 18%     3.6         33735  \n",
       "680           1399                 57%     3.8         60026  \n",
       "716           2999                 50%     3.7         87798  \n",
       "780           7999                 85%     3.6         25910  \n",
       "847            400                 25%     3.8         40895  \n",
       "1032          3193                 47%     3.8         54032  \n",
       "1045          3500                 63%     3.8         44050  "
      ]
     },
     "execution_count": 92,
     "metadata": {},
     "output_type": "execute_result"
    }
   ],
   "source": [
    "q1 = df['rating_count'].quantile(0.25)\n",
    "q3 = df['rating_count'].quantile(0.75)\n",
    "iqr = q3 - q1; print(f'The inter quatile range is: {iqr}')\n",
    "lowerbound = q1 - 1.5 * iqr\n",
    "upperbound = q3 + 1.5 * iqr\n",
    "print(f'{lowerbound} -- {upperbound}')\n",
    "outliers = df[(df['rating_count'] < lowerbound) | (df['rating_count'] > upperbound)]\n",
    "outliers"
   ]
  },
  {
   "cell_type": "code",
   "execution_count": 93,
   "metadata": {},
   "outputs": [
    {
     "data": {
      "text/plain": [
       "Index([591, 649, 656, 667, 680, 716, 780, 847, 1032, 1045], dtype='int64')"
      ]
     },
     "execution_count": 93,
     "metadata": {},
     "output_type": "execute_result"
    }
   ],
   "source": [
    "outliers.index"
   ]
  },
  {
   "cell_type": "code",
   "execution_count": 94,
   "metadata": {},
   "outputs": [],
   "source": [
    "df.drop(outliers.index, inplace=True, axis=0)"
   ]
  },
  {
   "cell_type": "code",
   "execution_count": 95,
   "metadata": {},
   "outputs": [
    {
     "data": {
      "image/png": "[encoded data removed]",
      "text/plain": [
       "<Figure size 640x480 with 1 Axes>"
      ]
     },
     "metadata": {},
     "output_type": "display_data"
    }
   ],
   "source": [
    "sns.boxplot(x = 'rating_count', data = df); plt.show()"
   ]
  },
  {
   "cell_type": "code",
   "execution_count": 96,
   "metadata": {},
   "outputs": [
    {
     "data": {
      "text/plain": [
       "Index(['product_name', 'category', 'discounted_price', 'actual_price',\n",
       "       'discount_percentage', 'rating', 'rating_count'],\n",
       "      dtype='object')"
      ]
     },
     "execution_count": 96,
     "metadata": {},
     "output_type": "execute_result"
    }
   ],
   "source": [
    "df.columns"
   ]
  },
  {
   "cell_type": "code",
   "execution_count": 97,
   "metadata": {},
   "outputs": [
    {
     "data": {
      "image/png": "[encoded data removed]",
      "text/plain": [
       "<Figure size 640x480 with 1 Axes>"
      ]
     },
     "metadata": {},
     "output_type": "display_data"
    }
   ],
   "source": [
    "sns.boxplot(x = 'actual_price', data = df); plt.show()"
   ]
  },
  {
   "cell_type": "code",
   "execution_count": 98,
   "metadata": {},
   "outputs": [
    {
     "name": "stdout",
     "output_type": "stream",
     "text": [
      "<class 'pandas.core.frame.DataFrame'>\n",
      "Index: 143 entries, 21 to 1462\n",
      "Data columns (total 7 columns):\n",
      " #   Column               Non-Null Count  Dtype  \n",
      "---  ------               --------------  -----  \n",
      " 0   product_name         143 non-null    object \n",
      " 1   category             143 non-null    object \n",
      " 2   discounted_price     143 non-null    int64  \n",
      " 3   actual_price         143 non-null    int64  \n",
      " 4   discount_percentage  143 non-null    object \n",
      " 5   rating               143 non-null    float64\n",
      " 6   rating_count         143 non-null    Int64  \n",
      "dtypes: Int64(1), float64(1), int64(2), object(3)\n",
      "memory usage: 9.1+ KB\n"
     ]
    }
   ],
   "source": [
    "df.info()"
   ]
  },
  {
   "cell_type": "code",
   "execution_count": 99,
   "metadata": {},
   "outputs": [
    {
     "data": {
      "image/png": "[encoded data removed]",
      "text/plain": [
       "<Figure size 640x480 with 1 Axes>"
      ]
     },
     "metadata": {},
     "output_type": "display_data"
    }
   ],
   "source": [
    "sns.scatterplot(y = 'actual_price', x = 'category', data = df)\n",
    "plt.show() # Not understandable"
   ]
  },
  {
   "cell_type": "code",
   "execution_count": 100,
   "metadata": {},
   "outputs": [
    {
     "data": {
      "text/plain": [
       "<seaborn.axisgrid.PairGrid at 0x12c917cb0>"
      ]
     },
     "execution_count": 100,
     "metadata": {},
     "output_type": "execute_result"
    },
    {
     "data": {
      "image/png": "[encoded data removed]",
      "text/plain": [
       "<Figure size 1000x1000 with 20 Axes>"
      ]
     },
     "metadata": {},
     "output_type": "display_data"
    }
   ],
   "source": [
    "sns.pairplot(df)"
   ]
  },
  {
   "cell_type": "code",
   "execution_count": 101,
   "metadata": {},
   "outputs": [
    {
     "data": {
      "image/png": "[encoded data removed]",
      "text/plain": [
       "<Figure size 640x480 with 1 Axes>"
      ]
     },
     "metadata": {},
     "output_type": "display_data"
    }
   ],
   "source": [
    "sns.countplot(x='rating',data=df)\n",
    "plt.show()"
   ]
  },
  {
   "cell_type": "code",
   "execution_count": 102,
   "metadata": {},
   "outputs": [
    {
     "name": "stdout",
     "output_type": "stream",
     "text": [
      "<class 'pandas.core.frame.DataFrame'>\n",
      "Index: 143 entries, 21 to 1462\n",
      "Data columns (total 7 columns):\n",
      " #   Column               Non-Null Count  Dtype  \n",
      "---  ------               --------------  -----  \n",
      " 0   product_name         143 non-null    object \n",
      " 1   category             143 non-null    object \n",
      " 2   discounted_price     143 non-null    int64  \n",
      " 3   actual_price         143 non-null    int64  \n",
      " 4   discount_percentage  143 non-null    object \n",
      " 5   rating               143 non-null    float64\n",
      " 6   rating_count         143 non-null    Int64  \n",
      "dtypes: Int64(1), float64(1), int64(2), object(3)\n",
      "memory usage: 9.1+ KB\n"
     ]
    }
   ],
   "source": [
    "df.info()"
   ]
  },
  {
   "cell_type": "code",
   "execution_count": 103,
   "metadata": {},
   "outputs": [
    {
     "data": {
      "text/plain": [
       "discount_percentage\n",
       "75%    9\n",
       "60%    8\n",
       "50%    8\n",
       "54%    6\n",
       "35%    6\n",
       "      ..\n",
       "56%    1\n",
       "83%    1\n",
       "69%    1\n",
       "17%    1\n",
       "28%    1\n",
       "Name: count, Length: 63, dtype: int64"
      ]
     },
     "execution_count": 103,
     "metadata": {},
     "output_type": "execute_result"
    }
   ],
   "source": [
    "df['discount_percentage'].value_counts()"
   ]
  },
  {
   "cell_type": "code",
   "execution_count": 104,
   "metadata": {},
   "outputs": [],
   "source": [
    "# sns.catplot(x='discount_percentage',y='category',data = df)\n",
    "# plt.show() # Not understandable"
   ]
  },
  {
   "cell_type": "code",
   "execution_count": 105,
   "metadata": {},
   "outputs": [],
   "source": [
    "# Creating another new column with doing discounted_price - actual_price (for seeing that the discount is given is a valid discount or not)\n",
    "\n",
    "df['valid_discount'] = df['discounted_price'] - df['actual_price']"
   ]
  },
  {
   "cell_type": "code",
   "execution_count": 106,
   "metadata": {},
   "outputs": [
    {
     "data": {
      "text/html": [
       "<div>\n",
       "<style scoped>\n",
       "    .dataframe tbody tr th:only-of-type {\n",
       "        vertical-align: middle;\n",
       "    }\n",
       "\n",
       "    .dataframe tbody tr th {\n",
       "        vertical-align: top;\n",
       "    }\n",
       "\n",
       "    .dataframe thead th {\n",
       "        text-align: right;\n",
       "    }\n",
       "</style>\n",
       "<table border=\"1\" class=\"dataframe\">\n",
       "  <thead>\n",
       "    <tr style=\"text-align: right;\">\n",
       "      <th></th>\n",
       "      <th>product_name</th>\n",
       "      <th>category</th>\n",
       "      <th>discounted_price</th>\n",
       "      <th>actual_price</th>\n",
       "      <th>discount_percentage</th>\n",
       "      <th>rating</th>\n",
       "      <th>rating_count</th>\n",
       "      <th>valid_discount</th>\n",
       "    </tr>\n",
       "  </thead>\n",
       "  <tbody>\n",
       "    <tr>\n",
       "      <th>21</th>\n",
       "      <td>tizum HDMI to VGA Adapter Cable 1080P for Proj...</td>\n",
       "      <td>Electronics|HomeTheater,TV&amp;Video|Accessories|C...</td>\n",
       "      <td>279</td>\n",
       "      <td>499</td>\n",
       "      <td>44%</td>\n",
       "      <td>3.7</td>\n",
       "      <td>10962</td>\n",
       "      <td>-220</td>\n",
       "    </tr>\n",
       "    <tr>\n",
       "      <th>48</th>\n",
       "      <td>7SEVEN® Compatible for Samsung Smart 4K Ultra ...</td>\n",
       "      <td>Electronics|HomeTheater,TV&amp;Video|Accessories|R...</td>\n",
       "      <td>399</td>\n",
       "      <td>999</td>\n",
       "      <td>60%</td>\n",
       "      <td>3.6</td>\n",
       "      <td>493</td>\n",
       "      <td>-600</td>\n",
       "    </tr>\n",
       "    <tr>\n",
       "      <th>55</th>\n",
       "      <td>Tata Sky Universal Remote</td>\n",
       "      <td>Electronics|HomeTheater,TV&amp;Video|Accessories|R...</td>\n",
       "      <td>230</td>\n",
       "      <td>499</td>\n",
       "      <td>54%</td>\n",
       "      <td>3.7</td>\n",
       "      <td>2960</td>\n",
       "      <td>-269</td>\n",
       "    </tr>\n",
       "    <tr>\n",
       "      <th>60</th>\n",
       "      <td>Airtel DigitalTV DTH Television, Setup Box Rem...</td>\n",
       "      <td>Electronics|HomeTheater,TV&amp;Video|Accessories|R...</td>\n",
       "      <td>179</td>\n",
       "      <td>799</td>\n",
       "      <td>78%</td>\n",
       "      <td>3.7</td>\n",
       "      <td>2201</td>\n",
       "      <td>-620</td>\n",
       "    </tr>\n",
       "    <tr>\n",
       "      <th>90</th>\n",
       "      <td>Gizga Essentials USB WiFi Adapter for PC, 150 ...</td>\n",
       "      <td>Computers&amp;Accessories|NetworkingDevices|Networ...</td>\n",
       "      <td>269</td>\n",
       "      <td>800</td>\n",
       "      <td>66%</td>\n",
       "      <td>3.6</td>\n",
       "      <td>10134</td>\n",
       "      <td>-531</td>\n",
       "    </tr>\n",
       "  </tbody>\n",
       "</table>\n",
       "</div>"
      ],
      "text/plain": [
       "                                         product_name  \\\n",
       "21  tizum HDMI to VGA Adapter Cable 1080P for Proj...   \n",
       "48  7SEVEN® Compatible for Samsung Smart 4K Ultra ...   \n",
       "55                          Tata Sky Universal Remote   \n",
       "60  Airtel DigitalTV DTH Television, Setup Box Rem...   \n",
       "90  Gizga Essentials USB WiFi Adapter for PC, 150 ...   \n",
       "\n",
       "                                             category  discounted_price  \\\n",
       "21  Electronics|HomeTheater,TV&Video|Accessories|C...               279   \n",
       "48  Electronics|HomeTheater,TV&Video|Accessories|R...               399   \n",
       "55  Electronics|HomeTheater,TV&Video|Accessories|R...               230   \n",
       "60  Electronics|HomeTheater,TV&Video|Accessories|R...               179   \n",
       "90  Computers&Accessories|NetworkingDevices|Networ...               269   \n",
       "\n",
       "    actual_price discount_percentage  rating  rating_count  valid_discount  \n",
       "21           499                 44%     3.7         10962            -220  \n",
       "48           999                 60%     3.6           493            -600  \n",
       "55           499                 54%     3.7          2960            -269  \n",
       "60           799                 78%     3.7          2201            -620  \n",
       "90           800                 66%     3.6         10134            -531  "
      ]
     },
     "execution_count": 106,
     "metadata": {},
     "output_type": "execute_result"
    }
   ],
   "source": [
    "df.head() # -ve is a proper discount"
   ]
  },
  {
   "cell_type": "code",
   "execution_count": 107,
   "metadata": {},
   "outputs": [
    {
     "data": {
      "text/plain": [
       "Index([  21,   48,   55,   60,   90,   95,   96,   97,  116,  119,\n",
       "       ...\n",
       "       1404, 1408, 1417, 1427, 1429, 1445, 1448, 1453, 1458, 1462],\n",
       "      dtype='int64', length=140)"
      ]
     },
     "execution_count": 107,
     "metadata": {},
     "output_type": "execute_result"
    }
   ],
   "source": [
    "df[df['valid_discount'] < 0].index"
   ]
  },
  {
   "cell_type": "code",
   "execution_count": 108,
   "metadata": {},
   "outputs": [
    {
     "data": {
      "text/plain": [
       "valid_discount\n",
       "-300     8\n",
       "-1450    4\n",
       "-5991    4\n",
       "-620     3\n",
       "-650     3\n",
       "        ..\n",
       "-1000    1\n",
       "-221     1\n",
       "-2500    1\n",
       "-1364    1\n",
       "-861     1\n",
       "Name: count, Length: 103, dtype: int64"
      ]
     },
     "execution_count": 108,
     "metadata": {},
     "output_type": "execute_result"
    }
   ],
   "source": [
    "df['valid_discount'].value_counts()"
   ]
  },
  {
   "cell_type": "code",
   "execution_count": 109,
   "metadata": {},
   "outputs": [
    {
     "data": {
      "image/png": "[encoded data removed]",
      "text/plain": [
       "<Figure size 640x480 with 1 Axes>"
      ]
     },
     "metadata": {},
     "output_type": "display_data"
    }
   ],
   "source": [
    "sns.boxplot(x = 'valid_discount',data = df)\n",
    "plt.show()"
   ]
  },
  {
   "cell_type": "code",
   "execution_count": 110,
   "metadata": {},
   "outputs": [
    {
     "name": "stdout",
     "output_type": "stream",
     "text": [
      "iqr -> 1163.0\n",
      "-3242.5 <--> 1409.5\n"
     ]
    },
    {
     "data": {
      "text/html": [
       "<div>\n",
       "<style scoped>\n",
       "    .dataframe tbody tr th:only-of-type {\n",
       "        vertical-align: middle;\n",
       "    }\n",
       "\n",
       "    .dataframe tbody tr th {\n",
       "        vertical-align: top;\n",
       "    }\n",
       "\n",
       "    .dataframe thead th {\n",
       "        text-align: right;\n",
       "    }\n",
       "</style>\n",
       "<table border=\"1\" class=\"dataframe\">\n",
       "  <thead>\n",
       "    <tr style=\"text-align: right;\">\n",
       "      <th></th>\n",
       "      <th>product_name</th>\n",
       "      <th>category</th>\n",
       "      <th>discounted_price</th>\n",
       "      <th>actual_price</th>\n",
       "      <th>discount_percentage</th>\n",
       "      <th>rating</th>\n",
       "      <th>rating_count</th>\n",
       "      <th>valid_discount</th>\n",
       "    </tr>\n",
       "  </thead>\n",
       "  <tbody>\n",
       "    <tr>\n",
       "      <th>336</th>\n",
       "      <td>boAt Wave Call Smart Watch, Smart Talk with Ad...</td>\n",
       "      <td>Electronics|WearableTechnology|SmartWatches</td>\n",
       "      <td>1999</td>\n",
       "      <td>7990</td>\n",
       "      <td>75%</td>\n",
       "      <td>3.8</td>\n",
       "      <td>17831</td>\n",
       "      <td>-5991</td>\n",
       "    </tr>\n",
       "    <tr>\n",
       "      <th>391</th>\n",
       "      <td>boAt Wave Call Smart Watch, Smart Talk with Ad...</td>\n",
       "      <td>Electronics|WearableTechnology|SmartWatches</td>\n",
       "      <td>1999</td>\n",
       "      <td>7990</td>\n",
       "      <td>75%</td>\n",
       "      <td>3.8</td>\n",
       "      <td>17831</td>\n",
       "      <td>-5991</td>\n",
       "    </tr>\n",
       "    <tr>\n",
       "      <th>421</th>\n",
       "      <td>boAt Wave Call Smart Watch, Smart Talk with Ad...</td>\n",
       "      <td>Electronics|WearableTechnology|SmartWatches</td>\n",
       "      <td>1999</td>\n",
       "      <td>7990</td>\n",
       "      <td>75%</td>\n",
       "      <td>3.8</td>\n",
       "      <td>17831</td>\n",
       "      <td>-5991</td>\n",
       "    </tr>\n",
       "    <tr>\n",
       "      <th>458</th>\n",
       "      <td>boAt Wave Call Smart Watch, Smart Talk with Ad...</td>\n",
       "      <td>Electronics|WearableTechnology|SmartWatches</td>\n",
       "      <td>1999</td>\n",
       "      <td>7990</td>\n",
       "      <td>75%</td>\n",
       "      <td>3.8</td>\n",
       "      <td>17833</td>\n",
       "      <td>-5991</td>\n",
       "    </tr>\n",
       "    <tr>\n",
       "      <th>515</th>\n",
       "      <td>Noise Agile 2 Buzz Bluetooth Calling Smart Wat...</td>\n",
       "      <td>Electronics|WearableTechnology|SmartWatches</td>\n",
       "      <td>2499</td>\n",
       "      <td>5999</td>\n",
       "      <td>58%</td>\n",
       "      <td>3.7</td>\n",
       "      <td>828</td>\n",
       "      <td>-3500</td>\n",
       "    </tr>\n",
       "    <tr>\n",
       "      <th>587</th>\n",
       "      <td>boAt Wave Call Smart Watch, Smart Talk with Ad...</td>\n",
       "      <td>Electronics|WearableTechnology|SmartWatches</td>\n",
       "      <td>1799</td>\n",
       "      <td>7990</td>\n",
       "      <td>77%</td>\n",
       "      <td>3.8</td>\n",
       "      <td>17833</td>\n",
       "      <td>-6191</td>\n",
       "    </tr>\n",
       "    <tr>\n",
       "      <th>647</th>\n",
       "      <td>Boult Audio ZCharge Bluetooth Wireless in Ear ...</td>\n",
       "      <td>Electronics|Headphones,Earbuds&amp;Accessories|Hea...</td>\n",
       "      <td>1199</td>\n",
       "      <td>4999</td>\n",
       "      <td>76%</td>\n",
       "      <td>3.8</td>\n",
       "      <td>14961</td>\n",
       "      <td>-3800</td>\n",
       "    </tr>\n",
       "    <tr>\n",
       "      <th>655</th>\n",
       "      <td>Boult Audio FXCharge with ENC, 32H Playtime, 5...</td>\n",
       "      <td>Electronics|Headphones,Earbuds&amp;Accessories|Hea...</td>\n",
       "      <td>999</td>\n",
       "      <td>4499</td>\n",
       "      <td>78%</td>\n",
       "      <td>3.8</td>\n",
       "      <td>3390</td>\n",
       "      <td>-3500</td>\n",
       "    </tr>\n",
       "    <tr>\n",
       "      <th>773</th>\n",
       "      <td>Boult Audio Omega with 30dB ANC+ ENC, 32H Play...</td>\n",
       "      <td>Electronics|Headphones,Earbuds&amp;Accessories|Hea...</td>\n",
       "      <td>1999</td>\n",
       "      <td>9999</td>\n",
       "      <td>80%</td>\n",
       "      <td>3.7</td>\n",
       "      <td>1986</td>\n",
       "      <td>-8000</td>\n",
       "    </tr>\n",
       "    <tr>\n",
       "      <th>932</th>\n",
       "      <td>Wings Phantom Pro Earphones Gaming Earbuds wit...</td>\n",
       "      <td>Computers&amp;Accessories|Accessories&amp;Peripherals|...</td>\n",
       "      <td>1199</td>\n",
       "      <td>5499</td>\n",
       "      <td>78%</td>\n",
       "      <td>3.8</td>\n",
       "      <td>2043</td>\n",
       "      <td>-4300</td>\n",
       "    </tr>\n",
       "    <tr>\n",
       "      <th>1378</th>\n",
       "      <td>TE™ Instant Electric Heating Hot and Cold Wate...</td>\n",
       "      <td>Home&amp;Kitchen|Heating,Cooling&amp;AirQuality|WaterH...</td>\n",
       "      <td>1449</td>\n",
       "      <td>4999</td>\n",
       "      <td>71%</td>\n",
       "      <td>3.6</td>\n",
       "      <td>63</td>\n",
       "      <td>-3550</td>\n",
       "    </tr>\n",
       "  </tbody>\n",
       "</table>\n",
       "</div>"
      ],
      "text/plain": [
       "                                           product_name  \\\n",
       "336   boAt Wave Call Smart Watch, Smart Talk with Ad...   \n",
       "391   boAt Wave Call Smart Watch, Smart Talk with Ad...   \n",
       "421   boAt Wave Call Smart Watch, Smart Talk with Ad...   \n",
       "458   boAt Wave Call Smart Watch, Smart Talk with Ad...   \n",
       "515   Noise Agile 2 Buzz Bluetooth Calling Smart Wat...   \n",
       "587   boAt Wave Call Smart Watch, Smart Talk with Ad...   \n",
       "647   Boult Audio ZCharge Bluetooth Wireless in Ear ...   \n",
       "655   Boult Audio FXCharge with ENC, 32H Playtime, 5...   \n",
       "773   Boult Audio Omega with 30dB ANC+ ENC, 32H Play...   \n",
       "932   Wings Phantom Pro Earphones Gaming Earbuds wit...   \n",
       "1378  TE™ Instant Electric Heating Hot and Cold Wate...   \n",
       "\n",
       "                                               category  discounted_price  \\\n",
       "336         Electronics|WearableTechnology|SmartWatches              1999   \n",
       "391         Electronics|WearableTechnology|SmartWatches              1999   \n",
       "421         Electronics|WearableTechnology|SmartWatches              1999   \n",
       "458         Electronics|WearableTechnology|SmartWatches              1999   \n",
       "515         Electronics|WearableTechnology|SmartWatches              2499   \n",
       "587         Electronics|WearableTechnology|SmartWatches              1799   \n",
       "647   Electronics|Headphones,Earbuds&Accessories|Hea...              1199   \n",
       "655   Electronics|Headphones,Earbuds&Accessories|Hea...               999   \n",
       "773   Electronics|Headphones,Earbuds&Accessories|Hea...              1999   \n",
       "932   Computers&Accessories|Accessories&Peripherals|...              1199   \n",
       "1378  Home&Kitchen|Heating,Cooling&AirQuality|WaterH...              1449   \n",
       "\n",
       "      actual_price discount_percentage  rating  rating_count  valid_discount  \n",
       "336           7990                 75%     3.8         17831           -5991  \n",
       "391           7990                 75%     3.8         17831           -5991  \n",
       "421           7990                 75%     3.8         17831           -5991  \n",
       "458           7990                 75%     3.8         17833           -5991  \n",
       "515           5999                 58%     3.7           828           -3500  \n",
       "587           7990                 77%     3.8         17833           -6191  \n",
       "647           4999                 76%     3.8         14961           -3800  \n",
       "655           4499                 78%     3.8          3390           -3500  \n",
       "773           9999                 80%     3.7          1986           -8000  \n",
       "932           5499                 78%     3.8          2043           -4300  \n",
       "1378          4999                 71%     3.6            63           -3550  "
      ]
     },
     "execution_count": 110,
     "metadata": {},
     "output_type": "execute_result"
    }
   ],
   "source": [
    "q1 = df['valid_discount'].quantile(0.25)\n",
    "q3 = df['valid_discount'].quantile(0.75)\n",
    "iqr = q3 - q1; print(f'iqr -> {iqr}')\n",
    "lowerbound = q1 - 1.5 * iqr\n",
    "upperbound = q3 + 1.5 * iqr\n",
    "print(f'{lowerbound} <--> {upperbound}')\n",
    "outliers = df[(df['valid_discount'] < lowerbound) | (df['valid_discount'] > upperbound)]\n",
    "outliers"
   ]
  },
  {
   "cell_type": "code",
   "execution_count": 111,
   "metadata": {},
   "outputs": [
    {
     "data": {
      "text/plain": [
       "Index([336, 391, 421, 458, 515, 587, 647, 655, 773, 932, 1378], dtype='int64')"
      ]
     },
     "execution_count": 111,
     "metadata": {},
     "output_type": "execute_result"
    }
   ],
   "source": [
    "outliers.index"
   ]
  },
  {
   "cell_type": "code",
   "execution_count": 112,
   "metadata": {},
   "outputs": [],
   "source": [
    "# Removing the outliers from the newly created column\n",
    "df.drop(outliers.index, inplace=True, axis=0)"
   ]
  },
  {
   "cell_type": "code",
   "execution_count": 113,
   "metadata": {},
   "outputs": [
    {
     "data": {
      "image/png": "[encoded data removed]",
      "text/plain": [
       "<Figure size 640x480 with 1 Axes>"
      ]
     },
     "metadata": {},
     "output_type": "display_data"
    }
   ],
   "source": [
    "sns.boxplot(x = 'valid_discount',data = df)\n",
    "plt.show()"
   ]
  },
  {
   "cell_type": "code",
   "execution_count": 114,
   "metadata": {},
   "outputs": [
    {
     "data": {
      "text/html": [
       "<div>\n",
       "<style scoped>\n",
       "    .dataframe tbody tr th:only-of-type {\n",
       "        vertical-align: middle;\n",
       "    }\n",
       "\n",
       "    .dataframe tbody tr th {\n",
       "        vertical-align: top;\n",
       "    }\n",
       "\n",
       "    .dataframe thead th {\n",
       "        text-align: right;\n",
       "    }\n",
       "</style>\n",
       "<table border=\"1\" class=\"dataframe\">\n",
       "  <thead>\n",
       "    <tr style=\"text-align: right;\">\n",
       "      <th></th>\n",
       "      <th>discounted_price</th>\n",
       "      <th>actual_price</th>\n",
       "      <th>rating</th>\n",
       "      <th>rating_count</th>\n",
       "      <th>valid_discount</th>\n",
       "    </tr>\n",
       "  </thead>\n",
       "  <tbody>\n",
       "    <tr>\n",
       "      <th>count</th>\n",
       "      <td>132.000000</td>\n",
       "      <td>132.000000</td>\n",
       "      <td>132.000000</td>\n",
       "      <td>132.0</td>\n",
       "      <td>132.000000</td>\n",
       "    </tr>\n",
       "    <tr>\n",
       "      <th>mean</th>\n",
       "      <td>938.393939</td>\n",
       "      <td>1846.363636</td>\n",
       "      <td>3.725000</td>\n",
       "      <td>3715.424242</td>\n",
       "      <td>-907.969697</td>\n",
       "    </tr>\n",
       "    <tr>\n",
       "      <th>std</th>\n",
       "      <td>852.234268</td>\n",
       "      <td>1398.425239</td>\n",
       "      <td>0.081377</td>\n",
       "      <td>5015.164608</td>\n",
       "      <td>699.813737</td>\n",
       "    </tr>\n",
       "    <tr>\n",
       "      <th>min</th>\n",
       "      <td>39.000000</td>\n",
       "      <td>39.000000</td>\n",
       "      <td>3.600000</td>\n",
       "      <td>4.0</td>\n",
       "      <td>-3201.000000</td>\n",
       "    </tr>\n",
       "    <tr>\n",
       "      <th>25%</th>\n",
       "      <td>268.000000</td>\n",
       "      <td>799.000000</td>\n",
       "      <td>3.700000</td>\n",
       "      <td>320.5</td>\n",
       "      <td>-1361.000000</td>\n",
       "    </tr>\n",
       "    <tr>\n",
       "      <th>50%</th>\n",
       "      <td>574.500000</td>\n",
       "      <td>1522.000000</td>\n",
       "      <td>3.700000</td>\n",
       "      <td>1177.0</td>\n",
       "      <td>-717.000000</td>\n",
       "    </tr>\n",
       "    <tr>\n",
       "      <th>75%</th>\n",
       "      <td>1364.000000</td>\n",
       "      <td>2562.250000</td>\n",
       "      <td>3.800000</td>\n",
       "      <td>4507.5</td>\n",
       "      <td>-302.750000</td>\n",
       "    </tr>\n",
       "    <tr>\n",
       "      <th>max</th>\n",
       "      <td>3710.000000</td>\n",
       "      <td>6500.000000</td>\n",
       "      <td>3.800000</td>\n",
       "      <td>20218.0</td>\n",
       "      <td>0.000000</td>\n",
       "    </tr>\n",
       "  </tbody>\n",
       "</table>\n",
       "</div>"
      ],
      "text/plain": [
       "       discounted_price  actual_price      rating  rating_count  \\\n",
       "count        132.000000    132.000000  132.000000         132.0   \n",
       "mean         938.393939   1846.363636    3.725000   3715.424242   \n",
       "std          852.234268   1398.425239    0.081377   5015.164608   \n",
       "min           39.000000     39.000000    3.600000           4.0   \n",
       "25%          268.000000    799.000000    3.700000         320.5   \n",
       "50%          574.500000   1522.000000    3.700000        1177.0   \n",
       "75%         1364.000000   2562.250000    3.800000        4507.5   \n",
       "max         3710.000000   6500.000000    3.800000       20218.0   \n",
       "\n",
       "       valid_discount  \n",
       "count      132.000000  \n",
       "mean      -907.969697  \n",
       "std        699.813737  \n",
       "min      -3201.000000  \n",
       "25%      -1361.000000  \n",
       "50%       -717.000000  \n",
       "75%       -302.750000  \n",
       "max          0.000000  "
      ]
     },
     "execution_count": 114,
     "metadata": {},
     "output_type": "execute_result"
    }
   ],
   "source": [
    "df.describe()"
   ]
  },
  {
   "cell_type": "code",
   "execution_count": 115,
   "metadata": {},
   "outputs": [
    {
     "name": "stdout",
     "output_type": "stream",
     "text": [
      "<class 'pandas.core.frame.DataFrame'>\n",
      "Index: 132 entries, 21 to 1462\n",
      "Data columns (total 8 columns):\n",
      " #   Column               Non-Null Count  Dtype  \n",
      "---  ------               --------------  -----  \n",
      " 0   product_name         132 non-null    object \n",
      " 1   category             132 non-null    object \n",
      " 2   discounted_price     132 non-null    int64  \n",
      " 3   actual_price         132 non-null    int64  \n",
      " 4   discount_percentage  132 non-null    object \n",
      " 5   rating               132 non-null    float64\n",
      " 6   rating_count         132 non-null    Int64  \n",
      " 7   valid_discount       132 non-null    int64  \n",
      "dtypes: Int64(1), float64(1), int64(3), object(3)\n",
      "memory usage: 9.4+ KB\n"
     ]
    }
   ],
   "source": [
    "df.info()"
   ]
  },
  {
   "cell_type": "code",
   "execution_count": 116,
   "metadata": {},
   "outputs": [
    {
     "data": {
      "text/plain": [
       "Index(['product_name', 'category', 'discounted_price', 'actual_price',\n",
       "       'discount_percentage', 'rating', 'rating_count', 'valid_discount'],\n",
       "      dtype='object')"
      ]
     },
     "execution_count": 116,
     "metadata": {},
     "output_type": "execute_result"
    }
   ],
   "source": [
    "df.columns"
   ]
  },
  {
   "cell_type": "code",
   "execution_count": 117,
   "metadata": {},
   "outputs": [],
   "source": [
    "df1 = df.copy()"
   ]
  },
  {
   "cell_type": "code",
   "execution_count": 118,
   "metadata": {},
   "outputs": [
    {
     "data": {
      "text/html": [
       "<div>\n",
       "<style scoped>\n",
       "    .dataframe tbody tr th:only-of-type {\n",
       "        vertical-align: middle;\n",
       "    }\n",
       "\n",
       "    .dataframe tbody tr th {\n",
       "        vertical-align: top;\n",
       "    }\n",
       "\n",
       "    .dataframe thead th {\n",
       "        text-align: right;\n",
       "    }\n",
       "</style>\n",
       "<table border=\"1\" class=\"dataframe\">\n",
       "  <thead>\n",
       "    <tr style=\"text-align: right;\">\n",
       "      <th></th>\n",
       "      <th>product_name</th>\n",
       "      <th>category</th>\n",
       "      <th>discounted_price</th>\n",
       "      <th>actual_price</th>\n",
       "      <th>discount_percentage</th>\n",
       "      <th>rating</th>\n",
       "      <th>rating_count</th>\n",
       "      <th>valid_discount</th>\n",
       "    </tr>\n",
       "  </thead>\n",
       "  <tbody>\n",
       "    <tr>\n",
       "      <th>21</th>\n",
       "      <td>tizum HDMI to VGA Adapter Cable 1080P for Proj...</td>\n",
       "      <td>Electronics|HomeTheater,TV&amp;Video|Accessories|C...</td>\n",
       "      <td>279</td>\n",
       "      <td>499</td>\n",
       "      <td>44%</td>\n",
       "      <td>3.7</td>\n",
       "      <td>10962</td>\n",
       "      <td>-220</td>\n",
       "    </tr>\n",
       "    <tr>\n",
       "      <th>48</th>\n",
       "      <td>7SEVEN® Compatible for Samsung Smart 4K Ultra ...</td>\n",
       "      <td>Electronics|HomeTheater,TV&amp;Video|Accessories|R...</td>\n",
       "      <td>399</td>\n",
       "      <td>999</td>\n",
       "      <td>60%</td>\n",
       "      <td>3.6</td>\n",
       "      <td>493</td>\n",
       "      <td>-600</td>\n",
       "    </tr>\n",
       "    <tr>\n",
       "      <th>55</th>\n",
       "      <td>Tata Sky Universal Remote</td>\n",
       "      <td>Electronics|HomeTheater,TV&amp;Video|Accessories|R...</td>\n",
       "      <td>230</td>\n",
       "      <td>499</td>\n",
       "      <td>54%</td>\n",
       "      <td>3.7</td>\n",
       "      <td>2960</td>\n",
       "      <td>-269</td>\n",
       "    </tr>\n",
       "    <tr>\n",
       "      <th>60</th>\n",
       "      <td>Airtel DigitalTV DTH Television, Setup Box Rem...</td>\n",
       "      <td>Electronics|HomeTheater,TV&amp;Video|Accessories|R...</td>\n",
       "      <td>179</td>\n",
       "      <td>799</td>\n",
       "      <td>78%</td>\n",
       "      <td>3.7</td>\n",
       "      <td>2201</td>\n",
       "      <td>-620</td>\n",
       "    </tr>\n",
       "    <tr>\n",
       "      <th>90</th>\n",
       "      <td>Gizga Essentials USB WiFi Adapter for PC, 150 ...</td>\n",
       "      <td>Computers&amp;Accessories|NetworkingDevices|Networ...</td>\n",
       "      <td>269</td>\n",
       "      <td>800</td>\n",
       "      <td>66%</td>\n",
       "      <td>3.6</td>\n",
       "      <td>10134</td>\n",
       "      <td>-531</td>\n",
       "    </tr>\n",
       "  </tbody>\n",
       "</table>\n",
       "</div>"
      ],
      "text/plain": [
       "                                         product_name  \\\n",
       "21  tizum HDMI to VGA Adapter Cable 1080P for Proj...   \n",
       "48  7SEVEN® Compatible for Samsung Smart 4K Ultra ...   \n",
       "55                          Tata Sky Universal Remote   \n",
       "60  Airtel DigitalTV DTH Television, Setup Box Rem...   \n",
       "90  Gizga Essentials USB WiFi Adapter for PC, 150 ...   \n",
       "\n",
       "                                             category  discounted_price  \\\n",
       "21  Electronics|HomeTheater,TV&Video|Accessories|C...               279   \n",
       "48  Electronics|HomeTheater,TV&Video|Accessories|R...               399   \n",
       "55  Electronics|HomeTheater,TV&Video|Accessories|R...               230   \n",
       "60  Electronics|HomeTheater,TV&Video|Accessories|R...               179   \n",
       "90  Computers&Accessories|NetworkingDevices|Networ...               269   \n",
       "\n",
       "    actual_price discount_percentage  rating  rating_count  valid_discount  \n",
       "21           499                 44%     3.7         10962            -220  \n",
       "48           999                 60%     3.6           493            -600  \n",
       "55           499                 54%     3.7          2960            -269  \n",
       "60           799                 78%     3.7          2201            -620  \n",
       "90           800                 66%     3.6         10134            -531  "
      ]
     },
     "execution_count": 118,
     "metadata": {},
     "output_type": "execute_result"
    }
   ],
   "source": [
    "df1.head()"
   ]
  },
  {
   "cell_type": "code",
   "execution_count": 119,
   "metadata": {},
   "outputs": [
    {
     "name": "stdout",
     "output_type": "stream",
     "text": [
      "Changes saved....\n"
     ]
    }
   ],
   "source": [
    "df.to_csv('updated_data_cleaning_amazon_dataset.csv',index=False)\n",
    "print(\"Changes saved....\")"
   ]
  }
 ],
 "metadata": {
  "kernelspec": {
   "display_name": "Python 3",
   "language": "python",
   "name": "python3"
  },
  "language_info": {
   "codemirror_mode": {
    "name": "ipython",
    "version": 3
   },
   "file_extension": ".py",
   "mimetype": "text/x-python",
   "name": "python",
   "nbconvert_exporter": "python",
   "pygments_lexer": "ipython3",
   "version": "3.13.0"
  }
 },
 "nbformat": 4,
 "nbformat_minor": 2
}
